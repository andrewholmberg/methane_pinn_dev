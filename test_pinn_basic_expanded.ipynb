{
 "cells": [
  {
   "cell_type": "code",
   "execution_count": 1,
   "metadata": {},
   "outputs": [],
   "source": [
    "import torch\n",
    "import imageio\n",
    "from PINN import PINN\n",
    "from Net import Net\n",
    "import numpy as np\n",
    "import pandas as pd\n",
    "import os\n",
    "import time\n",
    "import sklearn.mixture as mixture"
   ]
  },
  {
   "cell_type": "code",
   "execution_count": null,
   "metadata": {},
   "outputs": [],
   "source": []
  },
  {
   "cell_type": "code",
   "execution_count": 2,
   "metadata": {},
   "outputs": [],
   "source": [
    "data_dir = f\"{os.getcwd()}/pinn_test_data\"\n",
    "# load in data\n",
    "df_wind_ch4 = pd.read_csv(data_dir + \"/wind_ch4.csv\")\n",
    "df_true_emission = pd.read_csv(data_dir + \"/selected_controll_release.csv\")\n",
    "source_points = np.load(data_dir + \"/source_points.npy\") # shape=(n_source, 3)\n",
    "sensor_points = np.load(data_dir + \"/sensor_points.npy\") # shape=(n_sensor, 3)\n",
    "#col_points = np.load(data_dir + \"/col_points.npy\")  # shape=(n_col, 3)\n",
    "df_bounds = pd.read_csv(data_dir + \"/bounds.csv\", dtype='float32')\n",
    "x_min = df_bounds['x_min'][0]\n",
    "x_max = df_bounds['x_max'][0]\n",
    "y_min = df_bounds['y_min'][0]\n",
    "y_max = df_bounds['y_max'][0]\n",
    "z_min = df_bounds['z_min'][0]\n",
    "z_max = df_bounds['z_max'][0]\n",
    "\n",
    "x_max = 100\n",
    "y_max = 100\n",
    "z_max = 100\n",
    "tfinal = 4.\n",
    "source_location = np.array([[0,0,0],[.25,.75,.5]])*100\n",
    "\n",
    "ws = df_wind_ch4['wind_speed.m/s'].to_numpy() # shape=(N_t,)\n",
    "wd = df_wind_ch4['wind_direction'].to_numpy() # shape=(N_t,)\n",
    "ch4 = np.transpose(df_wind_ch4.iloc[:, 3:].to_numpy()) # shape=(N_obs, N_t)\n",
    "sensor_names = df_wind_ch4.columns[3:]"
   ]
  },
  {
   "cell_type": "code",
   "execution_count": 3,
   "metadata": {},
   "outputs": [
    {
     "name": "stderr",
     "output_type": "stream",
     "text": [
      "d:\\andyh\\Documents\\Projects\\mines\\methane_project\\methane_pinn_dev\\Net.py:12: UserWarning: nn.init.xavier_uniform is now deprecated in favor of nn.init.xavier_uniform_.\n",
      "  torch.nn.init.xavier_uniform(m.weight)\n"
     ]
    }
   ],
   "source": [
    "sigma=.025\n",
    "model = PINN([30,30,30,30,30])\n",
    "model.set_location(source_location,[tfinal,x_max,y_max,z_max],source_values=[0,1],sigma=sigma)\n"
   ]
  },
  {
   "cell_type": "code",
   "execution_count": 4,
   "metadata": {},
   "outputs": [
    {
     "data": {
      "text/plain": [
       "100"
      ]
     },
     "execution_count": 4,
     "metadata": {},
     "output_type": "execute_result"
    }
   ],
   "source": [
    "x_max"
   ]
  },
  {
   "cell_type": "code",
   "execution_count": 5,
   "metadata": {},
   "outputs": [],
   "source": [
    "optimizer = torch.optim.Adam(model.net.parameters(), lr=1e-3)\n",
    "# from torch.optim.lr_scheduler import ExponentialLR\n",
    "\n",
    "# scheduler = ExponentialLR(optimizer, gamma=0.999)  # Decay LR by 5% every epoch"
   ]
  },
  {
   "cell_type": "code",
   "execution_count": 6,
   "metadata": {},
   "outputs": [
    {
     "name": "stdout",
     "output_type": "stream",
     "text": [
      "epoch: 0, loss: 4.937e+04, grad_norm: 0.000e+00, pde_res: 4.937e+04, time: 3.314e-01\n",
      "epoch: 100, loss: 1.615e+01, grad_norm: 0.000e+00, pde_res: 1.615e+01, time: 7.368e-03\n",
      "epoch: 200, loss: 1.419e+01, grad_norm: 0.000e+00, pde_res: 1.419e+01, time: 7.433e-03\n",
      "epoch: 300, loss: 1.200e+01, grad_norm: 0.000e+00, pde_res: 1.200e+01, time: 8.262e-03\n",
      "epoch: 400, loss: 1.039e+01, grad_norm: 0.000e+00, pde_res: 1.039e+01, time: 6.620e-03\n",
      "epoch: 500, loss: 9.355e+00, grad_norm: 0.000e+00, pde_res: 9.355e+00, time: 7.386e-03\n",
      "epoch: 600, loss: 9.193e+00, grad_norm: 0.000e+00, pde_res: 9.193e+00, time: 7.301e-03\n",
      "epoch: 700, loss: 8.095e+00, grad_norm: 0.000e+00, pde_res: 8.095e+00, time: 8.311e-03\n",
      "epoch: 800, loss: 8.237e+00, grad_norm: 0.000e+00, pde_res: 8.237e+00, time: 7.376e-03\n",
      "epoch: 900, loss: 7.180e+00, grad_norm: 0.000e+00, pde_res: 7.180e+00, time: 7.179e-03\n",
      "epoch: 1000, loss: 6.930e+00, grad_norm: 0.000e+00, pde_res: 6.930e+00, time: 7.557e-03\n",
      "epoch: 1100, loss: 6.051e+00, grad_norm: 0.000e+00, pde_res: 6.051e+00, time: 7.594e-03\n",
      "epoch: 1200, loss: 6.445e+00, grad_norm: 0.000e+00, pde_res: 6.445e+00, time: 7.172e-03\n",
      "epoch: 1300, loss: 5.698e+00, grad_norm: 0.000e+00, pde_res: 5.698e+00, time: 6.567e-03\n",
      "epoch: 1400, loss: 6.201e+00, grad_norm: 0.000e+00, pde_res: 6.201e+00, time: 7.534e-03\n",
      "epoch: 1500, loss: 5.287e+00, grad_norm: 0.000e+00, pde_res: 5.287e+00, time: 7.273e-03\n",
      "epoch: 1600, loss: 5.132e+00, grad_norm: 0.000e+00, pde_res: 5.132e+00, time: 7.206e-03\n",
      "epoch: 1700, loss: 4.820e+00, grad_norm: 0.000e+00, pde_res: 4.820e+00, time: 8.038e-03\n",
      "epoch: 1800, loss: 4.740e+00, grad_norm: 0.000e+00, pde_res: 4.740e+00, time: 7.386e-03\n",
      "epoch: 1900, loss: 4.573e+00, grad_norm: 0.000e+00, pde_res: 4.573e+00, time: 6.189e-03\n",
      "epoch: 2000, loss: 4.308e+00, grad_norm: 0.000e+00, pde_res: 4.308e+00, time: 8.257e-03\n",
      "epoch: 2100, loss: 4.381e+00, grad_norm: 0.000e+00, pde_res: 4.381e+00, time: 6.982e-03\n",
      "epoch: 2200, loss: 4.090e+00, grad_norm: 0.000e+00, pde_res: 4.090e+00, time: 8.339e-03\n",
      "epoch: 2300, loss: 4.680e+00, grad_norm: 0.000e+00, pde_res: 4.680e+00, time: 7.279e-03\n",
      "epoch: 2400, loss: 4.049e+00, grad_norm: 0.000e+00, pde_res: 4.049e+00, time: 7.249e-03\n",
      "epoch: 2500, loss: 4.407e+00, grad_norm: 0.000e+00, pde_res: 4.407e+00, time: 8.378e-03\n",
      "epoch: 2600, loss: 3.967e+00, grad_norm: 0.000e+00, pde_res: 3.967e+00, time: 7.456e-03\n",
      "epoch: 2700, loss: 3.898e+00, grad_norm: 0.000e+00, pde_res: 3.898e+00, time: 7.567e-03\n",
      "epoch: 2800, loss: 3.985e+00, grad_norm: 0.000e+00, pde_res: 3.985e+00, time: 6.705e-03\n",
      "epoch: 2900, loss: 3.990e+00, grad_norm: 0.000e+00, pde_res: 3.990e+00, time: 7.186e-03\n",
      "epoch: 3000, loss: 3.514e+00, grad_norm: 0.000e+00, pde_res: 3.514e+00, time: 7.279e-03\n",
      "epoch: 3100, loss: 3.827e+00, grad_norm: 0.000e+00, pde_res: 3.827e+00, time: 7.234e-03\n",
      "epoch: 3200, loss: 3.620e+00, grad_norm: 0.000e+00, pde_res: 3.620e+00, time: 7.711e-03\n",
      "epoch: 3300, loss: 3.472e+00, grad_norm: 0.000e+00, pde_res: 3.472e+00, time: 8.180e-03\n",
      "epoch: 3400, loss: 3.525e+00, grad_norm: 0.000e+00, pde_res: 3.525e+00, time: 8.791e-03\n",
      "epoch: 3500, loss: 3.385e+00, grad_norm: 0.000e+00, pde_res: 3.385e+00, time: 7.389e-03\n",
      "epoch: 3600, loss: 3.219e+00, grad_norm: 0.000e+00, pde_res: 3.219e+00, time: 1.138e-02\n",
      "epoch: 3700, loss: 3.519e+00, grad_norm: 0.000e+00, pde_res: 3.519e+00, time: 6.448e-03\n",
      "epoch: 3800, loss: 3.339e+00, grad_norm: 0.000e+00, pde_res: 3.339e+00, time: 7.551e-03\n",
      "epoch: 3900, loss: 3.311e+00, grad_norm: 0.000e+00, pde_res: 3.311e+00, time: 7.262e-03\n",
      "epoch: 4000, loss: 3.314e+00, grad_norm: 0.000e+00, pde_res: 3.314e+00, time: 7.659e-03\n",
      "epoch: 4100, loss: 3.214e+00, grad_norm: 0.000e+00, pde_res: 3.214e+00, time: 7.457e-03\n",
      "epoch: 4200, loss: 3.137e+00, grad_norm: 0.000e+00, pde_res: 3.137e+00, time: 7.262e-03\n",
      "epoch: 4300, loss: 3.298e+00, grad_norm: 0.000e+00, pde_res: 3.298e+00, time: 7.263e-03\n",
      "epoch: 4400, loss: 3.282e+00, grad_norm: 0.000e+00, pde_res: 3.282e+00, time: 7.601e-03\n",
      "epoch: 4500, loss: 3.148e+00, grad_norm: 0.000e+00, pde_res: 3.148e+00, time: 6.400e-03\n",
      "epoch: 4600, loss: 2.944e+00, grad_norm: 0.000e+00, pde_res: 2.944e+00, time: 7.732e-03\n",
      "epoch: 4700, loss: 3.230e+00, grad_norm: 0.000e+00, pde_res: 3.230e+00, time: 7.148e-03\n",
      "epoch: 4800, loss: 3.099e+00, grad_norm: 0.000e+00, pde_res: 3.099e+00, time: 7.388e-03\n",
      "epoch: 4900, loss: 3.129e+00, grad_norm: 0.000e+00, pde_res: 3.129e+00, time: 7.193e-03\n"
     ]
    }
   ],
   "source": [
    "n= int(5e2)\n",
    "# n=1\n",
    "sn = int(5e3)\n",
    "best_loss = np.inf\n",
    "max_epochs = int(5e3)\n",
    "print_freq = 100\n",
    "\n",
    "sampling_freq = 10 # how often to resample collocation and source points\n",
    "\n",
    "for epoch in range(max_epochs):\n",
    "\n",
    "    start_time = time.time()\n",
    "\n",
    "    if epoch % sampling_freq == 0:\n",
    "        # points for source PDE loss. uvpoints are wind field at different times. source_values is the value of source at source_colloc_points (assumes Gaussian for now)\n",
    "        source_collocation_points = model.source_points(sn,sigma*2) \n",
    "        # source_uv_points = torch.ones(len(source_collocation_points),2)*.5\n",
    "        # initial condition collocation points with smaller time values 0.1*t_final. \n",
    "        # ic_col = torch.cat([torch.rand(sn,1)*tfinal*.1, torch.rand(sn,1)*x_max, torch.rand(sn,1)*y_max, torch.rand(sn,1)*z_max], dim=1)\n",
    "        collocation_points = torch.cat([torch.rand(n,1)*tfinal, torch.rand(n,1)*x_max, torch.rand(n,1)*y_max, torch.rand(n,1)*z_max], dim=1)\n",
    "        # collocation_points = torch.cat([collocation_points,ic_col,source_collocation_points])\n",
    "        collocation_points = torch.cat([collocation_points,source_collocation_points])\n",
    "        collocation_points.requires_grad_(True)\n",
    "        # collocation_points.requires_grad=True\n",
    "        uv = torch.ones(len(collocation_points),2)*.5#wind tensor\n",
    "        uv[:,1:]*= -1\n",
    "    optimizer.zero_grad()\n",
    "\n",
    "    loss_1 ,pde_1 = model.loss_function(collocation_points,uv) # PDE residual loss\n",
    "    # loss_2,pde_2 = model.loss_function(source_collocation_points, source_uv_points) # source term PDE residual loss \n",
    "    # loss_3 ,pde_3 = model.loss_function(torch.concat([collocation_points,source_collocation_points]),torch.concat([collocation_points,source_collocation_points]))\n",
    "\n",
    "    # loss = loss_1 + loss_2\n",
    "    # loss = loss_2*100\n",
    "    loss = loss_1\n",
    "\n",
    "    # # print loss at first epoch\n",
    "    # if epoch == 0:\n",
    "    #     print('epoch: %d, loss: %1.3e, pde_res: %1.3e, source_loss: %1.3e' % (epoch, loss.item(), loss_1.item(), loss_2.item()))\n",
    "\n",
    "    loss.backward()\n",
    "\n",
    "    # compute norm of gradient of the network\n",
    "    grad_norm = 0\n",
    "    # for p in model.net.parameters():\n",
    "    #     grad_norm += p.grad.data.norm(2).item()**2\n",
    "    # grad_norm = grad_norm**0.5\n",
    "\n",
    "\n",
    "    if loss.item() < best_loss:\n",
    "        torch.save(model,'best_mod.m')\n",
    "    optimizer.step()\n",
    "\n",
    "    end_time = time.time()\n",
    "    epoch_time = end_time - start_time\n",
    "    # scheduler.step()\n",
    "\n",
    "    if epoch % print_freq == 0:\n",
    "\n",
    "        # print epoch and loss using %1.3e format\n",
    "        # print('epoch: %d, loss: %1.3e, grad_norm: %1.3e, pde_res: %1.3e, source_loss: %1.3e, time: %1.3e' % (epoch, loss.item(), grad_norm, loss_1.item(), loss_2.item(), epoch_time))\n",
    "        print('epoch: %d, loss: %1.3e, grad_norm: %1.3e, pde_res: %1.3e, time: %1.3e' % (epoch, loss.item(), grad_norm, loss_1.item(), epoch_time))\n",
    "\n",
    "        # print(epoch, loss.item())\n",
    "        # print(loss_2.item(),loss_1.item())\n"
   ]
  },
  {
   "cell_type": "markdown",
   "metadata": {},
   "source": []
  },
  {
   "cell_type": "code",
   "execution_count": 7,
   "metadata": {},
   "outputs": [
    {
     "name": "stdout",
     "output_type": "stream",
     "text": [
      "100\n"
     ]
    }
   ],
   "source": [
    "print(x_max)"
   ]
  },
  {
   "cell_type": "code",
   "execution_count": 8,
   "metadata": {},
   "outputs": [],
   "source": [
    "model = torch.load('best_mod.m')"
   ]
  },
  {
   "cell_type": "code",
   "execution_count": 9,
   "metadata": {},
   "outputs": [
    {
     "data": {
      "text/plain": [
       "'\\n# Plot the concentration over time\\nfor t in time_steps:\\n    t_tensor = torch.full((grid_points.shape[0], 1), t, dtype=torch.float32)  # Time input\\n    concentration = net(grid_points, t_tensor).cpu().detach().numpy().reshape(100, 100)  # Predict and reshape\\n    \\n    plt.figure()\\n    plt.contourf(X, Y, concentration, levels=50, cmap=\\'viridis\\', vmin=0, vmax=10)  # Plot concentration as a contour plot\\n    plt.plot(source_loc[0,0].cpu(), source_loc[0,1].cpu(), \\'ro\\', label=\\'Source Location\\')  # Plot the source location\\n    plt.colorbar(label=\\'Concentration\\')\\n    # fix colorbar from 0 to 1 \\n    # plt.clim(0, 10.0)  # Set colorbar limits\\n    plt.title(f\"Gas Concentration at t = {t:.2f}\")\\n    plt.xlabel(\\'x\\')\\n    plt.ylabel(\\'y\\')\\n    # fix colorbar \\n    # plt.savefig(f\"concentration_t_{t:.2f}.png\")  # Save the plot as an image\\n'"
      ]
     },
     "execution_count": 9,
     "metadata": {},
     "output_type": "execute_result"
    }
   ],
   "source": [
    "import matplotlib.pyplot as plt\n",
    "\n",
    "# load the best model \n",
    "Z_value = .5*(100)\n",
    "# net.load_state_dict(torch.load('best_model.pth'))\n",
    "\n",
    "# Define the grid and time steps\n",
    "n= 100\n",
    "x_grid = np.linspace(0, x_max, n)\n",
    "y_grid = np.linspace(0, y_max, n)\n",
    "z_grid = np.linspace(0, z_max, n)\n",
    "\n",
    "X, Y, = np.meshgrid(x_grid, y_grid)\n",
    "Z= X * 0 + Z_value\n",
    "\n",
    "grid_points = np.vstack([X.ravel(), Y.ravel(), Z.ravel()]).T\n",
    "# grid_points = np.vstack([X.ravel(), Y.ravel(), Z.ravel()]).T  # Flatten the grid\n",
    "grid_points = torch.tensor(grid_points, dtype=torch.float32)\n",
    "\n",
    "time_steps = np.linspace(0, tfinal, 20)  # 10 time steps from 0 to 1\n",
    "\n",
    "\n",
    "'''\n",
    "# Plot the concentration over time\n",
    "for t in time_steps:\n",
    "    t_tensor = torch.full((grid_points.shape[0], 1), t, dtype=torch.float32)  # Time input\n",
    "    concentration = net(grid_points, t_tensor).cpu().detach().numpy().reshape(100, 100)  # Predict and reshape\n",
    "    \n",
    "    plt.figure()\n",
    "    plt.contourf(X, Y, concentration, levels=50, cmap='viridis', vmin=0, vmax=10)  # Plot concentration as a contour plot\n",
    "    plt.plot(source_loc[0,0].cpu(), source_loc[0,1].cpu(), 'ro', label='Source Location')  # Plot the source location\n",
    "    plt.colorbar(label='Concentration')\n",
    "    # fix colorbar from 0 to 1 \n",
    "    # plt.clim(0, 10.0)  # Set colorbar limits\n",
    "    plt.title(f\"Gas Concentration at t = {t:.2f}\")\n",
    "    plt.xlabel('x')\n",
    "    plt.ylabel('y')\n",
    "    # fix colorbar \n",
    "    # plt.savefig(f\"concentration_t_{t:.2f}.png\")  # Save the plot as an image\n",
    "'''"
   ]
  },
  {
   "cell_type": "code",
   "execution_count": 10,
   "metadata": {},
   "outputs": [
    {
     "name": "stderr",
     "output_type": "stream",
     "text": [
      "C:\\Users\\andyh\\AppData\\Local\\Temp\\ipykernel_17740\\2046882687.py:22: DeprecationWarning: Starting with ImageIO v3 the behavior of this function will switch to that of iio.v3.imread. To keep the current behavior (and make this warning disappear) use `import imageio.v2 as imageio` or call `imageio.v2.imread` directly.\n",
      "  images.append(imageio.imread(f\"concentration_t_{t:.2f}.png\"))  # Append the image to the list\n"
     ]
    }
   ],
   "source": [
    "# save as a GIF\n",
    "import imageio\n",
    "import os\n",
    "\n",
    "images = []\n",
    "# source_loc = torch.tensor([[.5,.5,.5]])\n",
    "source_loc = model.source_locs\n",
    "for t in time_steps:\n",
    "    t_tensor = torch.full((grid_points.shape[0], 1), t, dtype=torch.float32)  # Time input\n",
    "    concentration = model.forward(torch.cat([t_tensor,grid_points],dim=1),scaled=True).cpu().detach().numpy().reshape(100, 100)  # Predict and reshape\n",
    "    \n",
    "    plt.figure()\n",
    "    plt.contourf(X, Y, concentration, levels=50, cmap='viridis', vmin=0, vmax=10)  # Plot concentration as a contour plot\n",
    "    plt.plot(model.source_locs[0,0], model.source_locs[0,1], 'ro', label='Source Location')  # Plot the source location\n",
    "    plt.colorbar(label='Concentration')\n",
    "    plt.title(f\"Gas Concentration at t = {t:.2f}\")\n",
    "    plt.xlabel('x')\n",
    "    plt.ylabel('y')\n",
    "    plt.savefig(f\"concentration_t_{t:.2f}.png\")  # Save the plot as an image\n",
    "    plt.close()\n",
    "    \n",
    "    images.append(imageio.imread(f\"concentration_t_{t:.2f}.png\"))  # Append the image to the list\n",
    "    os.remove(f\"concentration_t_{t:.2f}.png\")  # Remove the image file\n",
    "\n",
    "imageio.mimsave(f'test_visual_basic.gif', images)  # Save the images as a GIF\n",
    "\n"
   ]
  },
  {
   "cell_type": "code",
   "execution_count": 11,
   "metadata": {},
   "outputs": [
    {
     "name": "stdout",
     "output_type": "stream",
     "text": [
      "6\n"
     ]
    }
   ],
   "source": [
    "print(len(model.net.hidden))"
   ]
  },
  {
   "cell_type": "code",
   "execution_count": 12,
   "metadata": {},
   "outputs": [
    {
     "name": "stdout",
     "output_type": "stream",
     "text": [
      "[[61.84826691 40.32822479  4.5       ]\n",
      " [99.10094831 54.69940709  2.        ]\n",
      " [99.89962676 24.72759871  2.        ]\n",
      " [23.54499552 57.03946784  2.        ]\n",
      " [25.09781584 22.62636785  2.        ]]\n"
     ]
    }
   ],
   "source": [
    "print(source_points)"
   ]
  },
  {
   "cell_type": "code",
   "execution_count": null,
   "metadata": {},
   "outputs": [],
   "source": []
  }
 ],
 "metadata": {
  "kernelspec": {
   "display_name": "Python 3",
   "language": "python",
   "name": "python3"
  },
  "language_info": {
   "codemirror_mode": {
    "name": "ipython",
    "version": 3
   },
   "file_extension": ".py",
   "mimetype": "text/x-python",
   "name": "python",
   "nbconvert_exporter": "python",
   "pygments_lexer": "ipython3",
   "version": "3.11.4"
  }
 },
 "nbformat": 4,
 "nbformat_minor": 2
}
