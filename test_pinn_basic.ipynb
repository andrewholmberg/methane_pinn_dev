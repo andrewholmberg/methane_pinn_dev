{
 "cells": [
  {
   "cell_type": "code",
   "execution_count": 1,
   "metadata": {},
   "outputs": [],
   "source": [
    "import torch\n",
    "import imageio\n",
    "from PINN import PINN\n",
    "from Net import Net\n",
    "import numpy as np\n",
    "import pandas as pd\n",
    "import os\n",
    "import time\n",
    "import sklearn.mixture as mixture"
   ]
  },
  {
   "cell_type": "code",
   "execution_count": null,
   "metadata": {},
   "outputs": [],
   "source": []
  },
  {
   "cell_type": "code",
   "execution_count": 2,
   "metadata": {},
   "outputs": [],
   "source": [
    "data_dir = f\"{os.getcwd()}/pinn_test_data\"\n",
    "# load in data\n",
    "df_wind_ch4 = pd.read_csv(data_dir + \"/wind_ch4.csv\")\n",
    "df_true_emission = pd.read_csv(data_dir + \"/selected_controll_release.csv\")\n",
    "source_points = np.load(data_dir + \"/source_points.npy\") # shape=(n_source, 3)\n",
    "sensor_points = np.load(data_dir + \"/sensor_points.npy\") # shape=(n_sensor, 3)\n",
    "#col_points = np.load(data_dir + \"/col_points.npy\")  # shape=(n_col, 3)\n",
    "df_bounds = pd.read_csv(data_dir + \"/bounds.csv\", dtype='float32')\n",
    "x_min = df_bounds['x_min'][0]\n",
    "x_max = df_bounds['x_max'][0]\n",
    "y_min = df_bounds['y_min'][0]\n",
    "y_max = df_bounds['y_max'][0]\n",
    "z_min = df_bounds['z_min'][0]\n",
    "z_max = df_bounds['z_max'][0]\n",
    "\n",
    "x_max = 1\n",
    "y_max = 1\n",
    "z_max = 1\n",
    "tfinal = 4.\n",
    "source_location = np.array([[.3,.3,.3],[.25,.75,.5]])\n",
    "\n",
    "ws = df_wind_ch4['wind_speed.m/s'].to_numpy() # shape=(N_t,)\n",
    "wd = df_wind_ch4['wind_direction'].to_numpy() # shape=(N_t,)\n",
    "ch4 = np.transpose(df_wind_ch4.iloc[:, 3:].to_numpy()) # shape=(N_obs, N_t)\n",
    "sensor_names = df_wind_ch4.columns[3:]"
   ]
  },
  {
   "cell_type": "code",
   "execution_count": 3,
   "metadata": {},
   "outputs": [
    {
     "name": "stderr",
     "output_type": "stream",
     "text": [
      "d:\\andyh\\Documents\\Projects\\mines\\methane_project\\methane_pinn_dev\\Net.py:12: UserWarning: nn.init.xavier_uniform is now deprecated in favor of nn.init.xavier_uniform_.\n",
      "  torch.nn.init.xavier_uniform(m.weight)\n"
     ]
    }
   ],
   "source": [
    "sigma=.025\n",
    "model = PINN([30,30,30,30,30])\n",
    "model.set_location(source_location,[tfinal,x_max,y_max,z_max],source_values=[0,1],sigma=sigma)\n"
   ]
  },
  {
   "cell_type": "code",
   "execution_count": 4,
   "metadata": {},
   "outputs": [
    {
     "data": {
      "text/plain": [
       "1"
      ]
     },
     "execution_count": 4,
     "metadata": {},
     "output_type": "execute_result"
    }
   ],
   "source": [
    "x_max"
   ]
  },
  {
   "cell_type": "code",
   "execution_count": 5,
   "metadata": {},
   "outputs": [],
   "source": [
    "optimizer = torch.optim.Adam(model.net.parameters(), lr=1e-3)\n",
    "# from torch.optim.lr_scheduler import ExponentialLR\n",
    "\n",
    "# scheduler = ExponentialLR(optimizer, gamma=0.999)  # Decay LR by 5% every epoch"
   ]
  },
  {
   "cell_type": "code",
   "execution_count": 6,
   "metadata": {},
   "outputs": [
    {
     "name": "stdout",
     "output_type": "stream",
     "text": [
      "epoch: 0, loss: 5.580e+01, grad_norm: 0.000e+00, pde_res: 5.580e+01, time: 3.323e-01\n",
      "epoch: 100, loss: 2.299e+01, grad_norm: 0.000e+00, pde_res: 2.299e+01, time: 6.224e-03\n",
      "epoch: 200, loss: 1.443e+01, grad_norm: 0.000e+00, pde_res: 1.443e+01, time: 7.250e-03\n",
      "epoch: 300, loss: 2.095e+01, grad_norm: 0.000e+00, pde_res: 2.095e+01, time: 6.299e-03\n",
      "epoch: 400, loss: 1.667e+01, grad_norm: 0.000e+00, pde_res: 1.667e+01, time: 6.433e-03\n",
      "epoch: 500, loss: 9.461e+00, grad_norm: 0.000e+00, pde_res: 9.461e+00, time: 7.529e-03\n",
      "epoch: 600, loss: 8.610e+00, grad_norm: 0.000e+00, pde_res: 8.610e+00, time: 6.251e-03\n",
      "epoch: 700, loss: 6.300e+00, grad_norm: 0.000e+00, pde_res: 6.300e+00, time: 6.289e-03\n",
      "epoch: 800, loss: 5.930e+00, grad_norm: 0.000e+00, pde_res: 5.930e+00, time: 7.406e-03\n",
      "epoch: 900, loss: 8.112e+00, grad_norm: 0.000e+00, pde_res: 8.112e+00, time: 6.262e-03\n",
      "epoch: 1000, loss: 6.878e+00, grad_norm: 0.000e+00, pde_res: 6.878e+00, time: 7.709e-03\n",
      "epoch: 1100, loss: 3.938e+00, grad_norm: 0.000e+00, pde_res: 3.938e+00, time: 8.046e-03\n",
      "epoch: 1200, loss: 3.271e+00, grad_norm: 0.000e+00, pde_res: 3.271e+00, time: 6.315e-03\n",
      "epoch: 1300, loss: 4.436e+00, grad_norm: 0.000e+00, pde_res: 4.436e+00, time: 6.512e-03\n",
      "epoch: 1400, loss: 4.584e+00, grad_norm: 0.000e+00, pde_res: 4.584e+00, time: 7.261e-03\n",
      "epoch: 1500, loss: 3.376e+00, grad_norm: 0.000e+00, pde_res: 3.376e+00, time: 7.185e-03\n",
      "epoch: 1600, loss: 3.572e+00, grad_norm: 0.000e+00, pde_res: 3.572e+00, time: 7.495e-03\n",
      "epoch: 1700, loss: 3.488e+00, grad_norm: 0.000e+00, pde_res: 3.488e+00, time: 6.067e-03\n",
      "epoch: 1800, loss: 2.117e+00, grad_norm: 0.000e+00, pde_res: 2.117e+00, time: 7.409e-03\n",
      "epoch: 1900, loss: 4.159e+00, grad_norm: 0.000e+00, pde_res: 4.159e+00, time: 6.287e-03\n",
      "epoch: 2000, loss: 2.099e+00, grad_norm: 0.000e+00, pde_res: 2.099e+00, time: 6.359e-03\n",
      "epoch: 2100, loss: 3.483e+00, grad_norm: 0.000e+00, pde_res: 3.483e+00, time: 6.413e-03\n",
      "epoch: 2200, loss: 3.078e+00, grad_norm: 0.000e+00, pde_res: 3.078e+00, time: 6.202e-03\n",
      "epoch: 2300, loss: 2.282e+00, grad_norm: 0.000e+00, pde_res: 2.282e+00, time: 6.442e-03\n",
      "epoch: 2400, loss: 1.422e+00, grad_norm: 0.000e+00, pde_res: 1.422e+00, time: 6.272e-03\n",
      "epoch: 2500, loss: 2.032e+00, grad_norm: 0.000e+00, pde_res: 2.032e+00, time: 6.490e-03\n",
      "epoch: 2600, loss: 1.052e+00, grad_norm: 0.000e+00, pde_res: 1.052e+00, time: 6.122e-03\n",
      "epoch: 2700, loss: 1.458e+00, grad_norm: 0.000e+00, pde_res: 1.458e+00, time: 7.795e-03\n",
      "epoch: 2800, loss: 1.483e+00, grad_norm: 0.000e+00, pde_res: 1.483e+00, time: 7.665e-03\n",
      "epoch: 2900, loss: 1.290e+00, grad_norm: 0.000e+00, pde_res: 1.290e+00, time: 7.245e-03\n",
      "epoch: 3000, loss: 2.060e+00, grad_norm: 0.000e+00, pde_res: 2.060e+00, time: 6.531e-03\n",
      "epoch: 3100, loss: 1.153e+00, grad_norm: 0.000e+00, pde_res: 1.153e+00, time: 7.603e-03\n",
      "epoch: 3200, loss: 1.554e+00, grad_norm: 0.000e+00, pde_res: 1.554e+00, time: 7.609e-03\n",
      "epoch: 3300, loss: 4.532e+00, grad_norm: 0.000e+00, pde_res: 4.532e+00, time: 6.356e-03\n",
      "epoch: 3400, loss: 1.441e+00, grad_norm: 0.000e+00, pde_res: 1.441e+00, time: 6.507e-03\n",
      "epoch: 3500, loss: 9.880e-01, grad_norm: 0.000e+00, pde_res: 9.880e-01, time: 6.066e-03\n",
      "epoch: 3600, loss: 1.748e+00, grad_norm: 0.000e+00, pde_res: 1.748e+00, time: 7.516e-03\n",
      "epoch: 3700, loss: 1.330e+00, grad_norm: 0.000e+00, pde_res: 1.330e+00, time: 7.202e-03\n",
      "epoch: 3800, loss: 1.884e+00, grad_norm: 0.000e+00, pde_res: 1.884e+00, time: 6.350e-03\n",
      "epoch: 3900, loss: 8.146e-01, grad_norm: 0.000e+00, pde_res: 8.146e-01, time: 7.512e-03\n",
      "epoch: 4000, loss: 6.060e-01, grad_norm: 0.000e+00, pde_res: 6.060e-01, time: 7.377e-03\n",
      "epoch: 4100, loss: 1.108e+00, grad_norm: 0.000e+00, pde_res: 1.108e+00, time: 7.438e-03\n",
      "epoch: 4200, loss: 1.282e+00, grad_norm: 0.000e+00, pde_res: 1.282e+00, time: 8.195e-03\n",
      "epoch: 4300, loss: 8.452e-01, grad_norm: 0.000e+00, pde_res: 8.452e-01, time: 5.566e-03\n",
      "epoch: 4400, loss: 9.714e-01, grad_norm: 0.000e+00, pde_res: 9.714e-01, time: 6.257e-03\n",
      "epoch: 4500, loss: 1.149e+00, grad_norm: 0.000e+00, pde_res: 1.149e+00, time: 7.995e-03\n",
      "epoch: 4600, loss: 1.372e+00, grad_norm: 0.000e+00, pde_res: 1.372e+00, time: 7.422e-03\n",
      "epoch: 4700, loss: 5.042e-01, grad_norm: 0.000e+00, pde_res: 5.042e-01, time: 7.671e-03\n",
      "epoch: 4800, loss: 8.849e-01, grad_norm: 0.000e+00, pde_res: 8.849e-01, time: 7.398e-03\n",
      "epoch: 4900, loss: 5.224e-01, grad_norm: 0.000e+00, pde_res: 5.224e-01, time: 6.320e-03\n",
      "epoch: 5000, loss: 5.473e-01, grad_norm: 0.000e+00, pde_res: 5.473e-01, time: 7.849e-03\n",
      "epoch: 5100, loss: 5.335e-01, grad_norm: 0.000e+00, pde_res: 5.335e-01, time: 7.159e-03\n",
      "epoch: 5200, loss: 4.589e-01, grad_norm: 0.000e+00, pde_res: 4.589e-01, time: 7.468e-03\n",
      "epoch: 5300, loss: 1.333e+00, grad_norm: 0.000e+00, pde_res: 1.333e+00, time: 6.134e-03\n",
      "epoch: 5400, loss: 6.523e-01, grad_norm: 0.000e+00, pde_res: 6.523e-01, time: 6.931e-03\n",
      "epoch: 5500, loss: 1.016e+00, grad_norm: 0.000e+00, pde_res: 1.016e+00, time: 7.494e-03\n",
      "epoch: 5600, loss: 4.247e-01, grad_norm: 0.000e+00, pde_res: 4.247e-01, time: 7.545e-03\n",
      "epoch: 5700, loss: 8.306e-01, grad_norm: 0.000e+00, pde_res: 8.306e-01, time: 7.320e-03\n",
      "epoch: 5800, loss: 5.741e-01, grad_norm: 0.000e+00, pde_res: 5.741e-01, time: 6.260e-03\n",
      "epoch: 5900, loss: 6.910e-01, grad_norm: 0.000e+00, pde_res: 6.910e-01, time: 6.351e-03\n",
      "epoch: 6000, loss: 6.447e-01, grad_norm: 0.000e+00, pde_res: 6.447e-01, time: 7.323e-03\n",
      "epoch: 6100, loss: 6.454e-01, grad_norm: 0.000e+00, pde_res: 6.454e-01, time: 7.713e-03\n",
      "epoch: 6200, loss: 6.855e-01, grad_norm: 0.000e+00, pde_res: 6.855e-01, time: 6.445e-03\n",
      "epoch: 6300, loss: 6.231e-01, grad_norm: 0.000e+00, pde_res: 6.231e-01, time: 7.917e-03\n",
      "epoch: 6400, loss: 7.158e-01, grad_norm: 0.000e+00, pde_res: 7.158e-01, time: 6.247e-03\n",
      "epoch: 6500, loss: 6.628e-01, grad_norm: 0.000e+00, pde_res: 6.628e-01, time: 6.195e-03\n",
      "epoch: 6600, loss: 5.252e-01, grad_norm: 0.000e+00, pde_res: 5.252e-01, time: 7.311e-03\n",
      "epoch: 6700, loss: 4.385e-01, grad_norm: 0.000e+00, pde_res: 4.385e-01, time: 6.273e-03\n",
      "epoch: 6800, loss: 6.359e-01, grad_norm: 0.000e+00, pde_res: 6.359e-01, time: 7.629e-03\n",
      "epoch: 6900, loss: 4.864e-01, grad_norm: 0.000e+00, pde_res: 4.864e-01, time: 7.954e-03\n",
      "epoch: 7000, loss: 3.366e-01, grad_norm: 0.000e+00, pde_res: 3.366e-01, time: 6.188e-03\n",
      "epoch: 7100, loss: 4.498e-01, grad_norm: 0.000e+00, pde_res: 4.498e-01, time: 7.177e-03\n",
      "epoch: 7200, loss: 7.472e-01, grad_norm: 0.000e+00, pde_res: 7.472e-01, time: 7.522e-03\n",
      "epoch: 7300, loss: 3.617e-01, grad_norm: 0.000e+00, pde_res: 3.617e-01, time: 6.465e-03\n",
      "epoch: 7400, loss: 3.914e-01, grad_norm: 0.000e+00, pde_res: 3.914e-01, time: 6.506e-03\n",
      "epoch: 7500, loss: 1.977e-01, grad_norm: 0.000e+00, pde_res: 1.977e-01, time: 7.327e-03\n",
      "epoch: 7600, loss: 3.526e-01, grad_norm: 0.000e+00, pde_res: 3.526e-01, time: 6.601e-03\n",
      "epoch: 7700, loss: 3.756e-01, grad_norm: 0.000e+00, pde_res: 3.756e-01, time: 7.075e-03\n",
      "epoch: 7800, loss: 4.771e-01, grad_norm: 0.000e+00, pde_res: 4.771e-01, time: 6.307e-03\n",
      "epoch: 7900, loss: 6.909e-01, grad_norm: 0.000e+00, pde_res: 6.909e-01, time: 6.726e-03\n",
      "epoch: 8000, loss: 2.649e-01, grad_norm: 0.000e+00, pde_res: 2.649e-01, time: 6.243e-03\n",
      "epoch: 8100, loss: 5.143e-01, grad_norm: 0.000e+00, pde_res: 5.143e-01, time: 6.356e-03\n",
      "epoch: 8200, loss: 2.156e-01, grad_norm: 0.000e+00, pde_res: 2.156e-01, time: 7.087e-03\n",
      "epoch: 8300, loss: 4.067e-01, grad_norm: 0.000e+00, pde_res: 4.067e-01, time: 7.901e-03\n",
      "epoch: 8400, loss: 2.372e-01, grad_norm: 0.000e+00, pde_res: 2.372e-01, time: 6.407e-03\n",
      "epoch: 8500, loss: 3.291e-01, grad_norm: 0.000e+00, pde_res: 3.291e-01, time: 6.296e-03\n",
      "epoch: 8600, loss: 2.655e-01, grad_norm: 0.000e+00, pde_res: 2.655e-01, time: 7.761e-03\n",
      "epoch: 8700, loss: 2.939e-01, grad_norm: 0.000e+00, pde_res: 2.939e-01, time: 6.407e-03\n",
      "epoch: 8800, loss: 3.353e-01, grad_norm: 0.000e+00, pde_res: 3.353e-01, time: 6.618e-03\n",
      "epoch: 8900, loss: 1.540e-01, grad_norm: 0.000e+00, pde_res: 1.540e-01, time: 6.148e-03\n",
      "epoch: 9000, loss: 2.837e-01, grad_norm: 0.000e+00, pde_res: 2.837e-01, time: 6.347e-03\n",
      "epoch: 9100, loss: 2.590e-01, grad_norm: 0.000e+00, pde_res: 2.590e-01, time: 6.269e-03\n",
      "epoch: 9200, loss: 3.146e-01, grad_norm: 0.000e+00, pde_res: 3.146e-01, time: 7.687e-03\n",
      "epoch: 9300, loss: 2.830e-01, grad_norm: 0.000e+00, pde_res: 2.830e-01, time: 6.290e-03\n",
      "epoch: 9400, loss: 1.851e-01, grad_norm: 0.000e+00, pde_res: 1.851e-01, time: 6.687e-03\n",
      "epoch: 9500, loss: 2.515e-01, grad_norm: 0.000e+00, pde_res: 2.515e-01, time: 6.403e-03\n",
      "epoch: 9600, loss: 2.763e-01, grad_norm: 0.000e+00, pde_res: 2.763e-01, time: 7.234e-03\n",
      "epoch: 9700, loss: 1.838e-01, grad_norm: 0.000e+00, pde_res: 1.838e-01, time: 7.591e-03\n",
      "epoch: 9800, loss: 2.102e-01, grad_norm: 0.000e+00, pde_res: 2.102e-01, time: 7.449e-03\n",
      "epoch: 9900, loss: 2.760e-01, grad_norm: 0.000e+00, pde_res: 2.760e-01, time: 7.508e-03\n",
      "epoch: 10000, loss: 3.899e-01, grad_norm: 0.000e+00, pde_res: 3.899e-01, time: 6.154e-03\n",
      "epoch: 10100, loss: 2.427e-01, grad_norm: 0.000e+00, pde_res: 2.427e-01, time: 6.229e-03\n",
      "epoch: 10200, loss: 2.344e-01, grad_norm: 0.000e+00, pde_res: 2.344e-01, time: 6.594e-03\n",
      "epoch: 10300, loss: 2.048e-01, grad_norm: 0.000e+00, pde_res: 2.048e-01, time: 7.104e-03\n",
      "epoch: 10400, loss: 1.699e-01, grad_norm: 0.000e+00, pde_res: 1.699e-01, time: 6.225e-03\n",
      "epoch: 10500, loss: 2.128e-01, grad_norm: 0.000e+00, pde_res: 2.128e-01, time: 6.911e-03\n",
      "epoch: 10600, loss: 2.880e-01, grad_norm: 0.000e+00, pde_res: 2.880e-01, time: 7.319e-03\n",
      "epoch: 10700, loss: 1.716e-01, grad_norm: 0.000e+00, pde_res: 1.716e-01, time: 7.379e-03\n",
      "epoch: 10800, loss: 2.424e-01, grad_norm: 0.000e+00, pde_res: 2.424e-01, time: 7.263e-03\n",
      "epoch: 10900, loss: 2.049e-01, grad_norm: 0.000e+00, pde_res: 2.049e-01, time: 7.504e-03\n",
      "epoch: 11000, loss: 1.995e-01, grad_norm: 0.000e+00, pde_res: 1.995e-01, time: 6.346e-03\n",
      "epoch: 11100, loss: 1.819e-01, grad_norm: 0.000e+00, pde_res: 1.819e-01, time: 7.612e-03\n",
      "epoch: 11200, loss: 2.162e-01, grad_norm: 0.000e+00, pde_res: 2.162e-01, time: 6.202e-03\n",
      "epoch: 11300, loss: 2.198e-01, grad_norm: 0.000e+00, pde_res: 2.198e-01, time: 7.276e-03\n",
      "epoch: 11400, loss: 2.263e-01, grad_norm: 0.000e+00, pde_res: 2.263e-01, time: 7.277e-03\n",
      "epoch: 11500, loss: 1.768e-01, grad_norm: 0.000e+00, pde_res: 1.768e-01, time: 7.384e-03\n",
      "epoch: 11600, loss: 1.406e-01, grad_norm: 0.000e+00, pde_res: 1.406e-01, time: 7.417e-03\n",
      "epoch: 11700, loss: 1.259e-01, grad_norm: 0.000e+00, pde_res: 1.259e-01, time: 6.112e-03\n",
      "epoch: 11800, loss: 1.694e-01, grad_norm: 0.000e+00, pde_res: 1.694e-01, time: 7.389e-03\n",
      "epoch: 11900, loss: 1.327e-01, grad_norm: 0.000e+00, pde_res: 1.327e-01, time: 7.207e-03\n",
      "epoch: 12000, loss: 1.132e-01, grad_norm: 0.000e+00, pde_res: 1.132e-01, time: 6.650e-03\n",
      "epoch: 12100, loss: 2.019e-01, grad_norm: 0.000e+00, pde_res: 2.019e-01, time: 6.085e-03\n",
      "epoch: 12200, loss: 2.187e-01, grad_norm: 0.000e+00, pde_res: 2.187e-01, time: 7.241e-03\n",
      "epoch: 12300, loss: 1.492e-01, grad_norm: 0.000e+00, pde_res: 1.492e-01, time: 6.519e-03\n",
      "epoch: 12400, loss: 1.417e-01, grad_norm: 0.000e+00, pde_res: 1.417e-01, time: 7.162e-03\n",
      "epoch: 12500, loss: 1.921e-01, grad_norm: 0.000e+00, pde_res: 1.921e-01, time: 6.413e-03\n",
      "epoch: 12600, loss: 1.469e-01, grad_norm: 0.000e+00, pde_res: 1.469e-01, time: 6.172e-03\n",
      "epoch: 12700, loss: 1.178e-01, grad_norm: 0.000e+00, pde_res: 1.178e-01, time: 6.495e-03\n",
      "epoch: 12800, loss: 1.560e-01, grad_norm: 0.000e+00, pde_res: 1.560e-01, time: 7.432e-03\n",
      "epoch: 12900, loss: 1.419e-01, grad_norm: 0.000e+00, pde_res: 1.419e-01, time: 7.315e-03\n",
      "epoch: 13000, loss: 1.284e-01, grad_norm: 0.000e+00, pde_res: 1.284e-01, time: 7.658e-03\n",
      "epoch: 13100, loss: 1.752e-01, grad_norm: 0.000e+00, pde_res: 1.752e-01, time: 6.096e-03\n",
      "epoch: 13200, loss: 1.286e-01, grad_norm: 0.000e+00, pde_res: 1.286e-01, time: 6.309e-03\n",
      "epoch: 13300, loss: 1.110e-01, grad_norm: 0.000e+00, pde_res: 1.110e-01, time: 7.651e-03\n",
      "epoch: 13400, loss: 1.395e-01, grad_norm: 0.000e+00, pde_res: 1.395e-01, time: 7.373e-03\n",
      "epoch: 13500, loss: 1.159e-01, grad_norm: 0.000e+00, pde_res: 1.159e-01, time: 7.609e-03\n",
      "epoch: 13600, loss: 1.705e-01, grad_norm: 0.000e+00, pde_res: 1.705e-01, time: 6.462e-03\n",
      "epoch: 13700, loss: 1.923e-01, grad_norm: 0.000e+00, pde_res: 1.923e-01, time: 7.349e-03\n",
      "epoch: 13800, loss: 1.288e-01, grad_norm: 0.000e+00, pde_res: 1.288e-01, time: 7.303e-03\n",
      "epoch: 13900, loss: 8.047e-02, grad_norm: 0.000e+00, pde_res: 8.047e-02, time: 6.250e-03\n",
      "epoch: 14000, loss: 1.392e-01, grad_norm: 0.000e+00, pde_res: 1.392e-01, time: 7.298e-03\n",
      "epoch: 14100, loss: 2.273e-01, grad_norm: 0.000e+00, pde_res: 2.273e-01, time: 7.274e-03\n",
      "epoch: 14200, loss: 1.064e-01, grad_norm: 0.000e+00, pde_res: 1.064e-01, time: 7.323e-03\n",
      "epoch: 14300, loss: 9.681e-02, grad_norm: 0.000e+00, pde_res: 9.681e-02, time: 6.152e-03\n",
      "epoch: 14400, loss: 1.129e-01, grad_norm: 0.000e+00, pde_res: 1.129e-01, time: 7.560e-03\n",
      "epoch: 14500, loss: 1.344e-01, grad_norm: 0.000e+00, pde_res: 1.344e-01, time: 7.147e-03\n",
      "epoch: 14600, loss: 1.205e-01, grad_norm: 0.000e+00, pde_res: 1.205e-01, time: 6.293e-03\n",
      "epoch: 14700, loss: 1.215e-01, grad_norm: 0.000e+00, pde_res: 1.215e-01, time: 6.176e-03\n",
      "epoch: 14800, loss: 1.360e-01, grad_norm: 0.000e+00, pde_res: 1.360e-01, time: 7.311e-03\n",
      "epoch: 14900, loss: 9.831e-02, grad_norm: 0.000e+00, pde_res: 9.831e-02, time: 7.302e-03\n",
      "epoch: 15000, loss: 1.374e-01, grad_norm: 0.000e+00, pde_res: 1.374e-01, time: 6.196e-03\n",
      "epoch: 15100, loss: 1.383e-01, grad_norm: 0.000e+00, pde_res: 1.383e-01, time: 6.489e-03\n",
      "epoch: 15200, loss: 1.666e-01, grad_norm: 0.000e+00, pde_res: 1.666e-01, time: 7.140e-03\n",
      "epoch: 15300, loss: 1.624e-01, grad_norm: 0.000e+00, pde_res: 1.624e-01, time: 7.262e-03\n",
      "epoch: 15400, loss: 9.811e-02, grad_norm: 0.000e+00, pde_res: 9.811e-02, time: 7.437e-03\n",
      "epoch: 15500, loss: 8.453e-02, grad_norm: 0.000e+00, pde_res: 8.453e-02, time: 7.447e-03\n",
      "epoch: 15600, loss: 7.136e-02, grad_norm: 0.000e+00, pde_res: 7.136e-02, time: 7.253e-03\n",
      "epoch: 15700, loss: 1.143e-01, grad_norm: 0.000e+00, pde_res: 1.143e-01, time: 6.155e-03\n",
      "epoch: 15800, loss: 1.093e-01, grad_norm: 0.000e+00, pde_res: 1.093e-01, time: 7.515e-03\n",
      "epoch: 15900, loss: 1.300e-01, grad_norm: 0.000e+00, pde_res: 1.300e-01, time: 6.206e-03\n",
      "epoch: 16000, loss: 8.562e-02, grad_norm: 0.000e+00, pde_res: 8.562e-02, time: 7.231e-03\n",
      "epoch: 16100, loss: 9.781e-02, grad_norm: 0.000e+00, pde_res: 9.781e-02, time: 6.280e-03\n",
      "epoch: 16200, loss: 7.575e-02, grad_norm: 0.000e+00, pde_res: 7.575e-02, time: 6.243e-03\n",
      "epoch: 16300, loss: 1.060e-01, grad_norm: 0.000e+00, pde_res: 1.060e-01, time: 7.233e-03\n",
      "epoch: 16400, loss: 1.442e-01, grad_norm: 0.000e+00, pde_res: 1.442e-01, time: 7.295e-03\n",
      "epoch: 16500, loss: 1.079e-01, grad_norm: 0.000e+00, pde_res: 1.079e-01, time: 6.577e-03\n",
      "epoch: 16600, loss: 3.420e-01, grad_norm: 0.000e+00, pde_res: 3.420e-01, time: 7.117e-03\n",
      "epoch: 16700, loss: 1.192e-01, grad_norm: 0.000e+00, pde_res: 1.192e-01, time: 7.328e-03\n",
      "epoch: 16800, loss: 1.076e-01, grad_norm: 0.000e+00, pde_res: 1.076e-01, time: 7.693e-03\n",
      "epoch: 16900, loss: 1.085e-01, grad_norm: 0.000e+00, pde_res: 1.085e-01, time: 6.146e-03\n",
      "epoch: 17000, loss: 1.316e-01, grad_norm: 0.000e+00, pde_res: 1.316e-01, time: 6.366e-03\n",
      "epoch: 17100, loss: 7.124e-02, grad_norm: 0.000e+00, pde_res: 7.124e-02, time: 7.065e-03\n",
      "epoch: 17200, loss: 9.732e-02, grad_norm: 0.000e+00, pde_res: 9.732e-02, time: 7.168e-03\n",
      "epoch: 17300, loss: 9.126e-02, grad_norm: 0.000e+00, pde_res: 9.126e-02, time: 7.411e-03\n",
      "epoch: 17400, loss: 6.234e-02, grad_norm: 0.000e+00, pde_res: 6.234e-02, time: 7.850e-03\n",
      "epoch: 17500, loss: 1.374e-01, grad_norm: 0.000e+00, pde_res: 1.374e-01, time: 7.376e-03\n",
      "epoch: 17600, loss: 9.647e-02, grad_norm: 0.000e+00, pde_res: 9.647e-02, time: 6.521e-03\n",
      "epoch: 17700, loss: 8.567e-02, grad_norm: 0.000e+00, pde_res: 8.567e-02, time: 6.609e-03\n",
      "epoch: 17800, loss: 1.101e-01, grad_norm: 0.000e+00, pde_res: 1.101e-01, time: 7.116e-03\n",
      "epoch: 17900, loss: 1.156e-01, grad_norm: 0.000e+00, pde_res: 1.156e-01, time: 7.595e-03\n",
      "epoch: 18000, loss: 9.211e-02, grad_norm: 0.000e+00, pde_res: 9.211e-02, time: 7.635e-03\n",
      "epoch: 18100, loss: 7.350e-02, grad_norm: 0.000e+00, pde_res: 7.350e-02, time: 6.207e-03\n",
      "epoch: 18200, loss: 7.973e-02, grad_norm: 0.000e+00, pde_res: 7.973e-02, time: 7.381e-03\n",
      "epoch: 18300, loss: 7.912e-02, grad_norm: 0.000e+00, pde_res: 7.912e-02, time: 8.300e-03\n",
      "epoch: 18400, loss: 8.131e-02, grad_norm: 0.000e+00, pde_res: 8.131e-02, time: 7.342e-03\n",
      "epoch: 18500, loss: 1.235e-01, grad_norm: 0.000e+00, pde_res: 1.235e-01, time: 7.238e-03\n",
      "epoch: 18600, loss: 7.487e-02, grad_norm: 0.000e+00, pde_res: 7.487e-02, time: 6.205e-03\n",
      "epoch: 18700, loss: 7.626e-02, grad_norm: 0.000e+00, pde_res: 7.626e-02, time: 6.464e-03\n",
      "epoch: 18800, loss: 1.027e-01, grad_norm: 0.000e+00, pde_res: 1.027e-01, time: 7.523e-03\n",
      "epoch: 18900, loss: 1.137e-01, grad_norm: 0.000e+00, pde_res: 1.137e-01, time: 7.378e-03\n",
      "epoch: 19000, loss: 1.253e-01, grad_norm: 0.000e+00, pde_res: 1.253e-01, time: 6.636e-03\n",
      "epoch: 19100, loss: 3.125e-01, grad_norm: 0.000e+00, pde_res: 3.125e-01, time: 7.313e-03\n",
      "epoch: 19200, loss: 2.781e-01, grad_norm: 0.000e+00, pde_res: 2.781e-01, time: 6.568e-03\n",
      "epoch: 19300, loss: 1.298e-01, grad_norm: 0.000e+00, pde_res: 1.298e-01, time: 7.473e-03\n",
      "epoch: 19400, loss: 1.594e-01, grad_norm: 0.000e+00, pde_res: 1.594e-01, time: 7.132e-03\n",
      "epoch: 19500, loss: 1.986e-01, grad_norm: 0.000e+00, pde_res: 1.986e-01, time: 6.351e-03\n",
      "epoch: 19600, loss: 1.437e-01, grad_norm: 0.000e+00, pde_res: 1.437e-01, time: 5.522e-03\n",
      "epoch: 19700, loss: 1.444e-01, grad_norm: 0.000e+00, pde_res: 1.444e-01, time: 7.437e-03\n",
      "epoch: 19800, loss: 1.396e-01, grad_norm: 0.000e+00, pde_res: 1.396e-01, time: 7.268e-03\n",
      "epoch: 19900, loss: 1.581e-01, grad_norm: 0.000e+00, pde_res: 1.581e-01, time: 7.320e-03\n"
     ]
    }
   ],
   "source": [
    "n= int(5e1)\n",
    "# n=1\n",
    "sn = int(5e1)\n",
    "best_loss = np.inf\n",
    "max_epochs = int(2e4)\n",
    "print_freq = 100\n",
    "\n",
    "sampling_freq = 10 # how often to resample collocation and source points\n",
    "\n",
    "for epoch in range(max_epochs):\n",
    "\n",
    "    start_time = time.time()\n",
    "\n",
    "    if epoch % sampling_freq == 0:\n",
    "        # points for source PDE loss. uvpoints are wind field at different times. source_values is the value of source at source_colloc_points (assumes Gaussian for now)\n",
    "        source_collocation_points = model.source_points(sn,sigma*2) \n",
    "        # source_uv_points = torch.ones(len(source_collocation_points),2)*.5\n",
    "        # initial condition collocation points with smaller time values 0.1*t_final. \n",
    "        # ic_col = torch.cat([torch.rand(sn,1)*tfinal*.1, torch.rand(sn,1)*x_max, torch.rand(sn,1)*y_max, torch.rand(sn,1)*z_max], dim=1)\n",
    "        collocation_points = torch.cat([torch.rand(n,1)*tfinal, torch.rand(n,1)*x_max, torch.rand(n,1)*y_max, torch.rand(n,1)*z_max], dim=1)\n",
    "        # collocation_points = torch.cat([collocation_points,ic_col,source_collocation_points])\n",
    "        collocation_points = torch.cat([collocation_points,source_collocation_points])\n",
    "        collocation_points.requires_grad_(True)\n",
    "        # collocation_points.requires_grad=True\n",
    "        uv = torch.ones(len(collocation_points),2)*.5#wind tensor\n",
    "        uv[:,1:]*= -1\n",
    "    optimizer.zero_grad()\n",
    "\n",
    "    loss_1 ,pde_1 = model.loss_function(collocation_points,uv) # PDE residual loss\n",
    "    # loss_2,pde_2 = model.loss_function(source_collocation_points, source_uv_points) # source term PDE residual loss \n",
    "    # loss_3 ,pde_3 = model.loss_function(torch.concat([collocation_points,source_collocation_points]),torch.concat([collocation_points,source_collocation_points]))\n",
    "\n",
    "    # loss = loss_1 + loss_2\n",
    "    # loss = loss_2*100\n",
    "    loss = loss_1\n",
    "\n",
    "    # # print loss at first epoch\n",
    "    # if epoch == 0:\n",
    "    #     print('epoch: %d, loss: %1.3e, pde_res: %1.3e, source_loss: %1.3e' % (epoch, loss.item(), loss_1.item(), loss_2.item()))\n",
    "\n",
    "    loss.backward()\n",
    "\n",
    "    # compute norm of gradient of the network\n",
    "    grad_norm = 0\n",
    "    # for p in model.net.parameters():\n",
    "    #     grad_norm += p.grad.data.norm(2).item()**2\n",
    "    # grad_norm = grad_norm**0.5\n",
    "\n",
    "\n",
    "    if loss.item() < best_loss:\n",
    "        torch.save(model,'best_mod.m')\n",
    "    optimizer.step()\n",
    "\n",
    "    end_time = time.time()\n",
    "    epoch_time = end_time - start_time\n",
    "    # scheduler.step()\n",
    "\n",
    "    if epoch % print_freq == 0:\n",
    "\n",
    "        # print epoch and loss using %1.3e format\n",
    "        # print('epoch: %d, loss: %1.3e, grad_norm: %1.3e, pde_res: %1.3e, source_loss: %1.3e, time: %1.3e' % (epoch, loss.item(), grad_norm, loss_1.item(), loss_2.item(), epoch_time))\n",
    "        print('epoch: %d, loss: %1.3e, grad_norm: %1.3e, pde_res: %1.3e, time: %1.3e' % (epoch, loss.item(), grad_norm, loss_1.item(), epoch_time))\n",
    "\n",
    "        # print(epoch, loss.item())\n",
    "        # print(loss_2.item(),loss_1.item())\n"
   ]
  },
  {
   "cell_type": "markdown",
   "metadata": {},
   "source": []
  },
  {
   "cell_type": "code",
   "execution_count": 7,
   "metadata": {},
   "outputs": [
    {
     "name": "stdout",
     "output_type": "stream",
     "text": [
      "1\n"
     ]
    }
   ],
   "source": [
    "print(x_max)"
   ]
  },
  {
   "cell_type": "code",
   "execution_count": 8,
   "metadata": {},
   "outputs": [],
   "source": [
    "model = torch.load('best_mod.m')"
   ]
  },
  {
   "cell_type": "code",
   "execution_count": 9,
   "metadata": {},
   "outputs": [
    {
     "data": {
      "text/plain": [
       "'\\n# Plot the concentration over time\\nfor t in time_steps:\\n    t_tensor = torch.full((grid_points.shape[0], 1), t, dtype=torch.float32)  # Time input\\n    concentration = net(grid_points, t_tensor).cpu().detach().numpy().reshape(100, 100)  # Predict and reshape\\n    \\n    plt.figure()\\n    plt.contourf(X, Y, concentration, levels=50, cmap=\\'viridis\\', vmin=0, vmax=10)  # Plot concentration as a contour plot\\n    plt.plot(source_loc[0,0].cpu(), source_loc[0,1].cpu(), \\'ro\\', label=\\'Source Location\\')  # Plot the source location\\n    plt.colorbar(label=\\'Concentration\\')\\n    # fix colorbar from 0 to 1 \\n    # plt.clim(0, 10.0)  # Set colorbar limits\\n    plt.title(f\"Gas Concentration at t = {t:.2f}\")\\n    plt.xlabel(\\'x\\')\\n    plt.ylabel(\\'y\\')\\n    # fix colorbar \\n    # plt.savefig(f\"concentration_t_{t:.2f}.png\")  # Save the plot as an image\\n'"
      ]
     },
     "execution_count": 9,
     "metadata": {},
     "output_type": "execute_result"
    }
   ],
   "source": [
    "import matplotlib.pyplot as plt\n",
    "\n",
    "# load the best model \n",
    "Z_value = .5\n",
    "# net.load_state_dict(torch.load('best_model.pth'))\n",
    "\n",
    "# Define the grid and time steps\n",
    "n= 100\n",
    "x_grid = np.linspace(0, x_max, n)\n",
    "y_grid = np.linspace(0, y_max, n)\n",
    "z_grid = np.linspace(0, z_max, n)\n",
    "\n",
    "X, Y, = np.meshgrid(x_grid, y_grid)\n",
    "Z= X * 0 + Z_value\n",
    "\n",
    "grid_points = np.vstack([X.ravel(), Y.ravel(), Z.ravel()]).T\n",
    "# grid_points = np.vstack([X.ravel(), Y.ravel(), Z.ravel()]).T  # Flatten the grid\n",
    "grid_points = torch.tensor(grid_points, dtype=torch.float32)\n",
    "\n",
    "time_steps = np.linspace(0, tfinal, 20)  # 10 time steps from 0 to 1\n",
    "\n",
    "\n",
    "'''\n",
    "# Plot the concentration over time\n",
    "for t in time_steps:\n",
    "    t_tensor = torch.full((grid_points.shape[0], 1), t, dtype=torch.float32)  # Time input\n",
    "    concentration = net(grid_points, t_tensor).cpu().detach().numpy().reshape(100, 100)  # Predict and reshape\n",
    "    \n",
    "    plt.figure()\n",
    "    plt.contourf(X, Y, concentration, levels=50, cmap='viridis', vmin=0, vmax=10)  # Plot concentration as a contour plot\n",
    "    plt.plot(source_loc[0,0].cpu(), source_loc[0,1].cpu(), 'ro', label='Source Location')  # Plot the source location\n",
    "    plt.colorbar(label='Concentration')\n",
    "    # fix colorbar from 0 to 1 \n",
    "    # plt.clim(0, 10.0)  # Set colorbar limits\n",
    "    plt.title(f\"Gas Concentration at t = {t:.2f}\")\n",
    "    plt.xlabel('x')\n",
    "    plt.ylabel('y')\n",
    "    # fix colorbar \n",
    "    # plt.savefig(f\"concentration_t_{t:.2f}.png\")  # Save the plot as an image\n",
    "'''"
   ]
  },
  {
   "cell_type": "code",
   "execution_count": 10,
   "metadata": {},
   "outputs": [
    {
     "name": "stderr",
     "output_type": "stream",
     "text": [
      "C:\\Users\\andyh\\AppData\\Local\\Temp\\ipykernel_31348\\3286941911.py:22: DeprecationWarning: Starting with ImageIO v3 the behavior of this function will switch to that of iio.v3.imread. To keep the current behavior (and make this warning disappear) use `import imageio.v2 as imageio` or call `imageio.v2.imread` directly.\n",
      "  images.append(imageio.imread(f\"concentration_t_{t:.2f}.png\"))  # Append the image to the list\n"
     ]
    }
   ],
   "source": [
    "# save as a GIF\n",
    "import imageio\n",
    "import os\n",
    "\n",
    "images = []\n",
    "# source_loc = torch.tensor([[.5,.5,.5]])\n",
    "source_loc = model.source_locs\n",
    "for t in time_steps:\n",
    "    t_tensor = torch.full((grid_points.shape[0], 1), t, dtype=torch.float32)  # Time input\n",
    "    concentration = model.forward(torch.cat([t_tensor,grid_points],dim=1),scaled=True).cpu().detach().numpy().reshape(100, 100)  # Predict and reshape\n",
    "    \n",
    "    plt.figure()\n",
    "    plt.contourf(X, Y, concentration, levels=50, cmap='viridis', vmin=0, vmax=20)  # Plot concentration as a contour plot\n",
    "    plt.plot(model.source_locs[1,0], model.source_locs[1,1], 'ro', label='Source Location')  # Plot the source location\n",
    "    plt.colorbar(label='Concentration')\n",
    "    plt.title(f\"Gas Concentration at t = {t:.2f}\")\n",
    "    plt.xlabel('x')\n",
    "    plt.ylabel('y')\n",
    "    plt.savefig(f\"concentration_t_{t:.2f}.png\")  # Save the plot as an image\n",
    "    plt.close()\n",
    "    \n",
    "    images.append(imageio.imread(f\"concentration_t_{t:.2f}.png\"))  # Append the image to the list\n",
    "    os.remove(f\"concentration_t_{t:.2f}.png\")  # Remove the image file\n",
    "\n",
    "imageio.mimsave(f'test_visual_basic.gif', images)  # Save the images as a GIF\n",
    "\n"
   ]
  },
  {
   "cell_type": "code",
   "execution_count": 11,
   "metadata": {},
   "outputs": [
    {
     "name": "stdout",
     "output_type": "stream",
     "text": [
      "6\n"
     ]
    }
   ],
   "source": [
    "print(len(model.net.hidden))"
   ]
  },
  {
   "cell_type": "code",
   "execution_count": 12,
   "metadata": {},
   "outputs": [
    {
     "name": "stdout",
     "output_type": "stream",
     "text": [
      "[[61.84826691 40.32822479  4.5       ]\n",
      " [99.10094831 54.69940709  2.        ]\n",
      " [99.89962676 24.72759871  2.        ]\n",
      " [23.54499552 57.03946784  2.        ]\n",
      " [25.09781584 22.62636785  2.        ]]\n"
     ]
    }
   ],
   "source": [
    "print(source_points)"
   ]
  },
  {
   "cell_type": "code",
   "execution_count": null,
   "metadata": {},
   "outputs": [],
   "source": []
  }
 ],
 "metadata": {
  "kernelspec": {
   "display_name": "Python 3",
   "language": "python",
   "name": "python3"
  },
  "language_info": {
   "codemirror_mode": {
    "name": "ipython",
    "version": 3
   },
   "file_extension": ".py",
   "mimetype": "text/x-python",
   "name": "python",
   "nbconvert_exporter": "python",
   "pygments_lexer": "ipython3",
   "version": "3.11.4"
  }
 },
 "nbformat": 4,
 "nbformat_minor": 2
}
