{
 "cells": [
  {
   "cell_type": "code",
   "execution_count": 1,
   "metadata": {},
   "outputs": [
    {
     "name": "stdout",
     "output_type": "stream",
     "text": [
      "0.001127481460571289\n",
      "tensor([[6393.0703]])\n",
      "tensor([[31.9333]], dtype=torch.float64)\n",
      "tensor(6361.1370, dtype=torch.float64)\n",
      "tensor([[3196.5352]])\n",
      "(0.7071067811865476, 0.7071067811865476)\n"
     ]
    }
   ],
   "source": [
    "import torch\n",
    "import imageio\n",
    "from PINN import PINN\n",
    "from Net import Net\n",
    "import numpy as np\n",
    "import pandas as pd\n",
    "import os\n",
    "import time\n",
    "import sklearn.mixture as mixture\n",
    "from unit_conversion import convert_wind\n",
    "from scipy.interpolate import interp1d"
   ]
  },
  {
   "cell_type": "code",
   "execution_count": 2,
   "metadata": {},
   "outputs": [],
   "source": [
    "device = torch.device(\"cuda\" if torch.cuda.is_available() else \"cpu\")\n",
    "if torch.cuda.is_available():\n",
    "    torch.set_default_tensor_type(torch.cuda.FloatTensor)"
   ]
  },
  {
   "cell_type": "code",
   "execution_count": 3,
   "metadata": {},
   "outputs": [],
   "source": [
    "data_dir = f\"{os.getcwd()}/pinn_test_data\"\n",
    "# load in data\n",
    "df_wind_ch4 = pd.read_csv(data_dir + \"/wind_ch4.csv\")\n",
    "df_true_emission = pd.read_csv(data_dir + \"/selected_controll_release.csv\")\n",
    "source_points = np.load(data_dir + \"/source_points.npy\") # shape=(n_source, 3)\n",
    "sensor_points = np.load(data_dir + \"/sensor_points.npy\") # shape=(n_sensor, 3)\n",
    "#col_points = np.load(data_dir + \"/col_points.npy\")  # shape=(n_col, 3)\n",
    "df_bounds = pd.read_csv(data_dir + \"/bounds.csv\", dtype='float32')\n",
    "x_min = df_bounds['x_min'][0]\n",
    "x_max = df_bounds['x_max'][0]\n",
    "y_min = df_bounds['y_min'][0]\n",
    "y_max = df_bounds['y_max'][0]\n",
    "z_min = df_bounds['z_min'][0]\n",
    "z_max = df_bounds['z_max'][0]\n",
    "active_source_idx = 3\n",
    "# x_max = 1\n",
    "# y_max = 1\n",
    "# z_max = 1\n",
    "tfinal = 5*60.\n",
    "source_location = source_points\n",
    "\n",
    "ws = df_wind_ch4['wind_speed.m/s'].to_numpy() # shape=(N_t,)\n",
    "wd = df_wind_ch4['wind_direction'].to_numpy() # shape=(N_t,)\n",
    "df_wind_ch4['x'], df_wind_ch4['y'] = convert_wind(ws,wd)\n",
    "time_dict = dict(zip(df_wind_ch4.index,zip(df_wind_ch4.x,df_wind_ch4.y)))\n",
    "wind_function_x = interp1d(df_wind_ch4.index*60,df_wind_ch4.x)\n",
    "wind_function_y = interp1d(df_wind_ch4.index*60,df_wind_ch4.y)\n",
    "ch4 = np.transpose(df_wind_ch4.iloc[:, 3:].to_numpy()) # shape=(N_obs, N_t)\n",
    "sensor_names = df_wind_ch4.columns[3:]"
   ]
  },
  {
   "cell_type": "code",
   "execution_count": 12,
   "metadata": {},
   "outputs": [
    {
     "data": {
      "text/html": [
       "<div>\n",
       "<style scoped>\n",
       "    .dataframe tbody tr th:only-of-type {\n",
       "        vertical-align: middle;\n",
       "    }\n",
       "\n",
       "    .dataframe tbody tr th {\n",
       "        vertical-align: top;\n",
       "    }\n",
       "\n",
       "    .dataframe thead th {\n",
       "        text-align: right;\n",
       "    }\n",
       "</style>\n",
       "<table border=\"1\" class=\"dataframe\">\n",
       "  <thead>\n",
       "    <tr style=\"text-align: right;\">\n",
       "      <th></th>\n",
       "      <th>x_min</th>\n",
       "      <th>x_max</th>\n",
       "      <th>y_min</th>\n",
       "      <th>y_max</th>\n",
       "      <th>z_min</th>\n",
       "      <th>z_max</th>\n",
       "    </tr>\n",
       "  </thead>\n",
       "  <tbody>\n",
       "    <tr>\n",
       "      <th>0</th>\n",
       "      <td>0.0</td>\n",
       "      <td>124.0</td>\n",
       "      <td>0.0</td>\n",
       "      <td>78.0</td>\n",
       "      <td>0.0</td>\n",
       "      <td>6.0</td>\n",
       "    </tr>\n",
       "  </tbody>\n",
       "</table>\n",
       "</div>"
      ],
      "text/plain": [
       "   x_min  x_max  y_min  y_max  z_min  z_max\n",
       "0    0.0  124.0    0.0   78.0    0.0    6.0"
      ]
     },
     "execution_count": 12,
     "metadata": {},
     "output_type": "execute_result"
    }
   ],
   "source": [
    "df_bounds"
   ]
  },
  {
   "cell_type": "code",
   "execution_count": 4,
   "metadata": {},
   "outputs": [
    {
     "name": "stdout",
     "output_type": "stream",
     "text": [
      "[0 0 0 1 0]\n"
     ]
    },
    {
     "name": "stderr",
     "output_type": "stream",
     "text": [
      "d:\\andyh\\Documents\\Projects\\mines\\methane_project\\methane_pinn_dev\\Net.py:12: UserWarning: nn.init.xavier_uniform is now deprecated in favor of nn.init.xavier_uniform_.\n",
      "  torch.nn.init.xavier_uniform(m.weight)\n"
     ]
    }
   ],
   "source": [
    "sigma=1\n",
    "model = PINN([50,50,50])\n",
    "source_vals = np.array([1 if i ==active_source_idx else 0 for i in range(len(source_location))])\n",
    "print(source_vals)\n",
    "model.set_location(source_location,[tfinal,x_max,y_max,z_max],source_values=source_vals,sigma=sigma,kappa=1e-3)\n"
   ]
  },
  {
   "cell_type": "code",
   "execution_count": 5,
   "metadata": {},
   "outputs": [],
   "source": [
    "optimizer = torch.optim.Adam(model.net.parameters(), lr=1e-4)\n",
    "# from torch.optim.lr_scheduler import ExponentialLR\n",
    "\n",
    "# scheduler = ExponentialLR(optimizer, gamma=0.999)  # Decay LR by 5% every epoch"
   ]
  },
  {
   "cell_type": "code",
   "execution_count": 6,
   "metadata": {},
   "outputs": [
    {
     "name": "stdout",
     "output_type": "stream",
     "text": [
      "epoch: 0, loss: 6.560e+05, grad_norm: 0.000e+00, pde_res: 2.641e+04, time: 3.388e-01\n",
      "epoch: 100, loss: 1.304e+04, grad_norm: 0.000e+00, pde_res: 1.192e+04, time: 1.142e-02\n",
      "epoch: 200, loss: 5.156e+03, grad_norm: 0.000e+00, pde_res: 4.704e+03, time: 1.050e-02\n",
      "epoch: 300, loss: 2.428e+03, grad_norm: 0.000e+00, pde_res: 2.100e+03, time: 1.104e-02\n",
      "epoch: 400, loss: 1.886e+03, grad_norm: 0.000e+00, pde_res: 1.428e+03, time: 1.146e-02\n",
      "epoch: 500, loss: 1.574e+03, grad_norm: 0.000e+00, pde_res: 1.194e+03, time: 1.046e-02\n",
      "epoch: 600, loss: 1.329e+03, grad_norm: 0.000e+00, pde_res: 1.029e+03, time: 1.198e-02\n",
      "epoch: 700, loss: 1.196e+03, grad_norm: 0.000e+00, pde_res: 8.834e+02, time: 1.095e-02\n",
      "epoch: 800, loss: 9.453e+02, grad_norm: 0.000e+00, pde_res: 8.050e+02, time: 1.187e-02\n",
      "epoch: 900, loss: 9.519e+02, grad_norm: 0.000e+00, pde_res: 7.495e+02, time: 1.104e-02\n",
      "epoch: 1000, loss: 7.988e+02, grad_norm: 0.000e+00, pde_res: 6.883e+02, time: 1.123e-02\n",
      "epoch: 1100, loss: 7.871e+02, grad_norm: 0.000e+00, pde_res: 6.450e+02, time: 1.133e-02\n",
      "epoch: 1200, loss: 7.158e+02, grad_norm: 0.000e+00, pde_res: 6.250e+02, time: 1.054e-02\n",
      "epoch: 1300, loss: 6.894e+02, grad_norm: 0.000e+00, pde_res: 6.037e+02, time: 1.123e-02\n",
      "epoch: 1400, loss: 6.522e+02, grad_norm: 0.000e+00, pde_res: 5.937e+02, time: 1.155e-02\n",
      "epoch: 1500, loss: 5.885e+02, grad_norm: 0.000e+00, pde_res: 5.559e+02, time: 1.289e-02\n",
      "epoch: 1600, loss: 5.711e+02, grad_norm: 0.000e+00, pde_res: 5.298e+02, time: 1.105e-02\n",
      "epoch: 1700, loss: 5.274e+02, grad_norm: 0.000e+00, pde_res: 4.912e+02, time: 1.108e-02\n",
      "epoch: 1800, loss: 5.097e+02, grad_norm: 0.000e+00, pde_res: 4.780e+02, time: 1.208e-02\n",
      "epoch: 1900, loss: 4.792e+02, grad_norm: 0.000e+00, pde_res: 4.501e+02, time: 1.169e-02\n",
      "epoch: 2000, loss: 4.793e+02, grad_norm: 0.000e+00, pde_res: 4.498e+02, time: 1.132e-02\n",
      "epoch: 2100, loss: 4.312e+02, grad_norm: 0.000e+00, pde_res: 4.073e+02, time: 1.171e-02\n",
      "epoch: 2200, loss: 4.373e+02, grad_norm: 0.000e+00, pde_res: 4.192e+02, time: 1.136e-02\n",
      "epoch: 2300, loss: 3.859e+02, grad_norm: 0.000e+00, pde_res: 3.646e+02, time: 1.277e-02\n",
      "epoch: 2400, loss: 3.977e+02, grad_norm: 0.000e+00, pde_res: 3.746e+02, time: 1.139e-02\n",
      "epoch: 2500, loss: 3.846e+02, grad_norm: 0.000e+00, pde_res: 3.744e+02, time: 1.134e-02\n",
      "epoch: 2600, loss: 3.433e+02, grad_norm: 0.000e+00, pde_res: 3.333e+02, time: 9.816e-03\n",
      "epoch: 2700, loss: 3.266e+02, grad_norm: 0.000e+00, pde_res: 3.178e+02, time: 1.103e-02\n",
      "epoch: 2800, loss: 3.083e+02, grad_norm: 0.000e+00, pde_res: 3.016e+02, time: 1.015e-02\n",
      "epoch: 2900, loss: 2.953e+02, grad_norm: 0.000e+00, pde_res: 2.827e+02, time: 1.103e-02\n",
      "epoch: 3000, loss: 2.921e+02, grad_norm: 0.000e+00, pde_res: 2.811e+02, time: 1.100e-02\n",
      "epoch: 3100, loss: 2.700e+02, grad_norm: 0.000e+00, pde_res: 2.649e+02, time: 1.069e-02\n",
      "epoch: 3200, loss: 2.646e+02, grad_norm: 0.000e+00, pde_res: 2.550e+02, time: 1.073e-02\n",
      "epoch: 3300, loss: 2.538e+02, grad_norm: 0.000e+00, pde_res: 2.469e+02, time: 1.229e-02\n",
      "epoch: 3400, loss: 2.256e+02, grad_norm: 0.000e+00, pde_res: 2.178e+02, time: 1.102e-02\n",
      "epoch: 3500, loss: 2.047e+02, grad_norm: 0.000e+00, pde_res: 1.999e+02, time: 1.196e-02\n",
      "epoch: 3600, loss: 2.117e+02, grad_norm: 0.000e+00, pde_res: 2.042e+02, time: 1.205e-02\n",
      "epoch: 3700, loss: 1.972e+02, grad_norm: 0.000e+00, pde_res: 1.923e+02, time: 1.076e-02\n",
      "epoch: 3800, loss: 1.897e+02, grad_norm: 0.000e+00, pde_res: 1.848e+02, time: 1.080e-02\n",
      "epoch: 3900, loss: 1.740e+02, grad_norm: 0.000e+00, pde_res: 1.707e+02, time: 1.082e-02\n",
      "epoch: 4000, loss: 1.754e+02, grad_norm: 0.000e+00, pde_res: 1.716e+02, time: 1.077e-02\n",
      "epoch: 4100, loss: 1.704e+02, grad_norm: 0.000e+00, pde_res: 1.639e+02, time: 1.009e-02\n",
      "epoch: 4200, loss: 1.595e+02, grad_norm: 0.000e+00, pde_res: 1.538e+02, time: 1.075e-02\n",
      "epoch: 4300, loss: 1.601e+02, grad_norm: 0.000e+00, pde_res: 1.581e+02, time: 1.090e-02\n",
      "epoch: 4400, loss: 1.475e+02, grad_norm: 0.000e+00, pde_res: 1.444e+02, time: 1.110e-02\n",
      "epoch: 4500, loss: 1.452e+02, grad_norm: 0.000e+00, pde_res: 1.420e+02, time: 1.145e-02\n",
      "epoch: 4600, loss: 1.413e+02, grad_norm: 0.000e+00, pde_res: 1.387e+02, time: 1.114e-02\n",
      "epoch: 4700, loss: 1.404e+02, grad_norm: 0.000e+00, pde_res: 1.376e+02, time: 1.128e-02\n",
      "epoch: 4800, loss: 1.293e+02, grad_norm: 0.000e+00, pde_res: 1.273e+02, time: 1.038e-02\n",
      "epoch: 4900, loss: 1.250e+02, grad_norm: 0.000e+00, pde_res: 1.225e+02, time: 1.199e-02\n",
      "epoch: 5000, loss: 1.187e+02, grad_norm: 0.000e+00, pde_res: 1.170e+02, time: 1.208e-02\n",
      "epoch: 5100, loss: 1.158e+02, grad_norm: 0.000e+00, pde_res: 1.139e+02, time: 1.131e-02\n",
      "epoch: 5200, loss: 1.142e+02, grad_norm: 0.000e+00, pde_res: 1.113e+02, time: 1.096e-02\n",
      "epoch: 5300, loss: 1.088e+02, grad_norm: 0.000e+00, pde_res: 1.069e+02, time: 1.105e-02\n",
      "epoch: 5400, loss: 1.076e+02, grad_norm: 0.000e+00, pde_res: 1.044e+02, time: 1.230e-02\n",
      "epoch: 5500, loss: 1.039e+02, grad_norm: 0.000e+00, pde_res: 1.016e+02, time: 1.183e-02\n",
      "epoch: 5600, loss: 9.606e+01, grad_norm: 0.000e+00, pde_res: 9.419e+01, time: 1.105e-02\n",
      "epoch: 5700, loss: 9.419e+01, grad_norm: 0.000e+00, pde_res: 9.203e+01, time: 1.350e-02\n",
      "epoch: 5800, loss: 8.816e+01, grad_norm: 0.000e+00, pde_res: 8.774e+01, time: 1.262e-02\n",
      "epoch: 5900, loss: 8.775e+01, grad_norm: 0.000e+00, pde_res: 8.700e+01, time: 1.085e-02\n",
      "epoch: 6000, loss: 8.627e+01, grad_norm: 0.000e+00, pde_res: 8.521e+01, time: 1.301e-02\n",
      "epoch: 6100, loss: 8.095e+01, grad_norm: 0.000e+00, pde_res: 7.906e+01, time: 1.192e-02\n",
      "epoch: 6200, loss: 7.998e+01, grad_norm: 0.000e+00, pde_res: 7.849e+01, time: 1.045e-02\n",
      "epoch: 6300, loss: 7.697e+01, grad_norm: 0.000e+00, pde_res: 7.620e+01, time: 1.051e-02\n",
      "epoch: 6400, loss: 7.494e+01, grad_norm: 0.000e+00, pde_res: 7.388e+01, time: 1.101e-02\n",
      "epoch: 6500, loss: 7.090e+01, grad_norm: 0.000e+00, pde_res: 6.911e+01, time: 1.137e-02\n",
      "epoch: 6600, loss: 6.693e+01, grad_norm: 0.000e+00, pde_res: 6.611e+01, time: 1.173e-02\n",
      "epoch: 6700, loss: 6.592e+01, grad_norm: 0.000e+00, pde_res: 6.480e+01, time: 1.169e-02\n",
      "epoch: 6800, loss: 6.408e+01, grad_norm: 0.000e+00, pde_res: 6.260e+01, time: 1.073e-02\n",
      "epoch: 6900, loss: 5.847e+01, grad_norm: 0.000e+00, pde_res: 5.698e+01, time: 1.250e-02\n",
      "epoch: 7000, loss: 5.770e+01, grad_norm: 0.000e+00, pde_res: 5.595e+01, time: 1.203e-02\n",
      "epoch: 7100, loss: 5.257e+01, grad_norm: 0.000e+00, pde_res: 5.145e+01, time: 1.213e-02\n",
      "epoch: 7200, loss: 5.167e+01, grad_norm: 0.000e+00, pde_res: 5.102e+01, time: 1.115e-02\n",
      "epoch: 7300, loss: 5.106e+01, grad_norm: 0.000e+00, pde_res: 5.035e+01, time: 1.225e-02\n",
      "epoch: 7400, loss: 4.968e+01, grad_norm: 0.000e+00, pde_res: 4.804e+01, time: 1.188e-02\n",
      "epoch: 7500, loss: 4.808e+01, grad_norm: 0.000e+00, pde_res: 4.726e+01, time: 1.084e-02\n",
      "epoch: 7600, loss: 4.561e+01, grad_norm: 0.000e+00, pde_res: 4.492e+01, time: 1.131e-02\n",
      "epoch: 7700, loss: 4.500e+01, grad_norm: 0.000e+00, pde_res: 4.464e+01, time: 1.190e-02\n",
      "epoch: 7800, loss: 4.546e+01, grad_norm: 0.000e+00, pde_res: 4.493e+01, time: 1.098e-02\n",
      "epoch: 7900, loss: 4.074e+01, grad_norm: 0.000e+00, pde_res: 3.999e+01, time: 1.118e-02\n",
      "epoch: 8000, loss: 3.836e+01, grad_norm: 0.000e+00, pde_res: 3.798e+01, time: 1.032e-02\n",
      "epoch: 8100, loss: 3.930e+01, grad_norm: 0.000e+00, pde_res: 3.870e+01, time: 1.120e-02\n",
      "epoch: 8200, loss: 3.899e+01, grad_norm: 0.000e+00, pde_res: 3.862e+01, time: 1.094e-02\n",
      "epoch: 8300, loss: 3.345e+01, grad_norm: 0.000e+00, pde_res: 3.290e+01, time: 1.113e-02\n",
      "epoch: 8400, loss: 3.388e+01, grad_norm: 0.000e+00, pde_res: 3.343e+01, time: 1.107e-02\n",
      "epoch: 8500, loss: 3.397e+01, grad_norm: 0.000e+00, pde_res: 3.344e+01, time: 1.199e-02\n",
      "epoch: 8600, loss: 3.597e+01, grad_norm: 0.000e+00, pde_res: 3.261e+01, time: 1.181e-02\n",
      "epoch: 8700, loss: 2.994e+01, grad_norm: 0.000e+00, pde_res: 2.962e+01, time: 1.193e-02\n",
      "epoch: 8800, loss: 3.067e+01, grad_norm: 0.000e+00, pde_res: 3.036e+01, time: 1.082e-02\n",
      "epoch: 8900, loss: 2.804e+01, grad_norm: 0.000e+00, pde_res: 2.792e+01, time: 1.080e-02\n",
      "epoch: 9000, loss: 2.881e+01, grad_norm: 0.000e+00, pde_res: 2.865e+01, time: 1.173e-02\n",
      "epoch: 9100, loss: 2.722e+01, grad_norm: 0.000e+00, pde_res: 2.696e+01, time: 1.150e-02\n",
      "epoch: 9200, loss: 2.615e+01, grad_norm: 0.000e+00, pde_res: 2.586e+01, time: 1.069e-02\n",
      "epoch: 9300, loss: 2.412e+01, grad_norm: 0.000e+00, pde_res: 2.396e+01, time: 1.011e-02\n",
      "epoch: 9400, loss: 2.254e+01, grad_norm: 0.000e+00, pde_res: 2.236e+01, time: 1.044e-02\n",
      "epoch: 9500, loss: 2.270e+01, grad_norm: 0.000e+00, pde_res: 2.238e+01, time: 1.103e-02\n",
      "epoch: 9600, loss: 2.075e+01, grad_norm: 0.000e+00, pde_res: 2.065e+01, time: 1.136e-02\n",
      "epoch: 9700, loss: 2.043e+01, grad_norm: 0.000e+00, pde_res: 2.037e+01, time: 1.115e-02\n",
      "epoch: 9800, loss: 1.948e+01, grad_norm: 0.000e+00, pde_res: 1.931e+01, time: 1.109e-02\n",
      "epoch: 9900, loss: 1.852e+01, grad_norm: 0.000e+00, pde_res: 1.843e+01, time: 1.036e-02\n",
      "epoch: 10000, loss: 1.754e+01, grad_norm: 0.000e+00, pde_res: 1.740e+01, time: 1.046e-02\n",
      "epoch: 10100, loss: 1.755e+01, grad_norm: 0.000e+00, pde_res: 1.740e+01, time: 1.167e-02\n",
      "epoch: 10200, loss: 1.726e+01, grad_norm: 0.000e+00, pde_res: 1.716e+01, time: 1.124e-02\n",
      "epoch: 10300, loss: 1.707e+01, grad_norm: 0.000e+00, pde_res: 1.701e+01, time: 9.830e-03\n",
      "epoch: 10400, loss: 1.543e+01, grad_norm: 0.000e+00, pde_res: 1.516e+01, time: 1.102e-02\n",
      "epoch: 10500, loss: 1.600e+01, grad_norm: 0.000e+00, pde_res: 1.599e+01, time: 1.093e-02\n",
      "epoch: 10600, loss: 1.581e+01, grad_norm: 0.000e+00, pde_res: 1.579e+01, time: 1.087e-02\n",
      "epoch: 10700, loss: 1.434e+01, grad_norm: 0.000e+00, pde_res: 1.431e+01, time: 1.174e-02\n",
      "epoch: 10800, loss: 1.415e+01, grad_norm: 0.000e+00, pde_res: 1.404e+01, time: 1.105e-02\n",
      "epoch: 10900, loss: 1.367e+01, grad_norm: 0.000e+00, pde_res: 1.358e+01, time: 1.093e-02\n",
      "epoch: 11000, loss: 1.220e+01, grad_norm: 0.000e+00, pde_res: 1.216e+01, time: 1.194e-02\n",
      "epoch: 11100, loss: 1.275e+01, grad_norm: 0.000e+00, pde_res: 1.266e+01, time: 1.053e-02\n",
      "epoch: 11200, loss: 1.235e+01, grad_norm: 0.000e+00, pde_res: 1.230e+01, time: 1.041e-02\n",
      "epoch: 11300, loss: 1.212e+01, grad_norm: 0.000e+00, pde_res: 1.208e+01, time: 1.066e-02\n",
      "epoch: 11400, loss: 1.205e+01, grad_norm: 0.000e+00, pde_res: 1.199e+01, time: 1.080e-02\n",
      "epoch: 11500, loss: 1.127e+01, grad_norm: 0.000e+00, pde_res: 1.126e+01, time: 1.141e-02\n",
      "epoch: 11600, loss: 1.034e+01, grad_norm: 0.000e+00, pde_res: 1.032e+01, time: 1.043e-02\n",
      "epoch: 11700, loss: 1.047e+01, grad_norm: 0.000e+00, pde_res: 1.042e+01, time: 1.158e-02\n",
      "epoch: 11800, loss: 1.034e+01, grad_norm: 0.000e+00, pde_res: 1.026e+01, time: 1.137e-02\n",
      "epoch: 11900, loss: 1.005e+01, grad_norm: 0.000e+00, pde_res: 9.956e+00, time: 1.190e-02\n",
      "epoch: 12000, loss: 9.144e+00, grad_norm: 0.000e+00, pde_res: 9.095e+00, time: 1.138e-02\n",
      "epoch: 12100, loss: 9.412e+00, grad_norm: 0.000e+00, pde_res: 9.380e+00, time: 9.843e-03\n",
      "epoch: 12200, loss: 9.310e+00, grad_norm: 0.000e+00, pde_res: 9.025e+00, time: 1.068e-02\n",
      "epoch: 12300, loss: 8.654e+00, grad_norm: 0.000e+00, pde_res: 8.627e+00, time: 1.100e-02\n",
      "epoch: 12400, loss: 8.730e+00, grad_norm: 0.000e+00, pde_res: 8.679e+00, time: 1.089e-02\n",
      "epoch: 12500, loss: 8.047e+00, grad_norm: 0.000e+00, pde_res: 7.925e+00, time: 1.082e-02\n",
      "epoch: 12600, loss: 8.979e+00, grad_norm: 0.000e+00, pde_res: 8.926e+00, time: 1.179e-02\n",
      "epoch: 12700, loss: 8.555e+00, grad_norm: 0.000e+00, pde_res: 8.487e+00, time: 1.095e-02\n",
      "epoch: 12800, loss: 7.498e+00, grad_norm: 0.000e+00, pde_res: 7.487e+00, time: 1.049e-02\n",
      "epoch: 12900, loss: 7.150e+00, grad_norm: 0.000e+00, pde_res: 7.103e+00, time: 1.235e-02\n",
      "epoch: 13000, loss: 7.067e+00, grad_norm: 0.000e+00, pde_res: 7.050e+00, time: 1.202e-02\n",
      "epoch: 13100, loss: 9.082e+00, grad_norm: 0.000e+00, pde_res: 7.908e+00, time: 1.114e-02\n",
      "epoch: 13200, loss: 8.076e+00, grad_norm: 0.000e+00, pde_res: 8.015e+00, time: 1.164e-02\n",
      "epoch: 13300, loss: 8.028e+00, grad_norm: 0.000e+00, pde_res: 8.001e+00, time: 1.220e-02\n",
      "epoch: 13400, loss: 8.041e+00, grad_norm: 0.000e+00, pde_res: 7.994e+00, time: 1.199e-02\n",
      "epoch: 13500, loss: 7.746e+00, grad_norm: 0.000e+00, pde_res: 7.729e+00, time: 1.091e-02\n"
     ]
    },
    {
     "ename": "KeyboardInterrupt",
     "evalue": "",
     "output_type": "error",
     "traceback": [
      "\u001b[1;31m---------------------------------------------------------------------------\u001b[0m",
      "\u001b[1;31mKeyboardInterrupt\u001b[0m                         Traceback (most recent call last)",
      "Cell \u001b[1;32mIn[6], line 51\u001b[0m\n\u001b[0;32m     49\u001b[0m \u001b[38;5;28;01mif\u001b[39;00m loss\u001b[38;5;241m.\u001b[39mitem() \u001b[38;5;241m<\u001b[39m best_loss:\n\u001b[0;32m     50\u001b[0m     torch\u001b[38;5;241m.\u001b[39msave(model,\u001b[38;5;124m'\u001b[39m\u001b[38;5;124mbest_mod.m\u001b[39m\u001b[38;5;124m'\u001b[39m)\n\u001b[1;32m---> 51\u001b[0m \u001b[43moptimizer\u001b[49m\u001b[38;5;241;43m.\u001b[39;49m\u001b[43mstep\u001b[49m\u001b[43m(\u001b[49m\u001b[43m)\u001b[49m\n\u001b[0;32m     53\u001b[0m end_time \u001b[38;5;241m=\u001b[39m time\u001b[38;5;241m.\u001b[39mtime()\n\u001b[0;32m     54\u001b[0m epoch_time \u001b[38;5;241m=\u001b[39m end_time \u001b[38;5;241m-\u001b[39m start_time\n",
      "File \u001b[1;32mc:\\Users\\andyh\\AppData\\Local\\Programs\\Python\\Python311\\Lib\\site-packages\\torch\\optim\\optimizer.py:269\u001b[0m, in \u001b[0;36mOptimizer.profile_hook_step.<locals>.wrapper\u001b[1;34m(*args, **kwargs)\u001b[0m\n\u001b[0;32m    267\u001b[0m \u001b[38;5;28mself\u001b[39m, \u001b[38;5;241m*\u001b[39m_ \u001b[38;5;241m=\u001b[39m args\n\u001b[0;32m    268\u001b[0m profile_name \u001b[38;5;241m=\u001b[39m \u001b[38;5;124m\"\u001b[39m\u001b[38;5;124mOptimizer.step#\u001b[39m\u001b[38;5;132;01m{}\u001b[39;00m\u001b[38;5;124m.step\u001b[39m\u001b[38;5;124m\"\u001b[39m\u001b[38;5;241m.\u001b[39mformat(\u001b[38;5;28mself\u001b[39m\u001b[38;5;241m.\u001b[39m\u001b[38;5;18m__class__\u001b[39m\u001b[38;5;241m.\u001b[39m\u001b[38;5;18m__name__\u001b[39m)\n\u001b[1;32m--> 269\u001b[0m \u001b[43m\u001b[49m\u001b[38;5;28;43;01mwith\u001b[39;49;00m\u001b[43m \u001b[49m\u001b[43mtorch\u001b[49m\u001b[38;5;241;43m.\u001b[39;49m\u001b[43mautograd\u001b[49m\u001b[38;5;241;43m.\u001b[39;49m\u001b[43mprofiler\u001b[49m\u001b[38;5;241;43m.\u001b[39;49m\u001b[43mrecord_function\u001b[49m\u001b[43m(\u001b[49m\u001b[43mprofile_name\u001b[49m\u001b[43m)\u001b[49m\u001b[43m:\u001b[49m\n\u001b[0;32m    270\u001b[0m \u001b[43m    \u001b[49m\u001b[38;5;66;43;03m# call optimizer step pre hooks\u001b[39;49;00m\n\u001b[0;32m    271\u001b[0m \u001b[43m    \u001b[49m\u001b[38;5;28;43;01mfor\u001b[39;49;00m\u001b[43m \u001b[49m\u001b[43mpre_hook\u001b[49m\u001b[43m \u001b[49m\u001b[38;5;129;43;01min\u001b[39;49;00m\u001b[43m \u001b[49m\u001b[43mchain\u001b[49m\u001b[43m(\u001b[49m\u001b[43m_global_optimizer_pre_hooks\u001b[49m\u001b[38;5;241;43m.\u001b[39;49m\u001b[43mvalues\u001b[49m\u001b[43m(\u001b[49m\u001b[43m)\u001b[49m\u001b[43m,\u001b[49m\u001b[43m \u001b[49m\u001b[38;5;28;43mself\u001b[39;49m\u001b[38;5;241;43m.\u001b[39;49m\u001b[43m_optimizer_step_pre_hooks\u001b[49m\u001b[38;5;241;43m.\u001b[39;49m\u001b[43mvalues\u001b[49m\u001b[43m(\u001b[49m\u001b[43m)\u001b[49m\u001b[43m)\u001b[49m\u001b[43m:\u001b[49m\n\u001b[0;32m    272\u001b[0m \u001b[43m        \u001b[49m\u001b[43mresult\u001b[49m\u001b[43m \u001b[49m\u001b[38;5;241;43m=\u001b[39;49m\u001b[43m \u001b[49m\u001b[43mpre_hook\u001b[49m\u001b[43m(\u001b[49m\u001b[38;5;28;43mself\u001b[39;49m\u001b[43m,\u001b[49m\u001b[43m \u001b[49m\u001b[43margs\u001b[49m\u001b[43m,\u001b[49m\u001b[43m \u001b[49m\u001b[43mkwargs\u001b[49m\u001b[43m)\u001b[49m\n",
      "File \u001b[1;32mc:\\Users\\andyh\\AppData\\Local\\Programs\\Python\\Python311\\Lib\\site-packages\\torch\\autograd\\profiler.py:492\u001b[0m, in \u001b[0;36mrecord_function.__enter__\u001b[1;34m(self)\u001b[0m\n\u001b[0;32m    491\u001b[0m \u001b[38;5;28;01mdef\u001b[39;00m \u001b[38;5;21m__enter__\u001b[39m(\u001b[38;5;28mself\u001b[39m):\n\u001b[1;32m--> 492\u001b[0m     \u001b[38;5;28mself\u001b[39m\u001b[38;5;241m.\u001b[39mrecord \u001b[38;5;241m=\u001b[39m \u001b[43mtorch\u001b[49m\u001b[38;5;241;43m.\u001b[39;49m\u001b[43mops\u001b[49m\u001b[38;5;241;43m.\u001b[39;49m\u001b[43mprofiler\u001b[49m\u001b[38;5;241;43m.\u001b[39;49m\u001b[43m_record_function_enter_new\u001b[49m\u001b[43m(\u001b[49m\u001b[38;5;28;43mself\u001b[39;49m\u001b[38;5;241;43m.\u001b[39;49m\u001b[43mname\u001b[49m\u001b[43m,\u001b[49m\u001b[43m \u001b[49m\u001b[38;5;28;43mself\u001b[39;49m\u001b[38;5;241;43m.\u001b[39;49m\u001b[43margs\u001b[49m\u001b[43m)\u001b[49m\n\u001b[0;32m    493\u001b[0m     \u001b[38;5;28;01mreturn\u001b[39;00m \u001b[38;5;28mself\u001b[39m\n",
      "File \u001b[1;32mc:\\Users\\andyh\\AppData\\Local\\Programs\\Python\\Python311\\Lib\\site-packages\\torch\\_ops.py:502\u001b[0m, in \u001b[0;36mOpOverloadPacket.__call__\u001b[1;34m(self, *args, **kwargs)\u001b[0m\n\u001b[0;32m    497\u001b[0m \u001b[38;5;28;01mdef\u001b[39;00m \u001b[38;5;21m__call__\u001b[39m(\u001b[38;5;28mself\u001b[39m, \u001b[38;5;241m*\u001b[39margs, \u001b[38;5;241m*\u001b[39m\u001b[38;5;241m*\u001b[39mkwargs):\n\u001b[0;32m    498\u001b[0m     \u001b[38;5;66;03m# overloading __call__ to ensure torch.ops.foo.bar()\u001b[39;00m\n\u001b[0;32m    499\u001b[0m     \u001b[38;5;66;03m# is still callable from JIT\u001b[39;00m\n\u001b[0;32m    500\u001b[0m     \u001b[38;5;66;03m# We save the function ptr as the `op` attribute on\u001b[39;00m\n\u001b[0;32m    501\u001b[0m     \u001b[38;5;66;03m# OpOverloadPacket to access it here.\u001b[39;00m\n\u001b[1;32m--> 502\u001b[0m     \u001b[38;5;28;01mreturn\u001b[39;00m \u001b[38;5;28;43mself\u001b[39;49m\u001b[38;5;241;43m.\u001b[39;49m\u001b[43m_op\u001b[49m\u001b[43m(\u001b[49m\u001b[38;5;241;43m*\u001b[39;49m\u001b[43margs\u001b[49m\u001b[43m,\u001b[49m\u001b[43m \u001b[49m\u001b[38;5;241;43m*\u001b[39;49m\u001b[38;5;241;43m*\u001b[39;49m\u001b[43mkwargs\u001b[49m\u001b[43m \u001b[49m\u001b[38;5;129;43;01mor\u001b[39;49;00m\u001b[43m \u001b[49m\u001b[43m{\u001b[49m\u001b[43m}\u001b[49m\u001b[43m)\u001b[49m\n",
      "\u001b[1;31mKeyboardInterrupt\u001b[0m: "
     ]
    }
   ],
   "source": [
    "n= int(5e3)\n",
    "# n=1\n",
    "icn = int(1e2)\n",
    "sn = int(5e3)\n",
    "best_loss = np.inf\n",
    "max_epochs = int(2e4)\n",
    "print_freq = 100\n",
    "\n",
    "sampling_freq = 10 # how often to resample collocation and source points\n",
    "\n",
    "for epoch in range(max_epochs):\n",
    "\n",
    "    start_time = time.time()\n",
    "\n",
    "    if epoch % sampling_freq == 0:\n",
    "\n",
    "        source_collocation_points = model.source_points(sn,sigma*2) \n",
    "        ic_col = torch.cat([torch.zeros(icn,1), torch.rand(icn,1)*x_max, torch.rand(icn,1)*y_max, torch.rand(icn,1)*z_max], dim=1)\n",
    "        collocation_points = torch.cat([torch.rand(n,1)*tfinal, torch.rand(n,1)*x_max*2 - x_max*.5, torch.rand(n,1)*y_max*2- y_max*.5, torch.rand(n,1)*z_max*2 - z_max*.5], dim=1)\n",
    "        # collocation_points = torch.cat([collocation_points,ic_col,source_collocation_points])\n",
    "        collocation_points = torch.cat([collocation_points,source_collocation_points,ic_col])\n",
    "        collocation_points.requires_grad_(True)\n",
    "        # t = np.floor(collocation_points[:,0:1].detach().numpy().flatten())\n",
    "        # uv = torch.tensor([time_dict[t[i]] for i in range(len(t))])\n",
    "        # uv = torch.ones(len(collocation_points),2)*10#wind tensor\n",
    "        wind_tensor = torch.cat([torch.tensor(wind_function_x(collocation_points[:,0:1].detach().cpu().numpy())),torch.tensor(wind_function_y(collocation_points[:,0:1].detach().cpu().numpy()))],dim=1)\n",
    "        # uv[:,1:]*= -1\n",
    "        # print(uv)\n",
    "    optimizer.zero_grad()\n",
    "\n",
    "    loss_1 ,pde_1 = model.compute_pde_loss(collocation_points,wind_tensor) # PDE residual loss\n",
    "    loss_2 = model.compute_negative_loss(collocation_points)\n",
    "    loss_3 = model.compute_data_loss(torch.cat([torch.zeros(collocation_points.shape[0],1),collocation_points[:,1:]],dim=1),torch.zeros(collocation_points.shape[0],1))\n",
    "    # loss = loss_1+loss_2+loss_3\n",
    "    # loss = loss_3\n",
    "    loss = loss_1 + loss_2 + loss_3\n",
    "\n",
    "    # loss = loss_1+loss_2+loss_3\n",
    "\n",
    "    loss.backward()\n",
    "\n",
    "    # compute norm of gradient of the network\n",
    "    grad_norm = 0\n",
    "    # for p in model.net.parameters():\n",
    "    #     grad_norm += p.grad.data.norm(2).item()**2\n",
    "    # grad_norm = grad_norm**0.5\n",
    "\n",
    "\n",
    "    if loss.item() < best_loss:\n",
    "        torch.save(model,'best_mod.m')\n",
    "    optimizer.step()\n",
    "\n",
    "    end_time = time.time()\n",
    "    epoch_time = end_time - start_time\n",
    "    # scheduler.step()\n",
    "\n",
    "    if epoch % print_freq == 0:\n",
    "\n",
    "        print('epoch: %d, loss: %1.3e, grad_norm: %1.3e, pde_res: %1.3e, time: %1.3e' % (epoch, loss.item(), grad_norm, loss_1.item(), epoch_time))\n",
    "\n"
   ]
  },
  {
   "cell_type": "markdown",
   "metadata": {},
   "source": []
  },
  {
   "cell_type": "code",
   "execution_count": 10,
   "metadata": {},
   "outputs": [
    {
     "data": {
      "text/plain": [
       "tensor([[ 45.8859,  23.6930,  57.9901,   5.5582],\n",
       "        [203.6488,  23.3892,  56.1385,   1.9355],\n",
       "        [152.3492,  23.2402,  56.0816,   2.4387],\n",
       "        ...,\n",
       "        [110.2668,  25.1099,  58.6581,   2.1268],\n",
       "        [176.3741,  24.8293,  56.3677,   4.3704],\n",
       "        [ 89.8052,  25.3906,  57.1973,   2.7015]])"
      ]
     },
     "execution_count": 10,
     "metadata": {},
     "output_type": "execute_result"
    }
   ],
   "source": [
    "source_collocation_points"
   ]
  },
  {
   "cell_type": "code",
   "execution_count": null,
   "metadata": {},
   "outputs": [],
   "source": [
    "model = torch.load('best_mod.m')"
   ]
  },
  {
   "cell_type": "code",
   "execution_count": 7,
   "metadata": {},
   "outputs": [],
   "source": [
    "import matplotlib.pyplot as plt\n",
    "\n",
    "# load the best model \n",
    "Z_value = source_location[active_source_idx,2]\n",
    "# net.load_state_dict(torch.load('best_model.pth'))\n",
    "\n",
    "# Define the grid and time steps\n",
    "n= 100\n",
    "x_grid = np.linspace(0, x_max, n)\n",
    "y_grid = np.linspace(0, y_max, n)\n",
    "z_grid = np.linspace(0, z_max, n)\n",
    "\n",
    "X, Y, = np.meshgrid(x_grid, y_grid)\n",
    "Z= X * 0 + Z_value\n",
    "\n",
    "grid_points = np.vstack([X.ravel(), Y.ravel(), Z.ravel()]).T\n",
    "# grid_points = np.vstack([X.ravel(), Y.ravel(), Z.ravel()]).T  # Flatten the grid\n",
    "grid_points = torch.tensor(grid_points, dtype=torch.float32)\n",
    "\n",
    "time_steps = np.linspace(0, tfinal, 20)  # 10 time steps from 0 to 1\n",
    "\n"
   ]
  },
  {
   "cell_type": "code",
   "execution_count": 9,
   "metadata": {},
   "outputs": [
    {
     "name": "stderr",
     "output_type": "stream",
     "text": [
      "C:\\Users\\andyh\\AppData\\Local\\Temp\\ipykernel_3192\\747668458.py:22: DeprecationWarning: Starting with ImageIO v3 the behavior of this function will switch to that of iio.v3.imread. To keep the current behavior (and make this warning disappear) use `import imageio.v2 as imageio` or call `imageio.v2.imread` directly.\n",
      "  images.append(imageio.imread(f\"concentration_t_{t:.2f}.png\"))  # Append the image to the list\n"
     ]
    }
   ],
   "source": [
    "# save as a GIF\n",
    "import imageio\n",
    "import os\n",
    "\n",
    "images = []\n",
    "# source_loc = torch.tensor([[.5,.5,.5]])\n",
    "source_loc = model.source_locs\n",
    "for t in time_steps:\n",
    "    t_tensor = torch.full((grid_points.shape[0], 1), t, dtype=torch.float32)  # Time input\n",
    "    concentration = model.forward(torch.cat([t_tensor,grid_points],dim=1),scaled=True).cpu().detach().numpy().reshape(100, 100)  # Predict and reshape\n",
    "    \n",
    "    plt.figure()\n",
    "    plt.contourf(X, Y, concentration, levels=50, cmap='viridis', vmin=0, vmax=1000)  # Plot concentration as a contour plot\n",
    "    plt.plot(model.source_locs[active_source_idx,0], model.source_locs[active_source_idx,1], 'ro', label='Source Location')  # Plot the source location\n",
    "    plt.colorbar(label='Concentration')\n",
    "    plt.title(f\"Gas Concentration at t = {t:.2f}\")\n",
    "    plt.xlabel('x')\n",
    "    plt.ylabel('y')\n",
    "    plt.savefig(f\"concentration_t_{t:.2f}.png\")  # Save the plot as an image\n",
    "    plt.close()\n",
    "    \n",
    "    images.append(imageio.imread(f\"concentration_t_{t:.2f}.png\"))  # Append the image to the list\n",
    "    os.remove(f\"concentration_t_{t:.2f}.png\")  # Remove the image file\n",
    "\n",
    "imageio.mimsave(f'output_gifs/test_site_example{int(time.time())}.gif', images)  # Save the images as a GIF\n",
    "\n"
   ]
  },
  {
   "cell_type": "code",
   "execution_count": null,
   "metadata": {},
   "outputs": [
    {
     "name": "stdout",
     "output_type": "stream",
     "text": [
      "[[61.84826691 40.32822479  4.5       ]\n",
      " [99.10094831 54.69940709  2.        ]\n",
      " [99.89962676 24.72759871  2.        ]\n",
      " [23.54499552 57.03946784  2.        ]\n",
      " [25.09781584 22.62636785  2.        ]]\n"
     ]
    }
   ],
   "source": [
    "print(source_points)"
   ]
  },
  {
   "cell_type": "code",
   "execution_count": null,
   "metadata": {},
   "outputs": [
    {
     "ename": "AttributeError",
     "evalue": "module 'time' has no attribute 'datetime'",
     "output_type": "error",
     "traceback": [
      "\u001b[1;31m---------------------------------------------------------------------------\u001b[0m",
      "\u001b[1;31mAttributeError\u001b[0m                            Traceback (most recent call last)",
      "Cell \u001b[1;32mIn[50], line 1\u001b[0m\n\u001b[1;32m----> 1\u001b[0m \u001b[38;5;28mprint\u001b[39m(\u001b[43mtime\u001b[49m\u001b[38;5;241;43m.\u001b[39;49m\u001b[43mdatetime\u001b[49m())\n",
      "\u001b[1;31mAttributeError\u001b[0m: module 'time' has no attribute 'datetime'"
     ]
    }
   ],
   "source": [
    "print(time.datetime())"
   ]
  },
  {
   "cell_type": "code",
   "execution_count": null,
   "metadata": {},
   "outputs": [],
   "source": []
  }
 ],
 "metadata": {
  "kernelspec": {
   "display_name": "Python 3",
   "language": "python",
   "name": "python3"
  },
  "language_info": {
   "codemirror_mode": {
    "name": "ipython",
    "version": 3
   },
   "file_extension": ".py",
   "mimetype": "text/x-python",
   "name": "python",
   "nbconvert_exporter": "python",
   "pygments_lexer": "ipython3",
   "version": "3.11.4"
  }
 },
 "nbformat": 4,
 "nbformat_minor": 2
}
