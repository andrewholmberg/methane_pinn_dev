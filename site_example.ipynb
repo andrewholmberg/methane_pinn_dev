{
 "cells": [
  {
   "cell_type": "code",
   "execution_count": 17,
   "metadata": {},
   "outputs": [],
   "source": [
    "import torch\n",
    "import imageio\n",
    "from PINN import PINN\n",
    "from Net import Net\n",
    "import numpy as np\n",
    "import pandas as pd\n",
    "import os\n",
    "import time\n",
    "import sklearn.mixture as mixture\n",
    "from unit_conversion import convert_wind"
   ]
  },
  {
   "cell_type": "code",
   "execution_count": null,
   "metadata": {},
   "outputs": [],
   "source": []
  },
  {
   "cell_type": "code",
   "execution_count": 18,
   "metadata": {},
   "outputs": [],
   "source": [
    "data_dir = f\"{os.getcwd()}/pinn_test_data\"\n",
    "# load in data\n",
    "df_wind_ch4 = pd.read_csv(data_dir + \"/wind_ch4.csv\")\n",
    "df_true_emission = pd.read_csv(data_dir + \"/selected_controll_release.csv\")\n",
    "source_points = np.load(data_dir + \"/source_points.npy\") # shape=(n_source, 3)\n",
    "sensor_points = np.load(data_dir + \"/sensor_points.npy\") # shape=(n_sensor, 3)\n",
    "#col_points = np.load(data_dir + \"/col_points.npy\")  # shape=(n_col, 3)\n",
    "df_bounds = pd.read_csv(data_dir + \"/bounds.csv\", dtype='float32')\n",
    "x_min = df_bounds['x_min'][0]\n",
    "x_max = df_bounds['x_max'][0]\n",
    "y_min = df_bounds['y_min'][0]\n",
    "y_max = df_bounds['y_max'][0]\n",
    "z_min = df_bounds['z_min'][0]\n",
    "z_max = df_bounds['z_max'][0]\n",
    "active_source_idx = 3\n",
    "# x_max = 1\n",
    "# y_max = 1\n",
    "# z_max = 1\n",
    "tfinal = 1.\n",
    "source_location = source_points\n",
    "\n",
    "ws = df_wind_ch4['wind_speed.m/s'].to_numpy() # shape=(N_t,)\n",
    "wd = df_wind_ch4['wind_direction'].to_numpy() # shape=(N_t,)\n",
    "df_wind_ch4['x'], df_wind_ch4['y'] = convert_wind(ws,wd)\n",
    "time_dict = dict(zip(df_wind_ch4.index,zip(df_wind_ch4.x,df_wind_ch4.y)))\n",
    "\n",
    "\n",
    "ch4 = np.transpose(df_wind_ch4.iloc[:, 3:].to_numpy()) # shape=(N_obs, N_t)\n",
    "sensor_names = df_wind_ch4.columns[3:]"
   ]
  },
  {
   "cell_type": "code",
   "execution_count": 19,
   "metadata": {},
   "outputs": [
    {
     "data": {
      "text/plain": [
       "array([[61.84826691, 40.32822479,  4.5       ],\n",
       "       [99.10094831, 54.69940709,  2.        ],\n",
       "       [99.89962676, 24.72759871,  2.        ],\n",
       "       [23.54499552, 57.03946784,  2.        ],\n",
       "       [25.09781584, 22.62636785,  2.        ]])"
      ]
     },
     "execution_count": 19,
     "metadata": {},
     "output_type": "execute_result"
    }
   ],
   "source": [
    "source_points\n"
   ]
  },
  {
   "cell_type": "code",
   "execution_count": 20,
   "metadata": {},
   "outputs": [
    {
     "name": "stdout",
     "output_type": "stream",
     "text": [
      "[0 0 0 1 0]\n"
     ]
    },
    {
     "name": "stderr",
     "output_type": "stream",
     "text": [
      "c:\\Users\\m10936927\\Documents\\methane_project\\methane_pinn_dev\\methane_pinn_dev-main\\Net.py:12: FutureWarning: `nn.init.xavier_uniform` is now deprecated in favor of `nn.init.xavier_uniform_`.\n",
      "  torch.nn.init.xavier_uniform(m.weight)\n"
     ]
    }
   ],
   "source": [
    "sigma=.2\n",
    "model = PINN([20,20,20])\n",
    "source_vals = np.array([1 if i ==active_source_idx else 0 for i in range(len(source_location))])\n",
    "print(source_vals)\n",
    "model.set_location(source_location,[tfinal,x_max,y_max,z_max],source_values=source_vals,sigma=sigma)\n"
   ]
  },
  {
   "cell_type": "code",
   "execution_count": 21,
   "metadata": {},
   "outputs": [],
   "source": [
    "optimizer = torch.optim.Adam(model.net.parameters(), lr=1e-4)\n",
    "# from torch.optim.lr_scheduler import ExponentialLR\n",
    "\n",
    "# scheduler = ExponentialLR(optimizer, gamma=0.999)  # Decay LR by 5% every epoch"
   ]
  },
  {
   "cell_type": "code",
   "execution_count": 22,
   "metadata": {},
   "outputs": [
    {
     "name": "stdout",
     "output_type": "stream",
     "text": [
      "epoch: 0, loss: 3.026e+03, grad_norm: 0.000e+00, pde_res: 3.026e+03, time: 1.772e-02\n",
      "epoch: 100, loss: 1.746e+03, grad_norm: 0.000e+00, pde_res: 1.746e+03, time: 1.837e-03\n",
      "epoch: 200, loss: 8.360e+02, grad_norm: 0.000e+00, pde_res: 8.360e+02, time: 1.551e-02\n",
      "epoch: 300, loss: 3.635e+02, grad_norm: 0.000e+00, pde_res: 3.635e+02, time: 0.000e+00\n",
      "epoch: 400, loss: 1.522e+02, grad_norm: 0.000e+00, pde_res: 1.522e+02, time: 1.636e-02\n",
      "epoch: 500, loss: 7.104e+01, grad_norm: 0.000e+00, pde_res: 7.104e+01, time: 0.000e+00\n",
      "epoch: 600, loss: 3.497e+01, grad_norm: 0.000e+00, pde_res: 3.497e+01, time: 1.653e-02\n",
      "epoch: 700, loss: 2.074e+01, grad_norm: 0.000e+00, pde_res: 2.074e+01, time: 8.733e-03\n",
      "epoch: 800, loss: 1.262e+01, grad_norm: 0.000e+00, pde_res: 1.262e+01, time: 0.000e+00\n",
      "epoch: 900, loss: 8.641e+00, grad_norm: 0.000e+00, pde_res: 8.641e+00, time: 1.664e-02\n",
      "epoch: 1000, loss: 5.660e+00, grad_norm: 0.000e+00, pde_res: 5.660e+00, time: 1.566e-02\n",
      "epoch: 1100, loss: 5.238e+00, grad_norm: 0.000e+00, pde_res: 5.238e+00, time: 0.000e+00\n",
      "epoch: 1200, loss: 3.636e+00, grad_norm: 0.000e+00, pde_res: 3.636e+00, time: 1.926e-02\n",
      "epoch: 1300, loss: 3.223e+00, grad_norm: 0.000e+00, pde_res: 3.223e+00, time: 5.585e-03\n",
      "epoch: 1400, loss: 3.275e+00, grad_norm: 0.000e+00, pde_res: 3.275e+00, time: 2.078e-02\n",
      "epoch: 1500, loss: 2.642e+00, grad_norm: 0.000e+00, pde_res: 2.642e+00, time: 1.956e-02\n",
      "epoch: 1600, loss: 2.229e+00, grad_norm: 0.000e+00, pde_res: 2.229e+00, time: 2.158e-02\n",
      "epoch: 1700, loss: 2.211e+00, grad_norm: 0.000e+00, pde_res: 2.211e+00, time: 0.000e+00\n",
      "epoch: 1800, loss: 2.219e+00, grad_norm: 0.000e+00, pde_res: 2.219e+00, time: 1.703e-03\n",
      "epoch: 1900, loss: 2.122e+00, grad_norm: 0.000e+00, pde_res: 2.122e+00, time: 1.562e-02\n",
      "epoch: 2000, loss: 1.569e+00, grad_norm: 0.000e+00, pde_res: 1.569e+00, time: 0.000e+00\n",
      "epoch: 2100, loss: 1.917e+00, grad_norm: 0.000e+00, pde_res: 1.917e+00, time: 0.000e+00\n",
      "epoch: 2200, loss: 1.825e+00, grad_norm: 0.000e+00, pde_res: 1.825e+00, time: 0.000e+00\n",
      "epoch: 2300, loss: 1.915e+00, grad_norm: 0.000e+00, pde_res: 1.915e+00, time: 1.562e-02\n",
      "epoch: 2400, loss: 1.576e+00, grad_norm: 0.000e+00, pde_res: 1.576e+00, time: 1.877e-02\n",
      "epoch: 2500, loss: 1.693e+00, grad_norm: 0.000e+00, pde_res: 1.693e+00, time: 0.000e+00\n",
      "epoch: 2600, loss: 1.303e+00, grad_norm: 0.000e+00, pde_res: 1.303e+00, time: 1.505e-02\n",
      "epoch: 2700, loss: 1.431e+00, grad_norm: 0.000e+00, pde_res: 1.431e+00, time: 0.000e+00\n",
      "epoch: 2800, loss: 1.223e+00, grad_norm: 0.000e+00, pde_res: 1.223e+00, time: 0.000e+00\n",
      "epoch: 2900, loss: 1.265e+00, grad_norm: 0.000e+00, pde_res: 1.265e+00, time: 0.000e+00\n",
      "epoch: 3000, loss: 1.115e+00, grad_norm: 0.000e+00, pde_res: 1.115e+00, time: 7.256e-03\n",
      "epoch: 3100, loss: 1.178e+00, grad_norm: 0.000e+00, pde_res: 1.178e+00, time: 1.914e-02\n",
      "epoch: 3200, loss: 9.928e-01, grad_norm: 0.000e+00, pde_res: 9.928e-01, time: 0.000e+00\n",
      "epoch: 3300, loss: 8.926e-01, grad_norm: 0.000e+00, pde_res: 8.926e-01, time: 0.000e+00\n",
      "epoch: 3400, loss: 1.196e+00, grad_norm: 0.000e+00, pde_res: 1.196e+00, time: 1.563e-02\n",
      "epoch: 3500, loss: 8.300e-01, grad_norm: 0.000e+00, pde_res: 8.300e-01, time: 0.000e+00\n",
      "epoch: 3600, loss: 7.814e-01, grad_norm: 0.000e+00, pde_res: 7.814e-01, time: 1.653e-02\n",
      "epoch: 3700, loss: 6.734e-01, grad_norm: 0.000e+00, pde_res: 6.734e-01, time: 1.562e-02\n",
      "epoch: 3800, loss: 8.189e-01, grad_norm: 0.000e+00, pde_res: 8.189e-01, time: 0.000e+00\n",
      "epoch: 3900, loss: 6.195e-01, grad_norm: 0.000e+00, pde_res: 6.195e-01, time: 1.907e-02\n",
      "epoch: 4000, loss: 5.476e-01, grad_norm: 0.000e+00, pde_res: 5.476e-01, time: 1.670e-02\n",
      "epoch: 4100, loss: 5.834e-01, grad_norm: 0.000e+00, pde_res: 5.834e-01, time: 0.000e+00\n",
      "epoch: 4200, loss: 6.159e-01, grad_norm: 0.000e+00, pde_res: 6.159e-01, time: 5.420e-03\n",
      "epoch: 4300, loss: 6.082e-01, grad_norm: 0.000e+00, pde_res: 6.082e-01, time: 1.510e-02\n",
      "epoch: 4400, loss: 7.567e-01, grad_norm: 0.000e+00, pde_res: 7.567e-01, time: 6.332e-03\n",
      "epoch: 4500, loss: 7.272e-01, grad_norm: 0.000e+00, pde_res: 7.272e-01, time: 1.900e-02\n",
      "epoch: 4600, loss: 3.739e-01, grad_norm: 0.000e+00, pde_res: 3.739e-01, time: 1.673e-02\n",
      "epoch: 4700, loss: 5.230e-01, grad_norm: 0.000e+00, pde_res: 5.230e-01, time: 8.299e-03\n",
      "epoch: 4800, loss: 5.033e-01, grad_norm: 0.000e+00, pde_res: 5.033e-01, time: 9.976e-03\n",
      "epoch: 4900, loss: 6.174e-01, grad_norm: 0.000e+00, pde_res: 6.174e-01, time: 4.128e-03\n",
      "epoch: 5000, loss: 3.905e-01, grad_norm: 0.000e+00, pde_res: 3.905e-01, time: 8.614e-03\n",
      "epoch: 5100, loss: 4.695e-01, grad_norm: 0.000e+00, pde_res: 4.695e-01, time: 9.121e-03\n",
      "epoch: 5200, loss: 4.509e-01, grad_norm: 0.000e+00, pde_res: 4.509e-01, time: 1.416e-02\n",
      "epoch: 5300, loss: 3.766e-01, grad_norm: 0.000e+00, pde_res: 3.766e-01, time: 2.776e-03\n",
      "epoch: 5400, loss: 3.875e-01, grad_norm: 0.000e+00, pde_res: 3.875e-01, time: 0.000e+00\n",
      "epoch: 5500, loss: 4.523e-01, grad_norm: 0.000e+00, pde_res: 4.523e-01, time: 1.613e-02\n",
      "epoch: 5600, loss: 3.870e-01, grad_norm: 0.000e+00, pde_res: 3.870e-01, time: 1.671e-02\n",
      "epoch: 5700, loss: 3.245e-01, grad_norm: 0.000e+00, pde_res: 3.245e-01, time: 2.916e-03\n",
      "epoch: 5800, loss: 5.027e-01, grad_norm: 0.000e+00, pde_res: 5.027e-01, time: 0.000e+00\n",
      "epoch: 5900, loss: 3.482e-01, grad_norm: 0.000e+00, pde_res: 3.482e-01, time: 0.000e+00\n",
      "epoch: 6000, loss: 6.548e-01, grad_norm: 0.000e+00, pde_res: 6.548e-01, time: 3.444e-03\n",
      "epoch: 6100, loss: 4.938e-01, grad_norm: 0.000e+00, pde_res: 4.938e-01, time: 9.820e-04\n",
      "epoch: 6200, loss: 4.803e-01, grad_norm: 0.000e+00, pde_res: 4.803e-01, time: 1.522e-02\n",
      "epoch: 6300, loss: 4.569e-01, grad_norm: 0.000e+00, pde_res: 4.569e-01, time: 1.663e-02\n",
      "epoch: 6400, loss: 3.863e-01, grad_norm: 0.000e+00, pde_res: 3.863e-01, time: 0.000e+00\n",
      "epoch: 6500, loss: 5.097e-01, grad_norm: 0.000e+00, pde_res: 5.097e-01, time: 0.000e+00\n",
      "epoch: 6600, loss: 5.255e-01, grad_norm: 0.000e+00, pde_res: 5.255e-01, time: 1.672e-02\n",
      "epoch: 6700, loss: 3.629e-01, grad_norm: 0.000e+00, pde_res: 3.629e-01, time: 1.666e-02\n",
      "epoch: 6800, loss: 5.722e-01, grad_norm: 0.000e+00, pde_res: 5.722e-01, time: 1.665e-02\n",
      "epoch: 6900, loss: 3.859e-01, grad_norm: 0.000e+00, pde_res: 3.859e-01, time: 9.885e-04\n",
      "epoch: 7000, loss: 5.782e-01, grad_norm: 0.000e+00, pde_res: 5.782e-01, time: 5.512e-04\n",
      "epoch: 7100, loss: 4.571e-01, grad_norm: 0.000e+00, pde_res: 4.571e-01, time: 7.030e-03\n",
      "epoch: 7200, loss: 5.025e-01, grad_norm: 0.000e+00, pde_res: 5.025e-01, time: 1.659e-02\n",
      "epoch: 7300, loss: 3.008e-01, grad_norm: 0.000e+00, pde_res: 3.008e-01, time: 0.000e+00\n",
      "epoch: 7400, loss: 4.166e-01, grad_norm: 0.000e+00, pde_res: 4.166e-01, time: 1.388e-02\n",
      "epoch: 7500, loss: 3.857e-01, grad_norm: 0.000e+00, pde_res: 3.857e-01, time: 0.000e+00\n",
      "epoch: 7600, loss: 3.971e-01, grad_norm: 0.000e+00, pde_res: 3.971e-01, time: 1.672e-02\n",
      "epoch: 7700, loss: 2.481e-01, grad_norm: 0.000e+00, pde_res: 2.481e-01, time: 0.000e+00\n",
      "epoch: 7800, loss: 4.344e-01, grad_norm: 0.000e+00, pde_res: 4.344e-01, time: 7.010e-03\n",
      "epoch: 7900, loss: 3.352e-01, grad_norm: 0.000e+00, pde_res: 3.352e-01, time: 0.000e+00\n",
      "epoch: 8000, loss: 3.449e-01, grad_norm: 0.000e+00, pde_res: 3.449e-01, time: 0.000e+00\n",
      "epoch: 8100, loss: 3.192e-01, grad_norm: 0.000e+00, pde_res: 3.192e-01, time: 6.999e-03\n",
      "epoch: 8200, loss: 2.887e-01, grad_norm: 0.000e+00, pde_res: 2.887e-01, time: 1.549e-03\n",
      "epoch: 8300, loss: 4.364e-01, grad_norm: 0.000e+00, pde_res: 4.364e-01, time: 0.000e+00\n",
      "epoch: 8400, loss: 5.607e-01, grad_norm: 0.000e+00, pde_res: 5.607e-01, time: 0.000e+00\n",
      "epoch: 8500, loss: 2.917e-01, grad_norm: 0.000e+00, pde_res: 2.917e-01, time: 4.891e-03\n",
      "epoch: 8600, loss: 2.705e-01, grad_norm: 0.000e+00, pde_res: 2.705e-01, time: 0.000e+00\n",
      "epoch: 8700, loss: 3.848e-01, grad_norm: 0.000e+00, pde_res: 3.848e-01, time: 0.000e+00\n",
      "epoch: 8800, loss: 3.332e-01, grad_norm: 0.000e+00, pde_res: 3.332e-01, time: 1.612e-02\n",
      "epoch: 8900, loss: 4.502e-01, grad_norm: 0.000e+00, pde_res: 4.502e-01, time: 1.716e-02\n",
      "epoch: 9000, loss: 3.017e-01, grad_norm: 0.000e+00, pde_res: 3.017e-01, time: 0.000e+00\n",
      "epoch: 9100, loss: 3.050e-01, grad_norm: 0.000e+00, pde_res: 3.050e-01, time: 1.427e-02\n",
      "epoch: 9200, loss: 2.926e-01, grad_norm: 0.000e+00, pde_res: 2.926e-01, time: 4.990e-03\n",
      "epoch: 9300, loss: 3.686e-01, grad_norm: 0.000e+00, pde_res: 3.686e-01, time: 1.440e-02\n",
      "epoch: 9400, loss: 4.313e-01, grad_norm: 0.000e+00, pde_res: 4.313e-01, time: 1.681e-02\n",
      "epoch: 9500, loss: 1.892e-01, grad_norm: 0.000e+00, pde_res: 1.892e-01, time: 0.000e+00\n",
      "epoch: 9600, loss: 3.339e-01, grad_norm: 0.000e+00, pde_res: 3.339e-01, time: 2.251e-02\n",
      "epoch: 9700, loss: 3.299e-01, grad_norm: 0.000e+00, pde_res: 3.299e-01, time: 1.193e-02\n",
      "epoch: 9800, loss: 5.157e-01, grad_norm: 0.000e+00, pde_res: 5.157e-01, time: 1.126e-02\n",
      "epoch: 9900, loss: 4.042e-01, grad_norm: 0.000e+00, pde_res: 4.042e-01, time: 1.947e-03\n",
      "epoch: 10000, loss: 3.656e-01, grad_norm: 0.000e+00, pde_res: 3.656e-01, time: 5.922e-03\n",
      "epoch: 10100, loss: 2.989e-01, grad_norm: 0.000e+00, pde_res: 2.989e-01, time: 0.000e+00\n",
      "epoch: 10200, loss: 2.615e-01, grad_norm: 0.000e+00, pde_res: 2.615e-01, time: 1.665e-02\n",
      "epoch: 10300, loss: 3.195e-01, grad_norm: 0.000e+00, pde_res: 3.195e-01, time: 0.000e+00\n",
      "epoch: 10400, loss: 3.654e-01, grad_norm: 0.000e+00, pde_res: 3.654e-01, time: 1.635e-02\n",
      "epoch: 10500, loss: 2.469e-01, grad_norm: 0.000e+00, pde_res: 2.469e-01, time: 0.000e+00\n",
      "epoch: 10600, loss: 2.378e-01, grad_norm: 0.000e+00, pde_res: 2.378e-01, time: 1.068e-02\n",
      "epoch: 10700, loss: 2.602e-01, grad_norm: 0.000e+00, pde_res: 2.602e-01, time: 1.665e-02\n",
      "epoch: 10800, loss: 3.745e-01, grad_norm: 0.000e+00, pde_res: 3.745e-01, time: 0.000e+00\n",
      "epoch: 10900, loss: 3.180e-01, grad_norm: 0.000e+00, pde_res: 3.180e-01, time: 0.000e+00\n",
      "epoch: 11000, loss: 2.882e-01, grad_norm: 0.000e+00, pde_res: 2.882e-01, time: 0.000e+00\n",
      "epoch: 11100, loss: 2.971e-01, grad_norm: 0.000e+00, pde_res: 2.971e-01, time: 2.471e-03\n",
      "epoch: 11200, loss: 3.665e-01, grad_norm: 0.000e+00, pde_res: 3.665e-01, time: 0.000e+00\n",
      "epoch: 11300, loss: 2.464e-01, grad_norm: 0.000e+00, pde_res: 2.464e-01, time: 1.667e-02\n",
      "epoch: 11400, loss: 2.524e-01, grad_norm: 0.000e+00, pde_res: 2.524e-01, time: 1.839e-02\n",
      "epoch: 11500, loss: 4.053e-01, grad_norm: 0.000e+00, pde_res: 4.053e-01, time: 1.652e-02\n",
      "epoch: 11600, loss: 4.085e-01, grad_norm: 0.000e+00, pde_res: 4.085e-01, time: 1.647e-02\n",
      "epoch: 11700, loss: 3.153e-01, grad_norm: 0.000e+00, pde_res: 3.153e-01, time: 4.753e-03\n",
      "epoch: 11800, loss: 2.122e-01, grad_norm: 0.000e+00, pde_res: 2.122e-01, time: 2.275e-02\n",
      "epoch: 11900, loss: 4.453e-01, grad_norm: 0.000e+00, pde_res: 4.453e-01, time: 4.277e-04\n",
      "epoch: 12000, loss: 4.162e-01, grad_norm: 0.000e+00, pde_res: 4.162e-01, time: 1.659e-02\n",
      "epoch: 12100, loss: 3.772e-01, grad_norm: 0.000e+00, pde_res: 3.772e-01, time: 9.001e-03\n",
      "epoch: 12200, loss: 2.931e-01, grad_norm: 0.000e+00, pde_res: 2.931e-01, time: 0.000e+00\n",
      "epoch: 12300, loss: 1.700e-01, grad_norm: 0.000e+00, pde_res: 1.700e-01, time: 0.000e+00\n",
      "epoch: 12400, loss: 3.092e-01, grad_norm: 0.000e+00, pde_res: 3.092e-01, time: 1.569e-02\n",
      "epoch: 12500, loss: 2.596e-01, grad_norm: 0.000e+00, pde_res: 2.596e-01, time: 1.666e-02\n",
      "epoch: 12600, loss: 4.528e-01, grad_norm: 0.000e+00, pde_res: 4.528e-01, time: 9.962e-03\n",
      "epoch: 12700, loss: 3.027e-01, grad_norm: 0.000e+00, pde_res: 3.027e-01, time: 1.194e-02\n",
      "epoch: 12800, loss: 2.533e-01, grad_norm: 0.000e+00, pde_res: 2.533e-01, time: 1.831e-03\n",
      "epoch: 12900, loss: 2.670e-01, grad_norm: 0.000e+00, pde_res: 2.670e-01, time: 8.877e-03\n",
      "epoch: 13000, loss: 3.216e-01, grad_norm: 0.000e+00, pde_res: 3.216e-01, time: 5.882e-03\n",
      "epoch: 13100, loss: 3.519e-01, grad_norm: 0.000e+00, pde_res: 3.519e-01, time: 2.133e-02\n",
      "epoch: 13200, loss: 2.280e-01, grad_norm: 0.000e+00, pde_res: 2.280e-01, time: 2.215e-02\n",
      "epoch: 13300, loss: 2.397e-01, grad_norm: 0.000e+00, pde_res: 2.397e-01, time: 1.652e-02\n",
      "epoch: 13400, loss: 2.097e-01, grad_norm: 0.000e+00, pde_res: 2.097e-01, time: 1.058e-02\n",
      "epoch: 13500, loss: 1.682e-01, grad_norm: 0.000e+00, pde_res: 1.682e-01, time: 0.000e+00\n",
      "epoch: 13600, loss: 4.199e-01, grad_norm: 0.000e+00, pde_res: 4.199e-01, time: 1.671e-02\n",
      "epoch: 13700, loss: 3.793e-01, grad_norm: 0.000e+00, pde_res: 3.793e-01, time: 9.546e-03\n"
     ]
    },
    {
     "ename": "KeyboardInterrupt",
     "evalue": "",
     "output_type": "error",
     "traceback": [
      "\u001b[1;31m---------------------------------------------------------------------------\u001b[0m",
      "\u001b[1;31mKeyboardInterrupt\u001b[0m                         Traceback (most recent call last)",
      "Cell \u001b[1;32mIn[22], line 44\u001b[0m\n\u001b[0;32m     42\u001b[0m \u001b[38;5;28;01mif\u001b[39;00m loss\u001b[38;5;241m.\u001b[39mitem() \u001b[38;5;241m<\u001b[39m best_loss:\n\u001b[0;32m     43\u001b[0m     torch\u001b[38;5;241m.\u001b[39msave(model,\u001b[38;5;124m'\u001b[39m\u001b[38;5;124mbest_mod.m\u001b[39m\u001b[38;5;124m'\u001b[39m)\n\u001b[1;32m---> 44\u001b[0m \u001b[43moptimizer\u001b[49m\u001b[38;5;241;43m.\u001b[39;49m\u001b[43mstep\u001b[49m\u001b[43m(\u001b[49m\u001b[43m)\u001b[49m\n\u001b[0;32m     46\u001b[0m end_time \u001b[38;5;241m=\u001b[39m time\u001b[38;5;241m.\u001b[39mtime()\n\u001b[0;32m     47\u001b[0m epoch_time \u001b[38;5;241m=\u001b[39m end_time \u001b[38;5;241m-\u001b[39m start_time\n",
      "File \u001b[1;32m~\\AppData\\Local\\Packages\\PythonSoftwareFoundation.Python.3.11_qbz5n2kfra8p0\\LocalCache\\local-packages\\Python311\\site-packages\\torch\\optim\\optimizer.py:478\u001b[0m, in \u001b[0;36mOptimizer.profile_hook_step.<locals>.wrapper\u001b[1;34m(*args, **kwargs)\u001b[0m\n\u001b[0;32m    476\u001b[0m \u001b[38;5;28mself\u001b[39m \u001b[38;5;241m=\u001b[39m cast(Optimizer, \u001b[38;5;28mself\u001b[39m)\n\u001b[0;32m    477\u001b[0m profile_name \u001b[38;5;241m=\u001b[39m \u001b[38;5;124mf\u001b[39m\u001b[38;5;124m\"\u001b[39m\u001b[38;5;124mOptimizer.step#\u001b[39m\u001b[38;5;132;01m{\u001b[39;00m\u001b[38;5;28mself\u001b[39m\u001b[38;5;241m.\u001b[39m\u001b[38;5;18m__class__\u001b[39m\u001b[38;5;241m.\u001b[39m\u001b[38;5;18m__name__\u001b[39m\u001b[38;5;132;01m}\u001b[39;00m\u001b[38;5;124m.step\u001b[39m\u001b[38;5;124m\"\u001b[39m\n\u001b[1;32m--> 478\u001b[0m \u001b[43m\u001b[49m\u001b[38;5;28;43;01mwith\u001b[39;49;00m\u001b[43m \u001b[49m\u001b[43mtorch\u001b[49m\u001b[38;5;241;43m.\u001b[39;49m\u001b[43mautograd\u001b[49m\u001b[38;5;241;43m.\u001b[39;49m\u001b[43mprofiler\u001b[49m\u001b[38;5;241;43m.\u001b[39;49m\u001b[43mrecord_function\u001b[49m\u001b[43m(\u001b[49m\u001b[43mprofile_name\u001b[49m\u001b[43m)\u001b[49m\u001b[43m:\u001b[49m\n\u001b[0;32m    479\u001b[0m \u001b[43m    \u001b[49m\u001b[38;5;66;43;03m# call optimizer step pre hooks\u001b[39;49;00m\n\u001b[0;32m    480\u001b[0m \u001b[43m    \u001b[49m\u001b[38;5;28;43;01mfor\u001b[39;49;00m\u001b[43m \u001b[49m\u001b[43mpre_hook\u001b[49m\u001b[43m \u001b[49m\u001b[38;5;129;43;01min\u001b[39;49;00m\u001b[43m \u001b[49m\u001b[43mchain\u001b[49m\u001b[43m(\u001b[49m\n\u001b[0;32m    481\u001b[0m \u001b[43m        \u001b[49m\u001b[43m_global_optimizer_pre_hooks\u001b[49m\u001b[38;5;241;43m.\u001b[39;49m\u001b[43mvalues\u001b[49m\u001b[43m(\u001b[49m\u001b[43m)\u001b[49m\u001b[43m,\u001b[49m\n\u001b[0;32m    482\u001b[0m \u001b[43m        \u001b[49m\u001b[38;5;28;43mself\u001b[39;49m\u001b[38;5;241;43m.\u001b[39;49m\u001b[43m_optimizer_step_pre_hooks\u001b[49m\u001b[38;5;241;43m.\u001b[39;49m\u001b[43mvalues\u001b[49m\u001b[43m(\u001b[49m\u001b[43m)\u001b[49m\u001b[43m,\u001b[49m\n\u001b[0;32m    483\u001b[0m \u001b[43m    \u001b[49m\u001b[43m)\u001b[49m\u001b[43m:\u001b[49m\n\u001b[0;32m    484\u001b[0m \u001b[43m        \u001b[49m\u001b[43mresult\u001b[49m\u001b[43m \u001b[49m\u001b[38;5;241;43m=\u001b[39;49m\u001b[43m \u001b[49m\u001b[43mpre_hook\u001b[49m\u001b[43m(\u001b[49m\u001b[38;5;28;43mself\u001b[39;49m\u001b[43m,\u001b[49m\u001b[43m \u001b[49m\u001b[43margs\u001b[49m\u001b[43m,\u001b[49m\u001b[43m \u001b[49m\u001b[43mkwargs\u001b[49m\u001b[43m)\u001b[49m\n",
      "File \u001b[1;32m~\\AppData\\Local\\Packages\\PythonSoftwareFoundation.Python.3.11_qbz5n2kfra8p0\\LocalCache\\local-packages\\Python311\\site-packages\\torch\\autograd\\profiler.py:752\u001b[0m, in \u001b[0;36mrecord_function.__enter__\u001b[1;34m(self)\u001b[0m\n\u001b[0;32m    751\u001b[0m \u001b[38;5;28;01mdef\u001b[39;00m \u001b[38;5;21m__enter__\u001b[39m(\u001b[38;5;28mself\u001b[39m):\n\u001b[1;32m--> 752\u001b[0m     \u001b[38;5;28mself\u001b[39m\u001b[38;5;241m.\u001b[39mrecord \u001b[38;5;241m=\u001b[39m \u001b[43mtorch\u001b[49m\u001b[38;5;241;43m.\u001b[39;49m\u001b[43mops\u001b[49m\u001b[38;5;241;43m.\u001b[39;49m\u001b[43mprofiler\u001b[49m\u001b[38;5;241;43m.\u001b[39;49m\u001b[43m_record_function_enter_new\u001b[49m\u001b[43m(\u001b[49m\n\u001b[0;32m    753\u001b[0m \u001b[43m        \u001b[49m\u001b[38;5;28;43mself\u001b[39;49m\u001b[38;5;241;43m.\u001b[39;49m\u001b[43mname\u001b[49m\u001b[43m,\u001b[49m\u001b[43m \u001b[49m\u001b[38;5;28;43mself\u001b[39;49m\u001b[38;5;241;43m.\u001b[39;49m\u001b[43margs\u001b[49m\n\u001b[0;32m    754\u001b[0m \u001b[43m    \u001b[49m\u001b[43m)\u001b[49m\n\u001b[0;32m    755\u001b[0m     \u001b[38;5;28;01mreturn\u001b[39;00m \u001b[38;5;28mself\u001b[39m\n",
      "File \u001b[1;32m~\\AppData\\Local\\Packages\\PythonSoftwareFoundation.Python.3.11_qbz5n2kfra8p0\\LocalCache\\local-packages\\Python311\\site-packages\\torch\\_ops.py:1123\u001b[0m, in \u001b[0;36mOpOverloadPacket.__call__\u001b[1;34m(self, *args, **kwargs)\u001b[0m\n\u001b[0;32m   1121\u001b[0m \u001b[38;5;28;01mif\u001b[39;00m \u001b[38;5;28mself\u001b[39m\u001b[38;5;241m.\u001b[39m_has_torchbind_op_overload \u001b[38;5;129;01mand\u001b[39;00m _must_dispatch_in_python(args, kwargs):\n\u001b[0;32m   1122\u001b[0m     \u001b[38;5;28;01mreturn\u001b[39;00m _call_overload_packet_from_python(\u001b[38;5;28mself\u001b[39m, args, kwargs)\n\u001b[1;32m-> 1123\u001b[0m \u001b[38;5;28;01mreturn\u001b[39;00m \u001b[38;5;28;43mself\u001b[39;49m\u001b[38;5;241;43m.\u001b[39;49m\u001b[43m_op\u001b[49m\u001b[43m(\u001b[49m\u001b[38;5;241;43m*\u001b[39;49m\u001b[43margs\u001b[49m\u001b[43m,\u001b[49m\u001b[43m \u001b[49m\u001b[38;5;241;43m*\u001b[39;49m\u001b[38;5;241;43m*\u001b[39;49m\u001b[43m(\u001b[49m\u001b[43mkwargs\u001b[49m\u001b[43m \u001b[49m\u001b[38;5;129;43;01mor\u001b[39;49;00m\u001b[43m \u001b[49m\u001b[43m{\u001b[49m\u001b[43m}\u001b[49m\u001b[43m)\u001b[49m\u001b[43m)\u001b[49m\n",
      "\u001b[1;31mKeyboardInterrupt\u001b[0m: "
     ]
    }
   ],
   "source": [
    "n= int(5e2)\n",
    "# n=1\n",
    "icn = int(1e2)\n",
    "sn = int(1e2)\n",
    "best_loss = np.inf\n",
    "max_epochs = int(2e4)\n",
    "print_freq = 100\n",
    "\n",
    "sampling_freq = 10 # how often to resample collocation and source points\n",
    "\n",
    "for epoch in range(max_epochs):\n",
    "\n",
    "    start_time = time.time()\n",
    "\n",
    "    if epoch % sampling_freq == 0:\n",
    "\n",
    "        source_collocation_points = model.source_points(sn,sigma*2) \n",
    "        ic_col = torch.cat([torch.zeros(icn,1), torch.rand(icn,1)*x_max, torch.rand(icn,1)*y_max, torch.rand(icn,1)*z_max], dim=1)\n",
    "        collocation_points = torch.cat([torch.rand(n,1)*tfinal, torch.rand(n,1)*x_max*2 - x_max*.5, torch.rand(n,1)*y_max*2- y_max*.5, torch.rand(n,1)*z_max*2 - z_max*.5], dim=1)\n",
    "        # collocation_points = torch.cat([collocation_points,ic_col,source_collocation_points])\n",
    "        collocation_points = torch.cat([collocation_points,source_collocation_points,ic_col])\n",
    "        collocation_points.requires_grad_(True)\n",
    "        # t = np.floor(collocation_points[:,0:1].detach().numpy().flatten())\n",
    "        # uv = torch.tensor([time_dict[t[i]] for i in range(len(t))])\n",
    "        uv = torch.ones(len(collocation_points),2)*10#wind tensor\n",
    "        uv[:,1:]*= -1\n",
    "    optimizer.zero_grad()\n",
    "\n",
    "    loss_1 ,pde_1 = model.compute_pde_loss(collocation_points,uv) # PDE residual loss\n",
    "\n",
    "    loss = loss_1\n",
    "\n",
    "    loss.backward()\n",
    "\n",
    "    # compute norm of gradient of the network\n",
    "    grad_norm = 0\n",
    "    # for p in model.net.parameters():\n",
    "    #     grad_norm += p.grad.data.norm(2).item()**2\n",
    "    # grad_norm = grad_norm**0.5\n",
    "\n",
    "\n",
    "    if loss.item() < best_loss:\n",
    "        torch.save(model,'best_mod.m')\n",
    "    optimizer.step()\n",
    "\n",
    "    end_time = time.time()\n",
    "    epoch_time = end_time - start_time\n",
    "    # scheduler.step()\n",
    "\n",
    "    if epoch % print_freq == 0:\n",
    "\n",
    "        print('epoch: %d, loss: %1.3e, grad_norm: %1.3e, pde_res: %1.3e, time: %1.3e' % (epoch, loss.item(), grad_norm, loss_1.item(), epoch_time))\n",
    "\n"
   ]
  },
  {
   "cell_type": "markdown",
   "metadata": {},
   "source": []
  },
  {
   "cell_type": "code",
   "execution_count": null,
   "metadata": {},
   "outputs": [
    {
     "name": "stdout",
     "output_type": "stream",
     "text": [
      "124.0\n"
     ]
    }
   ],
   "source": [
    "print(x_max)"
   ]
  },
  {
   "cell_type": "code",
   "execution_count": null,
   "metadata": {},
   "outputs": [],
   "source": [
    "model = torch.load('best_mod.m')"
   ]
  },
  {
   "cell_type": "code",
   "execution_count": 23,
   "metadata": {},
   "outputs": [],
   "source": [
    "import matplotlib.pyplot as plt\n",
    "\n",
    "# load the best model \n",
    "Z_value = source_location[active_source_idx,2]\n",
    "# net.load_state_dict(torch.load('best_model.pth'))\n",
    "\n",
    "# Define the grid and time steps\n",
    "n= 100\n",
    "x_grid = np.linspace(0, x_max, n)\n",
    "y_grid = np.linspace(0, y_max, n)\n",
    "z_grid = np.linspace(0, z_max, n)\n",
    "\n",
    "X, Y, = np.meshgrid(x_grid, y_grid)\n",
    "Z= X * 0 + Z_value\n",
    "\n",
    "grid_points = np.vstack([X.ravel(), Y.ravel(), Z.ravel()]).T\n",
    "# grid_points = np.vstack([X.ravel(), Y.ravel(), Z.ravel()]).T  # Flatten the grid\n",
    "grid_points = torch.tensor(grid_points, dtype=torch.float32)\n",
    "\n",
    "time_steps = np.linspace(0, tfinal, 20)  # 10 time steps from 0 to 1\n",
    "\n"
   ]
  },
  {
   "cell_type": "code",
   "execution_count": 24,
   "metadata": {},
   "outputs": [
    {
     "name": "stderr",
     "output_type": "stream",
     "text": [
      "C:\\Users\\m10936927\\AppData\\Local\\Temp\\ipykernel_1736\\4018537943.py:22: DeprecationWarning: Starting with ImageIO v3 the behavior of this function will switch to that of iio.v3.imread. To keep the current behavior (and make this warning disappear) use `import imageio.v2 as imageio` or call `imageio.v2.imread` directly.\n",
      "  images.append(imageio.imread(f\"concentration_t_{t:.2f}.png\"))  # Append the image to the list\n"
     ]
    }
   ],
   "source": [
    "# save as a GIF\n",
    "import imageio\n",
    "import os\n",
    "\n",
    "images = []\n",
    "# source_loc = torch.tensor([[.5,.5,.5]])\n",
    "source_loc = model.source_locs\n",
    "for t in time_steps:\n",
    "    t_tensor = torch.full((grid_points.shape[0], 1), t, dtype=torch.float32)  # Time input\n",
    "    concentration = model.forward(torch.cat([t_tensor,grid_points],dim=1),scaled=True).cpu().detach().numpy().reshape(100, 100)  # Predict and reshape\n",
    "    \n",
    "    plt.figure()\n",
    "    plt.contourf(X, Y, concentration, levels=50, cmap='viridis', vmin=0, vmax=.5)  # Plot concentration as a contour plot\n",
    "    plt.plot(model.source_locs[active_source_idx,0], model.source_locs[active_source_idx,1], 'ro', label='Source Location')  # Plot the source location\n",
    "    plt.colorbar(label='Concentration')\n",
    "    plt.title(f\"Gas Concentration at t = {t:.2f}\")\n",
    "    plt.xlabel('x')\n",
    "    plt.ylabel('y')\n",
    "    plt.savefig(f\"concentration_t_{t:.2f}.png\")  # Save the plot as an image\n",
    "    plt.close()\n",
    "    \n",
    "    images.append(imageio.imread(f\"concentration_t_{t:.2f}.png\"))  # Append the image to the list\n",
    "    os.remove(f\"concentration_t_{t:.2f}.png\")  # Remove the image file\n",
    "\n",
    "imageio.mimsave(f'output_gifs/test_site_example{int(time.time())}.gif', images)  # Save the images as a GIF\n",
    "\n"
   ]
  },
  {
   "cell_type": "code",
   "execution_count": null,
   "metadata": {},
   "outputs": [
    {
     "name": "stdout",
     "output_type": "stream",
     "text": [
      "[[61.84826691 40.32822479  4.5       ]\n",
      " [99.10094831 54.69940709  2.        ]\n",
      " [99.89962676 24.72759871  2.        ]\n",
      " [23.54499552 57.03946784  2.        ]\n",
      " [25.09781584 22.62636785  2.        ]]\n"
     ]
    }
   ],
   "source": [
    "print(source_points)"
   ]
  },
  {
   "cell_type": "code",
   "execution_count": null,
   "metadata": {},
   "outputs": [
    {
     "ename": "AttributeError",
     "evalue": "module 'time' has no attribute 'datetime'",
     "output_type": "error",
     "traceback": [
      "\u001b[1;31m---------------------------------------------------------------------------\u001b[0m",
      "\u001b[1;31mAttributeError\u001b[0m                            Traceback (most recent call last)",
      "Cell \u001b[1;32mIn[50], line 1\u001b[0m\n\u001b[1;32m----> 1\u001b[0m \u001b[38;5;28mprint\u001b[39m(\u001b[43mtime\u001b[49m\u001b[38;5;241;43m.\u001b[39;49m\u001b[43mdatetime\u001b[49m())\n",
      "\u001b[1;31mAttributeError\u001b[0m: module 'time' has no attribute 'datetime'"
     ]
    }
   ],
   "source": [
    "print(time.datetime())"
   ]
  },
  {
   "cell_type": "code",
   "execution_count": null,
   "metadata": {},
   "outputs": [],
   "source": []
  }
 ],
 "metadata": {
  "kernelspec": {
   "display_name": "Python 3",
   "language": "python",
   "name": "python3"
  },
  "language_info": {
   "codemirror_mode": {
    "name": "ipython",
    "version": 3
   },
   "file_extension": ".py",
   "mimetype": "text/x-python",
   "name": "python",
   "nbconvert_exporter": "python",
   "pygments_lexer": "ipython3",
   "version": "3.11.9"
  }
 },
 "nbformat": 4,
 "nbformat_minor": 2
}
