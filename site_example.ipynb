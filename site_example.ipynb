{
 "cells": [
  {
   "cell_type": "code",
   "execution_count": 1,
   "metadata": {},
   "outputs": [
    {
     "name": "stdout",
     "output_type": "stream",
     "text": [
      "(0.7071067811865476, 0.7071067811865476)\n"
     ]
    }
   ],
   "source": [
    "import torch\n",
    "import imageio\n",
    "from PINN import PINN\n",
    "from Net import Net\n",
    "import numpy as np\n",
    "import pandas as pd\n",
    "import os\n",
    "import time\n",
    "import sklearn.mixture as mixture\n",
    "from unit_conversion import convert_wind"
   ]
  },
  {
   "cell_type": "code",
   "execution_count": null,
   "metadata": {},
   "outputs": [],
   "source": []
  },
  {
   "cell_type": "code",
   "execution_count": 2,
   "metadata": {},
   "outputs": [],
   "source": [
    "data_dir = f\"{os.getcwd()}/pinn_test_data\"\n",
    "# load in data\n",
    "df_wind_ch4 = pd.read_csv(data_dir + \"/wind_ch4.csv\")\n",
    "df_true_emission = pd.read_csv(data_dir + \"/selected_controll_release.csv\")\n",
    "source_points = np.load(data_dir + \"/source_points.npy\") # shape=(n_source, 3)\n",
    "sensor_points = np.load(data_dir + \"/sensor_points.npy\") # shape=(n_sensor, 3)\n",
    "#col_points = np.load(data_dir + \"/col_points.npy\")  # shape=(n_col, 3)\n",
    "df_bounds = pd.read_csv(data_dir + \"/bounds.csv\", dtype='float32')\n",
    "x_min = df_bounds['x_min'][0]\n",
    "x_max = df_bounds['x_max'][0]\n",
    "y_min = df_bounds['y_min'][0]\n",
    "y_max = df_bounds['y_max'][0]\n",
    "z_min = df_bounds['z_min'][0]\n",
    "z_max = df_bounds['z_max'][0]\n",
    "active_source_idx = 3\n",
    "# x_max = 1\n",
    "# y_max = 1\n",
    "# z_max = 1\n",
    "tfinal = 1.\n",
    "source_location = source_points\n",
    "\n",
    "ws = df_wind_ch4['wind_speed.m/s'].to_numpy() # shape=(N_t,)\n",
    "wd = df_wind_ch4['wind_direction'].to_numpy() # shape=(N_t,)\n",
    "df_wind_ch4['x'], df_wind_ch4['y'] = convert_wind(ws,wd)\n",
    "time_dict = dict(zip(df_wind_ch4.index,zip(df_wind_ch4.x,df_wind_ch4.y)))\n",
    "\n",
    "\n",
    "ch4 = np.transpose(df_wind_ch4.iloc[:, 3:].to_numpy()) # shape=(N_obs, N_t)\n",
    "sensor_names = df_wind_ch4.columns[3:]"
   ]
  },
  {
   "cell_type": "code",
   "execution_count": 3,
   "metadata": {},
   "outputs": [
    {
     "name": "stdout",
     "output_type": "stream",
     "text": [
      "{0: (-2.6129071570136104, 0.8889972940493411), 1: (-2.9047684954829323, 1.0240703040562322), 2: (-2.5364253775708225, 0.8339342324276606), 3: (-3.1555118136222617, 0.3027295725401529), 4: (-2.8895296285900227, 0.3445555477719186), 5: (-2.7631795717883425, 0.8802491999721397), 6: (-2.1532888377600874, 1.4749397212014501), 7: (-2.4560008242249505, 1.1920402473936702), 8: (-2.2773709480551148, 1.6631240377538137), 9: (-1.764756627759014, 1.296816889456886), 10: (-2.232307502951954, 1.3133557066782828), 11: (-1.9601814565470896, 1.384806360979372), 12: (-1.965456069824239, 1.4458846557008125), 13: (-1.8116449194539956, 1.101064342269118), 14: (-2.3225152232532196, 1.8989268121117908), 15: (-2.537548474940487, 2.410570002577649), 16: (-1.953864859828324, 2.508946414240058), 17: (-2.554648239282023, 2.3335321668092046), 18: (-1.9868002523800306, 2.3009182421682537), 19: (-1.8890930991579387, 1.8726791670528766), 20: (-2.8168319715593673, 1.4099495182455883), 21: (-2.246708920299353, 1.7858328666051917), 22: (-2.132045534876978, 1.9805256466936094), 23: (-1.9574612587694684, 2.377970861978054), 24: (-1.4040590675001983, 2.830939443889691), 25: (-1.8511214185372353, 2.3097509592665384), 26: (-1.6298335207362518, 2.2211861008669382), 27: (-1.9059130040589072, 2.118960976742883), 28: (-1.5708012780635774, 1.9705286967800881), 29: (-2.0352027807018374, 1.995106423583341), 30: (-1.7406054050154112, 1.4414897932455626), 31: (-1.14387506597045, 1.3768259997004337), 32: (-1.4815456475250055, 1.1245543536440168), 33: (-1.277046554065605, 0.9132645283537316), 34: (-2.163753325632547, 1.2522665634017756), 35: (-2.3699344376560307, 1.5467096564035518), 36: (-1.9089584606529106, 1.7945131917881434), 37: (-2.5928206161011325, 1.2989539070809797), 38: (-2.418858722510085, 1.6886747705040428), 39: (-1.6697112180993456, 1.8337023881080592), 40: (-2.5144332340614852, 2.027443096968963), 41: (-2.4866082464980854, 1.624093417401757), 42: (-2.4211451138683193, 1.5035146615818427), 43: (-2.248582108702951, 1.7995217421362237), 44: (-1.8251446752408762, 1.8657295930653712), 45: (-1.7881188476746968, 1.555484164686518)}\n"
     ]
    }
   ],
   "source": [
    "print(time_dict)\n",
    "\n"
   ]
  },
  {
   "cell_type": "code",
   "execution_count": 4,
   "metadata": {},
   "outputs": [
    {
     "name": "stdout",
     "output_type": "stream",
     "text": [
      "[0 0 0 1 0]\n"
     ]
    },
    {
     "name": "stderr",
     "output_type": "stream",
     "text": [
      "c:\\Users\\andyh\\Documents\\Mines\\Methane Project\\methane_pinn_dev\\Net.py:12: UserWarning: nn.init.xavier_uniform is now deprecated in favor of nn.init.xavier_uniform_.\n",
      "  torch.nn.init.xavier_uniform(m.weight)\n"
     ]
    }
   ],
   "source": [
    "sigma=.025\n",
    "model = PINN([100,100,100])\n",
    "source_vals = np.array([1 if i ==active_source_idx else 0 for i in range(len(source_location))])\n",
    "print(source_vals)\n",
    "model.set_location(source_location,[tfinal,x_max,y_max,z_max],source_values=source_vals,sigma=sigma)\n"
   ]
  },
  {
   "cell_type": "code",
   "execution_count": 5,
   "metadata": {},
   "outputs": [],
   "source": [
    "optimizer = torch.optim.Adam(model.net.parameters(), lr=1e-2)\n",
    "# from torch.optim.lr_scheduler import ExponentialLR\n",
    "\n",
    "# scheduler = ExponentialLR(optimizer, gamma=0.999)  # Decay LR by 5% every epoch"
   ]
  },
  {
   "cell_type": "code",
   "execution_count": null,
   "metadata": {},
   "outputs": [
    {
     "name": "stdout",
     "output_type": "stream",
     "text": [
      "epoch: 0, loss: 1.213e+02, grad_norm: 0.000e+00, pde_res: 1.213e+02, time: 2.597e-01\n",
      "epoch: 100, loss: 9.806e+00, grad_norm: 0.000e+00, pde_res: 9.806e+00, time: 2.416e-01\n"
     ]
    }
   ],
   "source": [
    "n= int(5e3)\n",
    "# n=1\n",
    "icn = int(5e3)\n",
    "sn = int(5e3)\n",
    "best_loss = np.inf\n",
    "max_epochs = int(2e4)\n",
    "print_freq = 100\n",
    "\n",
    "sampling_freq = 10 # how often to resample collocation and source points\n",
    "\n",
    "for epoch in range(max_epochs):\n",
    "\n",
    "    start_time = time.time()\n",
    "\n",
    "    if epoch % sampling_freq == 0:\n",
    "\n",
    "        source_collocation_points = model.source_points(sn,sigma*2) \n",
    "        ic_col = torch.cat([torch.zeros(icn,1), torch.rand(icn,1)*x_max, torch.rand(icn,1)*y_max, torch.rand(icn,1)*z_max], dim=1)\n",
    "        collocation_points = torch.cat([torch.rand(n,1)*tfinal, torch.rand(n,1)*x_max*2 - x_max*.5, torch.rand(n,1)*y_max*2- y_max*.5, torch.rand(n,1)*z_max*2 - z_max*.5], dim=1)\n",
    "        # collocation_points = torch.cat([collocation_points,ic_col,source_collocation_points])\n",
    "        collocation_points = torch.cat([collocation_points,source_collocation_points,ic_col])\n",
    "        collocation_points.requires_grad_(True)\n",
    "        # t = np.floor(collocation_points[:,0:1].detach().numpy().flatten())\n",
    "        # uv = torch.tensor([time_dict[t[i]] for i in range(len(t))])\n",
    "        uv = torch.ones(len(collocation_points),2)*20#wind tensor\n",
    "        # uv[:,1:]*= -1\n",
    "    optimizer.zero_grad()\n",
    "\n",
    "    loss_1 ,pde_1 = model.loss_function(collocation_points,uv) # PDE residual loss\n",
    "\n",
    "    loss = loss_1\n",
    "\n",
    "    loss.backward()\n",
    "\n",
    "    # compute norm of gradient of the network\n",
    "    grad_norm = 0\n",
    "    # for p in model.net.parameters():\n",
    "    #     grad_norm += p.grad.data.norm(2).item()**2\n",
    "    # grad_norm = grad_norm**0.5\n",
    "\n",
    "\n",
    "    if loss.item() < best_loss:\n",
    "        torch.save(model,'best_mod.m')\n",
    "    optimizer.step()\n",
    "\n",
    "    end_time = time.time()\n",
    "    epoch_time = end_time - start_time\n",
    "    # scheduler.step()\n",
    "\n",
    "    if epoch % print_freq == 0:\n",
    "\n",
    "        print('epoch: %d, loss: %1.3e, grad_norm: %1.3e, pde_res: %1.3e, time: %1.3e' % (epoch, loss.item(), grad_norm, loss_1.item(), epoch_time))\n",
    "\n"
   ]
  },
  {
   "cell_type": "markdown",
   "metadata": {},
   "source": []
  },
  {
   "cell_type": "code",
   "execution_count": null,
   "metadata": {},
   "outputs": [
    {
     "name": "stdout",
     "output_type": "stream",
     "text": [
      "124.0\n"
     ]
    }
   ],
   "source": [
    "print(x_max)"
   ]
  },
  {
   "cell_type": "code",
   "execution_count": null,
   "metadata": {},
   "outputs": [],
   "source": [
    "model = torch.load('best_mod.m')"
   ]
  },
  {
   "cell_type": "code",
   "execution_count": 15,
   "metadata": {},
   "outputs": [],
   "source": [
    "import matplotlib.pyplot as plt\n",
    "\n",
    "# load the best model \n",
    "Z_value = source_location[active_source_idx,2]\n",
    "# net.load_state_dict(torch.load('best_model.pth'))\n",
    "\n",
    "# Define the grid and time steps\n",
    "n= 100\n",
    "x_grid = np.linspace(0, x_max, n)\n",
    "y_grid = np.linspace(0, y_max, n)\n",
    "z_grid = np.linspace(0, z_max, n)\n",
    "\n",
    "X, Y, = np.meshgrid(x_grid, y_grid)\n",
    "Z= X * 0 + Z_value\n",
    "\n",
    "grid_points = np.vstack([X.ravel(), Y.ravel(), Z.ravel()]).T\n",
    "# grid_points = np.vstack([X.ravel(), Y.ravel(), Z.ravel()]).T  # Flatten the grid\n",
    "grid_points = torch.tensor(grid_points, dtype=torch.float32)\n",
    "\n",
    "time_steps = np.linspace(0, tfinal, 20)  # 10 time steps from 0 to 1\n",
    "\n"
   ]
  },
  {
   "cell_type": "code",
   "execution_count": null,
   "metadata": {},
   "outputs": [
    {
     "name": "stderr",
     "output_type": "stream",
     "text": [
      "C:\\Users\\andyh\\AppData\\Local\\Temp\\ipykernel_47404\\2119100180.py:22: DeprecationWarning: Starting with ImageIO v3 the behavior of this function will switch to that of iio.v3.imread. To keep the current behavior (and make this warning disappear) use `import imageio.v2 as imageio` or call `imageio.v2.imread` directly.\n",
      "  images.append(imageio.imread(f\"concentration_t_{t:.2f}.png\"))  # Append the image to the list\n"
     ]
    }
   ],
   "source": [
    "# save as a GIF\n",
    "import imageio\n",
    "import os\n",
    "\n",
    "images = []\n",
    "# source_loc = torch.tensor([[.5,.5,.5]])\n",
    "source_loc = model.source_locs\n",
    "for t in time_steps:\n",
    "    t_tensor = torch.full((grid_points.shape[0], 1), t, dtype=torch.float32)  # Time input\n",
    "    concentration = model.forward(torch.cat([t_tensor,grid_points],dim=1),scaled=True).cpu().detach().numpy().reshape(100, 100)  # Predict and reshape\n",
    "    \n",
    "    plt.figure()\n",
    "    plt.contourf(X, Y, concentration, levels=50, cmap='viridis', vmin=0, vmax=50)  # Plot concentration as a contour plot\n",
    "    plt.plot(model.source_locs[active_source_idx,0], model.source_locs[active_source_idx,1], 'ro', label='Source Location')  # Plot the source location\n",
    "    plt.colorbar(label='Concentration')\n",
    "    plt.title(f\"Gas Concentration at t = {t:.2f}\")\n",
    "    plt.xlabel('x')\n",
    "    plt.ylabel('y')\n",
    "    plt.savefig(f\"concentration_t_{t:.2f}.png\")  # Save the plot as an image\n",
    "    plt.close()\n",
    "    \n",
    "    images.append(imageio.imread(f\"concentration_t_{t:.2f}.png\"))  # Append the image to the list\n",
    "    os.remove(f\"concentration_t_{t:.2f}.png\")  # Remove the image file\n",
    "\n",
    "imageio.mimsave(f'output_gifs/test_site_example{int(time.time())}.gif', images)  # Save the images as a GIF\n",
    "\n"
   ]
  },
  {
   "cell_type": "code",
   "execution_count": null,
   "metadata": {},
   "outputs": [
    {
     "name": "stdout",
     "output_type": "stream",
     "text": [
      "[[61.84826691 40.32822479  4.5       ]\n",
      " [99.10094831 54.69940709  2.        ]\n",
      " [99.89962676 24.72759871  2.        ]\n",
      " [23.54499552 57.03946784  2.        ]\n",
      " [25.09781584 22.62636785  2.        ]]\n"
     ]
    }
   ],
   "source": [
    "print(source_points)"
   ]
  },
  {
   "cell_type": "code",
   "execution_count": null,
   "metadata": {},
   "outputs": [
    {
     "ename": "AttributeError",
     "evalue": "module 'time' has no attribute 'datetime'",
     "output_type": "error",
     "traceback": [
      "\u001b[1;31m---------------------------------------------------------------------------\u001b[0m",
      "\u001b[1;31mAttributeError\u001b[0m                            Traceback (most recent call last)",
      "Cell \u001b[1;32mIn[50], line 1\u001b[0m\n\u001b[1;32m----> 1\u001b[0m \u001b[38;5;28mprint\u001b[39m(\u001b[43mtime\u001b[49m\u001b[38;5;241;43m.\u001b[39;49m\u001b[43mdatetime\u001b[49m())\n",
      "\u001b[1;31mAttributeError\u001b[0m: module 'time' has no attribute 'datetime'"
     ]
    }
   ],
   "source": [
    "print(time.datetime())"
   ]
  },
  {
   "cell_type": "code",
   "execution_count": null,
   "metadata": {},
   "outputs": [],
   "source": []
  }
 ],
 "metadata": {
  "kernelspec": {
   "display_name": "Python 3",
   "language": "python",
   "name": "python3"
  },
  "language_info": {
   "codemirror_mode": {
    "name": "ipython",
    "version": 3
   },
   "file_extension": ".py",
   "mimetype": "text/x-python",
   "name": "python",
   "nbconvert_exporter": "python",
   "pygments_lexer": "ipython3",
   "version": "3.10.1"
  }
 },
 "nbformat": 4,
 "nbformat_minor": 2
}
