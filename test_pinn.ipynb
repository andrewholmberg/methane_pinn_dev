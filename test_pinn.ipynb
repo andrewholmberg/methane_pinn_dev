{
 "cells": [
  {
   "cell_type": "code",
   "execution_count": 1,
   "metadata": {},
   "outputs": [],
   "source": [
    "import torch\n",
    "from PINN import PINN\n",
    "from Net import Net\n",
    "import numpy as np\n",
    "import pandas as pd\n",
    "import numpy as np\n",
    "import time\n",
    "import os\n",
    "\n",
    "# set default type double\n",
    "default_type = torch.float32\n",
    "torch.set_default_dtype(default_type)\n",
    "torch.set_default_tensor_type('torch.cuda.FloatTensor')\n"
   ]
  },
  {
   "cell_type": "code",
   "execution_count": 2,
   "metadata": {},
   "outputs": [],
   "source": [
    "data_dir = f\"{os.getcwd()}/pinn_test_data\"\n",
    "# load in data\n",
    "df_wind_ch4 = pd.read_csv(data_dir + \"/wind_ch4.csv\")\n",
    "df_true_emission = pd.read_csv(data_dir + \"/selected_controll_release.csv\")\n",
    "source_points = np.load(data_dir + \"/source_points.npy\") # shape=(n_source, 3)\n",
    "sensor_points = np.load(data_dir + \"/sensor_points.npy\") # shape=(n_sensor, 3)\n",
    "#col_points = np.load(data_dir + \"/col_points.npy\")  # shape=(n_col, 3)\n",
    "df_bounds = pd.read_csv(data_dir + \"/bounds.csv\", dtype='float32')\n",
    "x_min = df_bounds['x_min'][0]\n",
    "x_max = df_bounds['x_max'][0]\n",
    "y_min = df_bounds['y_min'][0]\n",
    "y_max = df_bounds['y_max'][0]\n",
    "z_min = df_bounds['z_min'][0]\n",
    "z_max = df_bounds['z_max'][0]\n",
    "\n",
    "\n",
    "ws = df_wind_ch4['wind_speed.m/s'].to_numpy() # shape=(N_t,)\n",
    "wd = df_wind_ch4['wind_direction'].to_numpy() # shape=(N_t,)\n",
    "ch4 = np.transpose(df_wind_ch4.iloc[:, 3:].to_numpy()) # shape=(N_obs, N_t)\n",
    "sensor_names = df_wind_ch4.columns[3:]"
   ]
  },
  {
   "cell_type": "code",
   "execution_count": 3,
   "metadata": {},
   "outputs": [
    {
     "name": "stdout",
     "output_type": "stream",
     "text": [
      "[[61.84826691 40.32822479  4.5       ]\n",
      " [99.10094831 54.69940709  2.        ]\n",
      " [99.89962676 24.72759871  2.        ]\n",
      " [23.54499552 57.03946784  2.        ]\n",
      " [25.09781584 22.62636785  2.        ]]\n"
     ]
    }
   ],
   "source": [
    "print(source_points)"
   ]
  },
  {
   "cell_type": "code",
   "execution_count": 4,
   "metadata": {},
   "outputs": [
    {
     "name": "stderr",
     "output_type": "stream",
     "text": [
      "d:\\andyh\\Documents\\Projects\\mines\\methane_project\\methane_pinn_dev\\Net.py:12: UserWarning: nn.init.xavier_uniform is now deprecated in favor of nn.init.xavier_uniform_.\n",
      "  torch.nn.init.xavier_uniform(m.weight)\n"
     ]
    }
   ],
   "source": [
    "model = PINN([100,100,100])\n",
    "standard_dev = .1\n",
    "tfinal = 4.\n",
    "model.set_location(source_points,[tfinal,x_max,y_max,z_max],source_values=[0,0,0,1,0],sigma = standard_dev)\n",
    "# tfinal = 10."
   ]
  },
  {
   "cell_type": "code",
   "execution_count": 5,
   "metadata": {},
   "outputs": [],
   "source": [
    "optimizer = torch.optim.Adam(model.net.parameters(), lr=1e-5)\n",
    "# from torch.optim.lr_scheduler import ExponentialLR\n",
    "\n",
    "# scheduler = ExponentialLR(optimizer, gamma=0.995)  # Decay LR by 5% every epoch"
   ]
  },
  {
   "cell_type": "code",
   "execution_count": 6,
   "metadata": {},
   "outputs": [
    {
     "name": "stdout",
     "output_type": "stream",
     "text": [
      "epoch: 0, loss: 6.649e+03, grad_norm: 4.381e+05, pde_res: 2.673e+01, time: 3.265e-01\n",
      "epoch: 100, loss: 4.510e+02, grad_norm: 6.214e+04, pde_res: 4.287e+01, time: 1.243e-02\n",
      "epoch: 200, loss: 1.057e+02, grad_norm: 1.271e+04, pde_res: 4.018e+01, time: 1.152e-02\n",
      "epoch: 300, loss: 5.445e+01, grad_norm: 2.747e+03, pde_res: 2.878e+01, time: 1.208e-02\n",
      "epoch: 400, loss: 3.515e+01, grad_norm: 1.584e+03, pde_res: 1.733e+01, time: 1.192e-02\n",
      "epoch: 500, loss: 2.163e+01, grad_norm: 1.315e+03, pde_res: 1.057e+01, time: 1.089e-02\n",
      "epoch: 600, loss: 1.609e+01, grad_norm: 1.057e+03, pde_res: 6.816e+00, time: 1.145e-02\n",
      "epoch: 700, loss: 1.337e+01, grad_norm: 8.822e+02, pde_res: 4.090e+00, time: 1.179e-02\n",
      "epoch: 800, loss: 1.004e+01, grad_norm: 8.483e+02, pde_res: 2.854e+00, time: 1.063e-02\n",
      "epoch: 900, loss: 6.783e+00, grad_norm: 6.669e+02, pde_res: 2.036e+00, time: 1.137e-02\n",
      "epoch: 1000, loss: 5.173e+00, grad_norm: 5.397e+02, pde_res: 1.326e+00, time: 1.166e-02\n",
      "epoch: 1100, loss: 5.555e+00, grad_norm: 5.000e+02, pde_res: 8.864e-01, time: 1.154e-02\n",
      "epoch: 1200, loss: 3.598e+00, grad_norm: 5.696e+02, pde_res: 5.621e-01, time: 1.075e-02\n",
      "epoch: 1300, loss: 3.225e+00, grad_norm: 2.981e+02, pde_res: 2.991e-01, time: 1.174e-02\n",
      "epoch: 1400, loss: 2.810e+00, grad_norm: 2.688e+02, pde_res: 1.728e-01, time: 1.064e-02\n",
      "epoch: 1500, loss: 2.479e+00, grad_norm: 1.919e+02, pde_res: 9.547e-02, time: 1.134e-02\n",
      "epoch: 1600, loss: 2.356e+00, grad_norm: 1.763e+02, pde_res: 5.261e-02, time: 1.248e-02\n",
      "epoch: 1700, loss: 2.409e+00, grad_norm: 1.976e+02, pde_res: 3.915e-02, time: 1.158e-02\n",
      "epoch: 1800, loss: 1.914e+00, grad_norm: 1.575e+02, pde_res: 4.060e-02, time: 1.129e-02\n",
      "epoch: 1900, loss: 2.289e+00, grad_norm: 2.884e+02, pde_res: 3.871e-02, time: 1.106e-02\n",
      "epoch: 2000, loss: 1.851e+00, grad_norm: 2.031e+02, pde_res: 3.944e-02, time: 1.174e-02\n",
      "epoch: 2100, loss: 1.484e+00, grad_norm: 1.178e+02, pde_res: 3.554e-02, time: 1.173e-02\n",
      "epoch: 2200, loss: 1.304e+00, grad_norm: 1.591e+02, pde_res: 4.132e-02, time: 1.139e-02\n",
      "epoch: 2300, loss: 9.385e-01, grad_norm: 8.793e+01, pde_res: 3.838e-02, time: 1.108e-02\n",
      "epoch: 2400, loss: 1.356e+00, grad_norm: 2.652e+02, pde_res: 3.829e-02, time: 1.045e-02\n",
      "epoch: 2500, loss: 8.062e-01, grad_norm: 1.145e+02, pde_res: 3.721e-02, time: 1.230e-02\n",
      "epoch: 2600, loss: 8.066e-01, grad_norm: 1.646e+02, pde_res: 3.754e-02, time: 1.156e-02\n",
      "epoch: 2700, loss: 8.907e-01, grad_norm: 7.371e+01, pde_res: 3.731e-02, time: 1.147e-02\n",
      "epoch: 2800, loss: 9.562e-01, grad_norm: 1.055e+02, pde_res: 4.207e-02, time: 1.152e-02\n",
      "epoch: 2900, loss: 7.125e-01, grad_norm: 1.369e+02, pde_res: 3.931e-02, time: 1.065e-02\n",
      "epoch: 3000, loss: 1.075e+00, grad_norm: 2.967e+02, pde_res: 3.783e-02, time: 1.079e-02\n",
      "epoch: 3100, loss: 6.601e-01, grad_norm: 1.733e+02, pde_res: 4.162e-02, time: 1.090e-02\n",
      "epoch: 3200, loss: 6.186e-01, grad_norm: 8.686e+01, pde_res: 4.204e-02, time: 1.190e-02\n",
      "epoch: 3300, loss: 4.680e-01, grad_norm: 1.087e+02, pde_res: 3.618e-02, time: 1.147e-02\n",
      "epoch: 3400, loss: 5.052e-01, grad_norm: 4.186e+01, pde_res: 3.659e-02, time: 1.074e-02\n",
      "epoch: 3500, loss: 5.088e-01, grad_norm: 1.752e+02, pde_res: 3.995e-02, time: 1.042e-02\n",
      "epoch: 3600, loss: 6.907e-01, grad_norm: 2.570e+02, pde_res: 4.083e-02, time: 1.105e-02\n",
      "epoch: 3700, loss: 4.845e-01, grad_norm: 6.657e+01, pde_res: 3.502e-02, time: 9.806e-03\n",
      "epoch: 3800, loss: 4.837e-01, grad_norm: 5.210e+01, pde_res: 3.724e-02, time: 1.150e-02\n",
      "epoch: 3900, loss: 4.032e-01, grad_norm: 1.018e+02, pde_res: 3.526e-02, time: 1.040e-02\n",
      "epoch: 4000, loss: 3.507e-01, grad_norm: 3.034e+01, pde_res: 3.587e-02, time: 1.048e-02\n",
      "epoch: 4100, loss: 3.742e-01, grad_norm: 6.537e+01, pde_res: 3.583e-02, time: 1.159e-02\n",
      "epoch: 4200, loss: 3.559e-01, grad_norm: 1.035e+02, pde_res: 3.825e-02, time: 1.147e-02\n",
      "epoch: 4300, loss: 4.545e-01, grad_norm: 1.140e+02, pde_res: 3.890e-02, time: 1.031e-02\n",
      "epoch: 4400, loss: 3.420e-01, grad_norm: 9.081e+01, pde_res: 3.876e-02, time: 1.120e-02\n",
      "epoch: 4500, loss: 3.176e-01, grad_norm: 6.731e+01, pde_res: 4.142e-02, time: 1.160e-02\n",
      "epoch: 4600, loss: 2.966e-01, grad_norm: 4.907e+01, pde_res: 3.508e-02, time: 1.039e-02\n",
      "epoch: 4700, loss: 3.681e-01, grad_norm: 5.402e+01, pde_res: 4.378e-02, time: 1.060e-02\n",
      "epoch: 4800, loss: 3.802e-01, grad_norm: 1.006e+02, pde_res: 4.529e-02, time: 1.075e-02\n",
      "epoch: 4900, loss: 2.887e-01, grad_norm: 2.469e+01, pde_res: 4.155e-02, time: 1.145e-02\n",
      "epoch: 5000, loss: 2.911e-01, grad_norm: 5.077e+01, pde_res: 4.033e-02, time: 1.147e-02\n",
      "epoch: 5100, loss: 3.262e-01, grad_norm: 7.427e+01, pde_res: 4.342e-02, time: 1.027e-02\n",
      "epoch: 5200, loss: 2.672e-01, grad_norm: 3.197e+01, pde_res: 4.163e-02, time: 1.082e-02\n",
      "epoch: 5300, loss: 2.356e-01, grad_norm: 4.459e+01, pde_res: 3.749e-02, time: 1.102e-02\n",
      "epoch: 5400, loss: 2.714e-01, grad_norm: 7.033e+01, pde_res: 3.957e-02, time: 1.052e-02\n",
      "epoch: 5500, loss: 2.506e-01, grad_norm: 5.505e+01, pde_res: 4.004e-02, time: 1.070e-02\n",
      "epoch: 5600, loss: 2.512e-01, grad_norm: 4.910e+01, pde_res: 3.839e-02, time: 1.144e-02\n",
      "epoch: 5700, loss: 2.513e-01, grad_norm: 8.796e+01, pde_res: 3.929e-02, time: 1.052e-02\n",
      "epoch: 5800, loss: 1.883e-01, grad_norm: 1.449e+01, pde_res: 3.899e-02, time: 1.164e-02\n",
      "epoch: 5900, loss: 2.000e-01, grad_norm: 5.273e+01, pde_res: 3.884e-02, time: 1.145e-02\n",
      "epoch: 6000, loss: 2.178e-01, grad_norm: 5.863e+01, pde_res: 4.381e-02, time: 1.142e-02\n",
      "epoch: 6100, loss: 2.144e-01, grad_norm: 3.678e+01, pde_res: 4.414e-02, time: 1.040e-02\n",
      "epoch: 6200, loss: 1.897e-01, grad_norm: 2.805e+01, pde_res: 3.986e-02, time: 1.073e-02\n",
      "epoch: 6300, loss: 1.889e-01, grad_norm: 1.672e+01, pde_res: 3.856e-02, time: 1.054e-02\n",
      "epoch: 6400, loss: 1.786e-01, grad_norm: 3.269e+01, pde_res: 3.526e-02, time: 9.716e-03\n",
      "epoch: 6500, loss: 1.846e-01, grad_norm: 2.529e+01, pde_res: 3.540e-02, time: 1.120e-02\n",
      "epoch: 6600, loss: 1.702e-01, grad_norm: 4.214e+01, pde_res: 3.990e-02, time: 1.078e-02\n",
      "epoch: 6700, loss: 1.675e-01, grad_norm: 7.009e+00, pde_res: 4.006e-02, time: 1.066e-02\n",
      "epoch: 6800, loss: 1.523e-01, grad_norm: 1.363e+01, pde_res: 3.373e-02, time: 1.125e-02\n",
      "epoch: 6900, loss: 1.532e-01, grad_norm: 5.611e+01, pde_res: 4.402e-02, time: 1.066e-02\n",
      "epoch: 7000, loss: 1.477e-01, grad_norm: 2.984e+01, pde_res: 3.902e-02, time: 1.133e-02\n",
      "epoch: 7100, loss: 1.411e-01, grad_norm: 9.075e+00, pde_res: 4.013e-02, time: 1.076e-02\n",
      "epoch: 7200, loss: 1.604e-01, grad_norm: 2.027e+01, pde_res: 4.023e-02, time: 1.045e-02\n",
      "epoch: 7300, loss: 1.479e-01, grad_norm: 2.518e+01, pde_res: 4.147e-02, time: 1.116e-02\n",
      "epoch: 7400, loss: 1.329e-01, grad_norm: 5.384e+01, pde_res: 3.725e-02, time: 1.074e-02\n",
      "epoch: 7500, loss: 1.346e-01, grad_norm: 5.716e+01, pde_res: 3.661e-02, time: 1.062e-02\n",
      "epoch: 7600, loss: 1.373e-01, grad_norm: 2.334e+01, pde_res: 3.758e-02, time: 1.014e-02\n",
      "epoch: 7700, loss: 1.526e-01, grad_norm: 1.050e+02, pde_res: 4.100e-02, time: 1.150e-02\n",
      "epoch: 7800, loss: 1.346e-01, grad_norm: 3.248e+01, pde_res: 3.841e-02, time: 9.940e-03\n",
      "epoch: 7900, loss: 1.263e-01, grad_norm: 2.505e+01, pde_res: 3.711e-02, time: 1.077e-02\n",
      "epoch: 8000, loss: 1.333e-01, grad_norm: 1.278e+01, pde_res: 3.900e-02, time: 1.003e-02\n",
      "epoch: 8100, loss: 1.231e-01, grad_norm: 4.375e+01, pde_res: 3.626e-02, time: 1.317e-02\n",
      "epoch: 8200, loss: 1.251e-01, grad_norm: 1.200e+01, pde_res: 3.746e-02, time: 1.274e-02\n",
      "epoch: 8300, loss: 1.167e-01, grad_norm: 2.213e+01, pde_res: 3.834e-02, time: 1.049e-02\n"
     ]
    },
    {
     "ename": "KeyboardInterrupt",
     "evalue": "",
     "output_type": "error",
     "traceback": [
      "\u001b[1;31m---------------------------------------------------------------------------\u001b[0m",
      "\u001b[1;31mKeyboardInterrupt\u001b[0m                         Traceback (most recent call last)",
      "Cell \u001b[1;32mIn[6], line 17\u001b[0m\n\u001b[0;32m     15\u001b[0m source_collocation_points \u001b[38;5;241m=\u001b[39m model\u001b[38;5;241m.\u001b[39msource_points(n_source_samples,standard_dev)\n\u001b[0;32m     16\u001b[0m \u001b[38;5;66;03m# ic_col = torch.cat([torch.rand(sn,1)*tfinal*.1, torch.rand(sn,1)*x_max, torch.rand(sn,1)*y_max, torch.rand(sn,1)*z_max], dim=1)\u001b[39;00m\n\u001b[1;32m---> 17\u001b[0m collocation_points \u001b[38;5;241m=\u001b[39m torch\u001b[38;5;241m.\u001b[39mcat([torch\u001b[38;5;241m.\u001b[39mrand(n,\u001b[38;5;241m1\u001b[39m)\u001b[38;5;241m*\u001b[39mtfinal, torch\u001b[38;5;241m.\u001b[39mrand(n,\u001b[38;5;241m1\u001b[39m)\u001b[38;5;241m*\u001b[39mx_max, torch\u001b[38;5;241m.\u001b[39mrand(n,\u001b[38;5;241m1\u001b[39m)\u001b[38;5;241m*\u001b[39my_max, \u001b[43mtorch\u001b[49m\u001b[38;5;241;43m.\u001b[39;49m\u001b[43mrand\u001b[49m\u001b[43m(\u001b[49m\u001b[43mn\u001b[49m\u001b[43m,\u001b[49m\u001b[38;5;241;43m1\u001b[39;49m\u001b[43m)\u001b[49m\u001b[38;5;241m*\u001b[39mz_max], dim\u001b[38;5;241m=\u001b[39m\u001b[38;5;241m1\u001b[39m)\n\u001b[0;32m     18\u001b[0m collocation_points \u001b[38;5;241m=\u001b[39m torch\u001b[38;5;241m.\u001b[39mempty(\u001b[38;5;241m0\u001b[39m,\u001b[38;5;241m4\u001b[39m)\n\u001b[0;32m     19\u001b[0m \u001b[38;5;66;03m# ic_col = torch.empty(0,4)\u001b[39;00m\n\u001b[0;32m     20\u001b[0m \u001b[38;5;66;03m# ic_col.requires_grad_()\u001b[39;00m\n\u001b[0;32m     21\u001b[0m \u001b[38;5;66;03m# gradual_collocation_points = torch.tensor(spread_sample_source(source_points,[0,1,0,0,0],[30,30,1],50,cycle_freq//sample_freq,(epoch%cycle_freq)//sample_freq,10,10)).float()\u001b[39;00m\n",
      "\u001b[1;31mKeyboardInterrupt\u001b[0m: "
     ]
    }
   ],
   "source": [
    "from sampling_methods import spread_sample_source\n",
    "n= int(3e4)\n",
    "sn = int(5e4)\n",
    "best_loss = np.inf\n",
    "print_freq = 100\n",
    "max_epochs = int(2e4)\n",
    "sample_freq = 5\n",
    "cycle_freq = 50\n",
    "n_source_samples = int(8e2)\n",
    "\n",
    "\n",
    "for epoch in range(max_epochs):\n",
    "    start_time = time.time()\n",
    "    if epoch % sample_freq == 0:\n",
    "        source_collocation_points = model.source_points(n_source_samples,standard_dev)\n",
    "        # ic_col = torch.cat([torch.rand(sn,1)*tfinal*.1, torch.rand(sn,1)*x_max, torch.rand(sn,1)*y_max, torch.rand(sn,1)*z_max], dim=1)\n",
    "        collocation_points = torch.cat([torch.rand(n,1)*tfinal, torch.rand(n,1)*x_max, torch.rand(n,1)*y_max, torch.rand(n,1)*z_max], dim=1)\n",
    "        collocation_points = torch.empty(0,4)\n",
    "        # ic_col = torch.empty(0,4)\n",
    "        # ic_col.requires_grad_()\n",
    "        # gradual_collocation_points = torch.tensor(spread_sample_source(source_points,[0,1,0,0,0],[30,30,1],50,cycle_freq//sample_freq,(epoch%cycle_freq)//sample_freq,10,10)).float()\n",
    "        gradual_collocation_points = torch.tensor(spread_sample_source(source_points,[0,1,0,0,0],[30,30,1],50,20,20,tfinal,10)).float()\n",
    "\n",
    "        collocation_points = torch.cat([collocation_points,source_collocation_points])\n",
    "        wind_vector = torch.ones(len(collocation_points),2)*2\n",
    "        gradual_wind_vector = torch.ones(len(gradual_collocation_points),2)*2\n",
    "        # wind_vector[:,0] *= -1\n",
    "    optimizer.zero_grad()\n",
    "    ic = torch.cat([torch.zeros(len(collocation_points),1),collocation_points[:,1:]],dim=1)\n",
    "    ic.requires_grad_\n",
    "\n",
    "    loss_3 = torch.sum(model.forward(ic)**2)\n",
    "    loss_1 ,pde_1 = model.loss_function(collocation_points,wind_vector) # PDE residual loss\n",
    "    loss_2, pde_2 = model.loss_function(gradual_collocation_points,gradual_wind_vector)\n",
    "    # loss_2,pde_2 = model.loss_function(source_collocation_points, uv_points, source_term = source_values) # source term PDE residual loss \n",
    "    # loss_3 ,pde_3 = model.loss_function(torch.concat([collocation_points,source_collocation_points]),torch.concat([collocation_points,source_collocation_points]))\n",
    "    # loss = loss_1+loss_3*1\n",
    "\n",
    "    loss = loss_1+loss_2\n",
    "    # loss = loss_3+loss_2\n",
    "    # loss = loss_1\n",
    "    loss.backward()\n",
    "\n",
    "    # compute norm of gradient of the network\n",
    "    grad_norm = 0\n",
    "    for p in model.net.parameters():\n",
    "        # if p.grad.data is not None:\n",
    "        if p.grad is not None:\n",
    "            grad_norm += p.grad.data.norm().item()**2\n",
    "    grad_norm = grad_norm**0.5\n",
    "\n",
    "\n",
    "    if loss.item() < best_loss:\n",
    "        torch.save(model,'best_mod.m')\n",
    "    optimizer.step()\n",
    "\n",
    "    end_time = time.time()\n",
    "    epoch_time = end_time - start_time\n",
    "    # scheduler.step()\n",
    "\n",
    "    if epoch % print_freq == 0:\n",
    "\n",
    "        # print epoch and loss using %1.3e format\n",
    "        print('epoch: %d, loss: %1.3e, grad_norm: %1.3e, pde_res: %1.3e, time: %1.3e' % (epoch, loss.item(), grad_norm, loss_1.item(), epoch_time))\n",
    "\n"
   ]
  },
  {
   "cell_type": "code",
   "execution_count": 7,
   "metadata": {},
   "outputs": [
    {
     "data": {
      "text/plain": [
       "'\\n# Plot the concentration over time\\nfor t in time_steps:\\n    t_tensor = torch.full((grid_points.shape[0], 1), t, dtype=torch.float32)  # Time input\\n    concentration = net(grid_points, t_tensor).cpu().detach().numpy().reshape(100, 100)  # Predict and reshape\\n    \\n    plt.figure()\\n    plt.contourf(X, Y, concentration, levels=50, cmap=\\'viridis\\', vmin=0, vmax=10)  # Plot concentration as a contour plot\\n    plt.plot(source_loc[0,0].cpu(), source_loc[0,1].cpu(), \\'ro\\', label=\\'Source Location\\')  # Plot the source location\\n    plt.colorbar(label=\\'Concentration\\')\\n    # fix colorbar from 0 to 1 \\n    # plt.clim(0, 10.0)  # Set colorbar limits\\n    plt.title(f\"Gas Concentration at t = {t:.2f}\")\\n    plt.xlabel(\\'x\\')\\n    plt.ylabel(\\'y\\')\\n    # fix colorbar \\n    # plt.savefig(f\"concentration_t_{t:.2f}.png\")  # Save the plot as an image\\n'"
      ]
     },
     "execution_count": 7,
     "metadata": {},
     "output_type": "execute_result"
    }
   ],
   "source": [
    "import matplotlib.pyplot as plt\n",
    "\n",
    "# load the best model \n",
    "Z_value = 2\n",
    "# net.load_state_dict(torch.load('best_model.pth'))\n",
    "\n",
    "# Define the grid and time steps\n",
    "n= 500\n",
    "x_grid = np.linspace(-x_max, 2.0*x_max, n)\n",
    "y_grid = np.linspace(-y_max, 2.0*y_max, n)\n",
    "z_grid = np.linspace(0, 2, n)\n",
    "x_grid = np.linspace(x_min, x_max, n)\n",
    "y_grid = np.linspace(y_min, y_max, n)\n",
    "z_grid = np.linspace(0, 2, n)\n",
    "X, Y, = np.meshgrid(x_grid, y_grid)\n",
    "Z= X * 0 + Z_value\n",
    "\n",
    "grid_points = np.vstack([X.ravel(), Y.ravel(), Z.ravel()]).T\n",
    "# grid_points = np.vstack([X.ravel(), Y.ravel(), Z.ravel()]).T  # Flatten the grid\n",
    "grid_points = torch.tensor(grid_points).float()\n",
    "\n",
    "time_steps = np.linspace(0, tfinal, 10)  # 10 time steps from 0 to 1\n",
    "\n",
    "\n",
    "'''\n",
    "# Plot the concentration over time\n",
    "for t in time_steps:\n",
    "    t_tensor = torch.full((grid_points.shape[0], 1), t, dtype=torch.float32)  # Time input\n",
    "    concentration = net(grid_points, t_tensor).cpu().detach().numpy().reshape(100, 100)  # Predict and reshape\n",
    "    \n",
    "    plt.figure()\n",
    "    plt.contourf(X, Y, concentration, levels=50, cmap='viridis', vmin=0, vmax=10)  # Plot concentration as a contour plot\n",
    "    plt.plot(source_loc[0,0].cpu(), source_loc[0,1].cpu(), 'ro', label='Source Location')  # Plot the source location\n",
    "    plt.colorbar(label='Concentration')\n",
    "    # fix colorbar from 0 to 1 \n",
    "    # plt.clim(0, 10.0)  # Set colorbar limits\n",
    "    plt.title(f\"Gas Concentration at t = {t:.2f}\")\n",
    "    plt.xlabel('x')\n",
    "    plt.ylabel('y')\n",
    "    # fix colorbar \n",
    "    # plt.savefig(f\"concentration_t_{t:.2f}.png\")  # Save the plot as an image\n",
    "'''"
   ]
  },
  {
   "cell_type": "code",
   "execution_count": null,
   "metadata": {},
   "outputs": [
    {
     "name": "stderr",
     "output_type": "stream",
     "text": [
      "C:\\Users\\andyh\\AppData\\Local\\Temp\\ipykernel_26884\\3240819884.py:23: DeprecationWarning: Starting with ImageIO v3 the behavior of this function will switch to that of iio.v3.imread. To keep the current behavior (and make this warning disappear) use `import imageio.v2 as imageio` or call `imageio.v2.imread` directly.\n",
      "  images.append(imageio.imread(f\"concentration_t_{t:.2f}.png\"))  # Append the image to the list\n"
     ]
    }
   ],
   "source": [
    "# save as a GIF\n",
    "import imageio\n",
    "import os\n",
    "\n",
    "images = []\n",
    "# source_loc = torch.tensor([[.5,.5,.5]])\n",
    "for t in time_steps:\n",
    "    t_tensor = torch.full((grid_points.shape[0], 1), t).float()  # Time input\n",
    "    concentration = model.forward(torch.cat([t_tensor,grid_points],dim=1),scaled=False).cpu().detach().numpy().reshape(n, n)  # Predict and reshape\n",
    "    \n",
    "    plt.figure()\n",
    "    plt.contourf(X, Y, concentration, levels=50, cmap='viridis', vmin=0, vmax=10)  # Plot concentration as a contour plot\n",
    "    plt.plot(model.source_locs[1,0], model.source_locs[1,1], 'ro', label='Source Location')  # Plot the source location\n",
    "    plt.colorbar(label='Concentration')\n",
    "    # plt.title(f\"Gas Concentration at t = {t:.2f}\")\n",
    "    plt.title(f\"t = {t:.2f}\")\n",
    "\n",
    "    plt.xlabel('x')\n",
    "    plt.ylabel('y')\n",
    "    plt.savefig(f\"concentration_t_{t:.2f}.png\")  # Save the plot as an image\n",
    "    plt.close()\n",
    "    \n",
    "    images.append(imageio.imread(f\"concentration_t_{t:.2f}.png\"))  # Append the image to the list\n",
    "    os.remove(f\"concentration_t_{t:.2f}.png\")  # Remove the image file\n",
    "\n",
    "imageio.mimsave(f'test_visual.gif', images)  # Save the images as a GIF"
   ]
  },
  {
   "cell_type": "code",
   "execution_count": 15,
   "metadata": {},
   "outputs": [
    {
     "data": {
      "text/plain": [
       "tensor([0.0000, 0.0000, 0.0000, 2.0078, 0.0000], dtype=torch.float64)"
      ]
     },
     "execution_count": 15,
     "metadata": {},
     "output_type": "execute_result"
    }
   ],
   "source": [
    "model.source_mixture\n",
    "source_term = torch.tensor(np.exp(model.source_mixture.score_samples(model.source_locs)))\n",
    "source_term"
   ]
  },
  {
   "cell_type": "code",
   "execution_count": 16,
   "metadata": {},
   "outputs": [
    {
     "data": {
      "text/plain": [
       "device(type='cuda', index=0)"
      ]
     },
     "execution_count": 16,
     "metadata": {},
     "output_type": "execute_result"
    }
   ],
   "source": [
    "t_tensor.device\n",
    "grid_points.device\n",
    "torch.cat([t_tensor,grid_points],dim=1).device"
   ]
  },
  {
   "cell_type": "code",
   "execution_count": 17,
   "metadata": {},
   "outputs": [
    {
     "name": "stdout",
     "output_type": "stream",
     "text": [
      "[1]\n"
     ]
    }
   ],
   "source": [
    "print(model.source_mixture.weights_)"
   ]
  },
  {
   "cell_type": "code",
   "execution_count": 18,
   "metadata": {},
   "outputs": [
    {
     "data": {
      "text/plain": [
       "Net(\n",
       "  (hidden): ModuleList(\n",
       "    (0): Linear(in_features=4, out_features=100, bias=True)\n",
       "    (1-2): 2 x Linear(in_features=100, out_features=100, bias=True)\n",
       "    (3): Linear(in_features=100, out_features=1, bias=True)\n",
       "  )\n",
       "  (relu): ReLU()\n",
       "  (tanh): Tanh()\n",
       "  (leaky_relu): LeakyReLU(negative_slope=0.1)\n",
       ")"
      ]
     },
     "execution_count": 18,
     "metadata": {},
     "output_type": "execute_result"
    }
   ],
   "source": [
    "model.net"
   ]
  },
  {
   "cell_type": "code",
   "execution_count": null,
   "metadata": {},
   "outputs": [],
   "source": []
  },
  {
   "cell_type": "code",
   "execution_count": null,
   "metadata": {},
   "outputs": [],
   "source": []
  }
 ],
 "metadata": {
  "kernelspec": {
   "display_name": "Python 3",
   "language": "python",
   "name": "python3"
  },
  "language_info": {
   "codemirror_mode": {
    "name": "ipython",
    "version": 3
   },
   "file_extension": ".py",
   "mimetype": "text/x-python",
   "name": "python",
   "nbconvert_exporter": "python",
   "pygments_lexer": "ipython3",
   "version": "3.11.4"
  }
 },
 "nbformat": 4,
 "nbformat_minor": 2
}
